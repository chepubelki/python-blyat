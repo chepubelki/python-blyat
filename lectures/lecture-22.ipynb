{
 "cells": [
  {
   "cell_type": "code",
   "execution_count": 1,
   "metadata": {},
   "outputs": [
    {
     "data": {
      "text/plain": [
       "'/home/chepubelki/Desktop/jupyterCodeBase'"
      ]
     },
     "execution_count": 1,
     "metadata": {},
     "output_type": "execute_result"
    }
   ],
   "source": [
    "import os \n",
    "\n",
    "os.getcwd()"
   ]
  },
  {
   "cell_type": "code",
   "execution_count": 2,
   "metadata": {},
   "outputs": [
    {
     "name": "stdout",
     "output_type": "stream",
     "text": [
      "['new_file.txt']\n"
     ]
    }
   ],
   "source": [
    "txt_files = []\n",
    "\n",
    "for f in os.listdir():\n",
    "    if f.endswith('.txt'):\n",
    "        txt_files.append(f)\n",
    "        \n",
    "print(txt_files)"
   ]
  },
  {
   "cell_type": "code",
   "execution_count": 14,
   "metadata": {},
   "outputs": [
    {
     "name": "stdout",
     "output_type": "stream",
     "text": [
      "<_io.TextIOWrapper name='new_file.txt' mode='r' encoding='UTF-8'>\n"
     ]
    }
   ],
   "source": [
    "f = open('new_file.txt', 'r')\n",
    "print(f)"
   ]
  },
  {
   "cell_type": "code",
   "execution_count": 7,
   "metadata": {},
   "outputs": [],
   "source": [
    "# data = f.read()"
   ]
  },
  {
   "cell_type": "code",
   "execution_count": 15,
   "metadata": {},
   "outputs": [
    {
     "data": {
      "text/plain": [
       "'fghjkhgfdsfsghj\\ngtfghhgertg\\n\\netryjtytryhjtryh\\nergthgjmmghertgh\\ntrhjhmjgtetryhj\\nertghnmhgtretg mnhrhmt'"
      ]
     },
     "execution_count": 15,
     "metadata": {},
     "output_type": "execute_result"
    }
   ],
   "source": [
    "f.read()"
   ]
  },
  {
   "cell_type": "code",
   "execution_count": 10,
   "metadata": {},
   "outputs": [
    {
     "data": {
      "text/plain": [
       "'fghjkhgfdsfsghj\\ngtfghhgertg\\n\\netryjtytryhjtryh\\nergthgjmmghertgh\\ntrhjhmjgtetryhj\\nertghnmhgtretg mnhrhmt'"
      ]
     },
     "execution_count": 10,
     "metadata": {},
     "output_type": "execute_result"
    }
   ],
   "source": []
  },
  {
   "cell_type": "code",
   "execution_count": 16,
   "metadata": {},
   "outputs": [
    {
     "name": "stdout",
     "output_type": "stream",
     "text": [
      "fghjkhgfdsfsghj\n",
      "gtfghhgertg\n",
      "\n",
      "etryjtytryhjtryh\n",
      "ergthgjmmghertgh\n",
      "trhjhmjgtetryhj\n",
      "ertghnmhgtretg mnhrhmt\n"
     ]
    }
   ],
   "source": [
    "f = open('new_file.txt', 'r')\n",
    "\n",
    "data = f.read()\n",
    "\n",
    "print(data)\n",
    "\n",
    "f.close()"
   ]
  },
  {
   "cell_type": "code",
   "execution_count": 31,
   "metadata": {},
   "outputs": [
    {
     "data": {
      "text/plain": [
       "[['name', 'country', 'age'],\n",
       " ['Berik', 'Russia', 22],\n",
       " ['Erbik', 'Prague', 22],\n",
       " ['Aldik', 'Kazakhstan', 21],\n",
       " ['Gena', 'UK', 22],\n",
       " ['Boba', 'USA', 21]]"
      ]
     },
     "execution_count": 31,
     "metadata": {},
     "output_type": "execute_result"
    }
   ],
   "source": [
    "file = open('data.csv', 'r')\n",
    "\n",
    "raw_data = file.readlines()\n",
    "file.close()\n",
    "\n",
    "parsed_data = []\n",
    "\n",
    "for row in raw_data:\n",
    "    parsed_data.append(row.replace('\\n','').split(','))\n",
    "    \n",
    "for i in range(1, len(parsed_data)):\n",
    "    parsed_data[i][-1] = int(parsed_data[i][-1])\n",
    "       \n",
    "       \n",
    "parsed_data"
   ]
  },
  {
   "cell_type": "code",
   "execution_count": 43,
   "metadata": {},
   "outputs": [
    {
     "data": {
      "text/plain": [
       "[['name', 'country', 'age'],\n",
       " ['Berik', 'Russia', 22],\n",
       " ['Erbik', 'Prague', 22],\n",
       " ['Aldik', 'Kazakhstan', 21],\n",
       " ['Gena', 'UK', 22],\n",
       " ['Boba', 'USA', 21]]"
      ]
     },
     "execution_count": 43,
     "metadata": {},
     "output_type": "execute_result"
    }
   ],
   "source": [
    "f = open('data.csv', 'r')\n",
    "\n",
    "header = f.readline().replace('\\n','').split(',')\n",
    "lines = f.readlines()\n",
    "f.close()\n",
    "parsed_data = [header]\n",
    "\n",
    "for i in range(len(lines)):\n",
    "    tmp = lines[i].replace('\\n', '').split(',')\n",
    "    tmp[-1] = int(tmp[-1])\n",
    "    parsed_data.append(tmp)\n",
    "    \n",
    "parsed_data"
   ]
  },
  {
   "cell_type": "code",
   "execution_count": null,
   "metadata": {},
   "outputs": [],
   "source": []
  }
 ],
 "metadata": {
  "kernelspec": {
   "display_name": "Python 3",
   "language": "python",
   "name": "python3"
  },
  "language_info": {
   "codemirror_mode": {
    "name": "ipython",
    "version": 3
   },
   "file_extension": ".py",
   "mimetype": "text/x-python",
   "name": "python",
   "nbconvert_exporter": "python",
   "pygments_lexer": "ipython3",
   "version": "3.10.12"
  }
 },
 "nbformat": 4,
 "nbformat_minor": 2
}
