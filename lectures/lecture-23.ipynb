{
 "cells": [
  {
   "cell_type": "code",
   "execution_count": 3,
   "metadata": {},
   "outputs": [],
   "source": [
    "f = open('new_text.txt', 'w')\n",
    "f.close()"
   ]
  },
  {
   "cell_type": "code",
   "execution_count": 8,
   "metadata": {},
   "outputs": [],
   "source": [
    "f = open('new_text.txt', 'w')\n",
    "\n",
    "data = 'Wecome to my chanel! This chanel was created for to tell my life. Have a good day my reader. =)'\n",
    "\n",
    "f.write(data)\n",
    "\n",
    "f.close()"
   ]
  },
  {
   "cell_type": "code",
   "execution_count": 13,
   "metadata": {},
   "outputs": [],
   "source": [
    "f = open('/home/chepubelki/Desktop/new_text.txt', 'w')\n",
    "\n",
    "data = 'Wecome to my chanel! This chanel was created for to tell my life. Have a good day my reader. =)'\n",
    "\n",
    "f.write(data)\n",
    "\n",
    "f.close()"
   ]
  },
  {
   "cell_type": "code",
   "execution_count": 14,
   "metadata": {},
   "outputs": [
    {
     "name": "stdout",
     "output_type": "stream",
     "text": [
      "Wecome to my chanel! This chanel was created for to tell my life. Have a good day my reader. =)\n"
     ]
    }
   ],
   "source": [
    "f = open('/home/chepubelki/Desktop/new_text.txt', 'r')\n",
    "\n",
    "file_info = f.read()\n",
    "\n",
    "print(file_info)\n",
    "\n",
    "f.close()"
   ]
  },
  {
   "cell_type": "code",
   "execution_count": null,
   "metadata": {},
   "outputs": [],
   "source": []
  }
 ],
 "metadata": {
  "kernelspec": {
   "display_name": "Python 3",
   "language": "python",
   "name": "python3"
  },
  "language_info": {
   "codemirror_mode": {
    "name": "ipython",
    "version": 3
   },
   "file_extension": ".py",
   "mimetype": "text/x-python",
   "name": "python",
   "nbconvert_exporter": "python",
   "pygments_lexer": "ipython3",
   "version": "3.10.12"
  }
 },
 "nbformat": 4,
 "nbformat_minor": 2
}
