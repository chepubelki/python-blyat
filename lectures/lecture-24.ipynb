{
 "cells": [
  {
   "cell_type": "code",
   "execution_count": 8,
   "metadata": {},
   "outputs": [],
   "source": [
    "import csv"
   ]
  },
  {
   "cell_type": "code",
   "execution_count": 9,
   "metadata": {},
   "outputs": [
    {
     "data": {
      "text/plain": [
       "[['name', 'country', 'age'],\n",
       " ['Berik', 'Russia', '22'],\n",
       " ['Erbik', 'Prague', '22'],\n",
       " ['Aldik', 'Kazakhstan', '21'],\n",
       " ['Gena', 'UK', '22'],\n",
       " ['Boba', 'USA', '21']]"
      ]
     },
     "execution_count": 9,
     "metadata": {},
     "output_type": "execute_result"
    }
   ],
   "source": [
    "f = open('data.csv', 'r')\n",
    "data = csv.reader(f)\n",
    "claen_data = []\n",
    "\n",
    "\n",
    "for row in data:\n",
    "    claen_data.append(row)\n",
    "    \n",
    "f.close()\n",
    "claen_data"
   ]
  },
  {
   "cell_type": "code",
   "execution_count": 17,
   "metadata": {},
   "outputs": [],
   "source": [
    "f = open('data.csv', 'r')\n",
    "data = csv.reader(f)\n",
    "claen_data = list(data)\n",
    "\n",
    "for i in range(1, len(claen_data)):\n",
    "    claen_data[i][-1]  = int(claen_data[i][-1])\n",
    "\n",
    "f.close()\n",
    "claen_data"
   ]
  },
  {
   "cell_type": "code",
   "execution_count": 15,
   "metadata": {},
   "outputs": [],
   "source": [
    "score = [\n",
    "    ['id', 'python-score', 'gym-score'],\n",
    "    [13, 76, 83],\n",
    "    [23, 90, 88],\n",
    "    [25, 85, 89],\n",
    "    [64, 87, 87],\n",
    "    [73, 74, 93],\n",
    "    [82, 94, 77],\n",
    "    [91, 92, 90],\n",
    "    [99, 90, 90]\n",
    "]\n",
    "\n",
    "f = open('studen-score.csv', 'w')\n",
    "w = csv.writer(f)\n",
    "\n",
    "for row in score:\n",
    "    w.writerow(row)\n",
    "    \n",
    "f.close()"
   ]
  },
  {
   "cell_type": "code",
   "execution_count": 18,
   "metadata": {},
   "outputs": [
    {
     "name": "stdout",
     "output_type": "stream",
     "text": [
      "{'id': '13', 'python-score': '76', 'gym-score': '83'}\n",
      "{'id': '23', 'python-score': '90', 'gym-score': '88'}\n",
      "{'id': '25', 'python-score': '85', 'gym-score': '89'}\n",
      "{'id': '64', 'python-score': '87', 'gym-score': '87'}\n",
      "{'id': '73', 'python-score': '74', 'gym-score': '93'}\n",
      "{'id': '82', 'python-score': '94', 'gym-score': '77'}\n",
      "{'id': '91', 'python-score': '92', 'gym-score': '90'}\n",
      "{'id': '99', 'python-score': '90', 'gym-score': '90'}\n"
     ]
    }
   ],
   "source": [
    "f = open('studen-score.csv', 'r')\n",
    "data = csv.DictReader(f)\n",
    "\n",
    "for line in data:\n",
    "    print(line)"
   ]
  },
  {
   "cell_type": "code",
   "execution_count": 21,
   "metadata": {},
   "outputs": [],
   "source": [
    "score = [\n",
    "    ['id', 'python-score', 'gym-score'],\n",
    "    [13, 76, 83],\n",
    "    [23, 90, 88],\n",
    "    [25, 85, 89],\n",
    "    [64, 87, 87],\n",
    "    [73, 74, 93],\n",
    "    [82, 94, 77],\n",
    "    [91, 92, 90],\n",
    "    [99, 90, 90]\n",
    "]\n",
    "f = open('student-score.csv', 'w')\n",
    "x = csv.DictWriter(f, score[0])\n",
    "x.writeheader()\n",
    "\n",
    "for i in range(1, len(score)):\n",
    "    tmp = {\n",
    "        score[0][0]: score[i][0],\n",
    "        score[0][1]: score[i][1],\n",
    "        score[0][2]: score[i][2]\n",
    "    }\n",
    "    x.writerow(tmp)\n",
    "\n",
    "f.close()"
   ]
  },
  {
   "cell_type": "code",
   "execution_count": null,
   "metadata": {},
   "outputs": [],
   "source": []
  }
 ],
 "metadata": {
  "kernelspec": {
   "display_name": "Python 3",
   "language": "python",
   "name": "python3"
  },
  "language_info": {
   "codemirror_mode": {
    "name": "ipython",
    "version": 3
   },
   "file_extension": ".py",
   "mimetype": "text/x-python",
   "name": "python",
   "nbconvert_exporter": "python",
   "pygments_lexer": "ipython3",
   "version": "3.10.12"
  }
 },
 "nbformat": 4,
 "nbformat_minor": 2
}
