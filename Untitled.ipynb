{
 "cells": [
  {
   "cell_type": "code",
   "execution_count": null,
   "id": "2c0106d1",
   "metadata": {},
   "outputs": [],
   "source": [
    "print(\"Hello World!\")"
   ]
  },
  {
   "cell_type": "code",
   "execution_count": null,
   "id": "1bc9fb15",
   "metadata": {},
   "outputs": [],
   "source": [
    "user_age = int(input(\"Enter your age: \"))\n",
    "\n",
    "bus_fee = None\n",
    "air_fee = None\n",
    "\n",
    "if (user_age <= 7):\n",
    "    bus_fee = 0\n",
    "elif (user_age <= 18):\n",
    "    bus_fee = 1\n",
    "elif (user_age <= 50):\n",
    "    bus_fee = 5\n",
    "else:\n",
    "    bus_fee = 2\n",
    "    \n",
    "print('Your transportation fee:', bus_fee, \"USD\")"
   ]
  },
  {
   "cell_type": "code",
   "execution_count": null,
   "id": "35b62710",
   "metadata": {},
   "outputs": [],
   "source": [
    "user_age = int(input(\"Enter your age: \"))\n",
    "ticket_type = input(\"Enter ticket type(econom/busines): \")\n",
    "\n",
    "air_fee = None\n",
    "\n",
    "if user_age <= 7:\n",
    "    if ticket_type == \"econom\":\n",
    "        air_fee = 200\n",
    "    elif ticket_type == \"busines\":\n",
    "        air_fee = 400\n",
    "    else:\n",
    "        print('Your ticket class is invalid!')\n",
    "elif user_age <= 18:\n",
    "    if ticket_type == \"econom\":\n",
    "        air_fee = 350\n",
    "    elif ticket_type == \"busines\":\n",
    "        air_fee = 700\n",
    "    else:\n",
    "        print('Your ticket class is invalid!')\n",
    "elif user_age <= 50:\n",
    "    if ticket_type == \"econom\":\n",
    "        air_fee = 600\n",
    "    elif ticket_type == \"busines\":\n",
    "        air_fee = 1200\n",
    "    else:\n",
    "        print('Your ticket class is invalid!')\n",
    "else:\n",
    "    if ticket_type == \"econom\":\n",
    "        air_fee = 400\n",
    "    elif ticket_type == \"busines\":\n",
    "        air_fee = 800\n",
    "    else:\n",
    "        print('Your ticket class is invalid!')\n",
    "        \n",
    "        \n",
    "print('Your transportation fee:', air_fee, \"USD\")"
   ]
  },
  {
   "cell_type": "code",
   "execution_count": 1,
   "id": "d45c7dc2",
   "metadata": {},
   "outputs": [
    {
     "name": "stdout",
     "output_type": "stream",
     "text": [
      "Hello World!\n"
     ]
    }
   ],
   "source": [
    "print(\"Hello World!\")"
   ]
  },
  {
   "cell_type": "code",
   "execution_count": 3,
   "id": "39ad40a2",
   "metadata": {},
   "outputs": [
    {
     "name": "stdout",
     "output_type": "stream",
     "text": [
      "1 3 6 10 15 21 28 36 45 55 66 78 91 105 120 136 153 171 190 210 "
     ]
    }
   ],
   "source": [
    "i = 1\n",
    "res = 0\n",
    "\n",
    "while i <= 20: \n",
    "    res += i\n",
    "    print(res, end=' ')\n",
    "    i += 1\n"
   ]
  },
  {
   "cell_type": "code",
   "execution_count": 2,
   "id": "a7ddbed3",
   "metadata": {},
   "outputs": [
    {
     "name": "stdout",
     "output_type": "stream",
     "text": [
      "0 2 4 6 8 10 12 14 16 18 20 22 24 26 28 30 32 34 36 38 40 42 44 46 48 50 52 54 56 58 60 62 64 66 68 70 72 74 76 78 80 82 84 86 88 90 92 94 96 98 100 "
     ]
    }
   ],
   "source": [
    "i = 0\n",
    "\n",
    "while i <= 100:\n",
    "    if i % 2 == 0:\n",
    "        print(i, end=' ') \n",
    "    i += 1"
   ]
  },
  {
   "cell_type": "code",
   "execution_count": 1,
   "id": "e74bef0c",
   "metadata": {},
   "outputs": [
    {
     "name": "stdout",
     "output_type": "stream",
     "text": [
      "0 2 4 6 8 10 12 14 16 18 20 22 24 26 28 30 32 34 36 38 40 42 44 46 48 50 52 54 56 58 60 62 64 66 68 70 72 74 76 78 80 82 84 86 88 90 92 94 96 98 100 "
     ]
    }
   ],
   "source": [
    "for i in range(0, 101, 1): \n",
    "    if i % 2 == 0: \n",
    "        print(i, end=' ')\n",
    "        "
   ]
  },
  {
   "cell_type": "markdown",
   "id": "f3e1009d",
   "metadata": {},
   "source": [
    "Задача 2: У вас есть список чисел: [1, 2, 3, 1, 2, 3]. Твоя задача - поменять местами каждые два соседних числа и получить новый список. Например, из списка [1, 2, 3, 1, 2, 3] сделать [2, 1, 1, 3, 3, 2]."
   ]
  },
  {
   "cell_type": "code",
   "execution_count": 11,
   "id": "7418d6de",
   "metadata": {},
   "outputs": [
    {
     "name": "stdout",
     "output_type": "stream",
     "text": [
      "[2, 3, 1, 2, 3, 1]\n"
     ]
    }
   ],
   "source": [
    "listOne = [1, 2, 3, 1, 2, 3]\n",
    "\n",
    "def neighbourSwitch(value):\n",
    "    for i in range(0, len(value) - 1, 1):\n",
    "        value[i], value[i + 1] = value[i + 1], value[i] \n",
    "    \n",
    "    return value\n",
    "    \n",
    "print(neighbourSwitch(listOne))"
   ]
  },
  {
   "cell_type": "code",
   "execution_count": 1,
   "id": "6e6c90f8",
   "metadata": {},
   "outputs": [
    {
     "name": "stdout",
     "output_type": "stream",
     "text": [
      "{'a': 1, 'b': 2, 'c': 3}\n"
     ]
    }
   ],
   "source": [
    "my_dict = {'b': 2, 'a': 1, 'c': 3}\n",
    "sorted_dict_values = dict(sorted(my_dict.items(), key=lambda item: item[1]))\n",
    "print(sorted_dict_values)"
   ]
  },
  {
   "cell_type": "code",
   "execution_count": 1,
   "id": "c26d5397",
   "metadata": {},
   "outputs": [
    {
     "name": "stdout",
     "output_type": "stream",
     "text": [
      "qwerty\n"
     ]
    }
   ],
   "source": [
    "str = 'd'\n",
    "word = 'qwerty'\n",
    "\n",
    "print(word.replace('a',str))"
   ]
  },
  {
   "cell_type": "code",
   "execution_count": 28,
   "id": "65a398bf",
   "metadata": {},
   "outputs": [
    {
     "name": "stdout",
     "output_type": "stream",
     "text": [
      "TTTT\n",
      "TAACG\n",
      "CATA\n",
      "GTAT\n"
     ]
    }
   ],
   "source": [
    "def DNA_strand(dna):\n",
    "    # code here\n",
    "    dna = list(dna)\n",
    "    for i in range(len(dna)):\n",
    "        if dna[i] == 'A':\n",
    "            dna[i] = 'T'\n",
    "        elif dna[i] == 'T':\n",
    "            dna[i] = 'A'\n",
    "        elif dna[i] == 'C':\n",
    "            dna[i] = 'G'\n",
    "        elif dna[i] == 'G':\n",
    "            dna[i] = 'C'\n",
    "            \n",
    "    return ''.join(dna)\n",
    "\n",
    "print(DNA_strand('AAAA'))\n",
    "print(DNA_strand('ATTGC'))\n",
    "print(DNA_strand('GTAT'))\n",
    "print(DNA_strand('CATA'))"
   ]
  },
  {
   "cell_type": "code",
   "execution_count": null,
   "id": "dfe7696d",
   "metadata": {},
   "outputs": [],
   "source": []
  },
  {
   "cell_type": "code",
   "execution_count": null,
   "id": "fc8a2a5e",
   "metadata": {},
   "outputs": [],
   "source": []
  },
  {
   "cell_type": "code",
   "execution_count": null,
   "id": "3cf6aff4",
   "metadata": {},
   "outputs": [],
   "source": []
  }
 ],
 "metadata": {
  "kernelspec": {
   "display_name": "Python 3 (ipykernel)",
   "language": "python",
   "name": "python3"
  },
  "language_info": {
   "codemirror_mode": {
    "name": "ipython",
    "version": 3
   },
   "file_extension": ".py",
   "mimetype": "text/x-python",
   "name": "python",
   "nbconvert_exporter": "python",
   "pygments_lexer": "ipython3",
   "version": "3.10.12"
  }
 },
 "nbformat": 4,
 "nbformat_minor": 5
}
