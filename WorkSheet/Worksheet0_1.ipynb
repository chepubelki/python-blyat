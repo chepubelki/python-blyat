{
 "cells": [
  {
   "cell_type": "markdown",
   "metadata": {},
   "source": [
    "**0) При помощи одного вызыва функции ```input()``` введите имя и фамилию через пробел."
   ]
  },
  {
   "cell_type": "code",
   "execution_count": 1,
   "metadata": {},
   "outputs": [
    {
     "name": "stdout",
     "output_type": "stream",
     "text": [
      "ведите имя и фамилию через пробел: dfgsdfg sdfgsdf\n",
      "dfgsdfg sdfgsdf\n"
     ]
    }
   ],
   "source": [
    "#Код\n",
    "fullName = input(\"ведите имя и фамилию через пробел: \")\n",
    "print(fullName)"
   ]
  },
  {
   "cell_type": "markdown",
   "metadata": {},
   "source": [
    "**1) Напишите выражение, равное 65. Например: 50 + 15; 72-7; 10 * 6 + 5 и. т. д. Попробуйте использовать больше арифметических операторов.**"
   ]
  },
  {
   "cell_type": "code",
   "execution_count": null,
   "metadata": {},
   "outputs": [],
   "source": [
    "#Код\n",
    "print(50 + 15)\n",
    "print(72-7)\n",
    "print(10 * 6 + 5)\n",
    "print(12 * 5 + 5)\n",
    "print(66 - 1)\n",
    "print(int(195 / 3))\n",
    "print(8 ** 2 + 1)\n",
    "print(555 % 70)"
   ]
  },
  {
   "cell_type": "markdown",
   "metadata": {},
   "source": [
    "**2) Напишите уравнение, которое использует умножение, деление, показатель степени, сложение и вычитание, равное 70.25.**"
   ]
  },
  {
   "cell_type": "code",
   "execution_count": null,
   "metadata": {},
   "outputs": [],
   "source": [
    "#Код\n",
    "print((4 * 4 / 2) ** 2 + 8 - 1.75)"
   ]
  },
  {
   "cell_type": "markdown",
   "metadata": {},
   "source": [
    "**3) Какой тип имеет результат выражения 3 + 1,5 + 4?**"
   ]
  },
  {
   "cell_type": "code",
   "execution_count": null,
   "metadata": {},
   "outputs": [],
   "source": [
    "#Код\n",
    "print(3 + 1.5 + 4)\n",
    "print(3 + 1, 5 + 4)"
   ]
  },
  {
   "cell_type": "markdown",
   "metadata": {},
   "source": [
    "**4) Что бы вы использовали, чтобы найти квадратный корень числа, а также его квадрат? Приведите примеры.**"
   ]
  },
  {
   "cell_type": "code",
   "execution_count": 7,
   "metadata": {},
   "outputs": [
    {
     "name": "stdout",
     "output_type": "stream",
     "text": [
      "Введите первое число: 23\n",
      "Введите второе число: 2\n",
      "4\n",
      "529\n"
     ]
    }
   ],
   "source": [
    "#Код\n",
    "def squareRootAndSquare(firstNum, secondNum):\n",
    "    squareRoot_exampleOne = firstNum ** 0.5\n",
    "    \n",
    "    square_exampleOne = firstNum ** secondNum\n",
    "\n",
    "    print(int(squareRoot_exampleOne))\n",
    "    print(square_exampleOne)\n",
    "\n",
    "    \n",
    "a = int(input(\"Введите первое число: \"))\n",
    "b = int(input(\"Введите второе число: \"))\n",
    "squareRootAndSquare(a, b)"
   ]
  },
  {
   "cell_type": "markdown",
   "metadata": {},
   "source": [
    "**5) Какой остаток дает число 100 при делении на 7?**"
   ]
  },
  {
   "cell_type": "code",
   "execution_count": null,
   "metadata": {},
   "outputs": [],
   "source": [
    "#Код\n",
    "print(100 % 7)"
   ]
  },
  {
   "cell_type": "markdown",
   "metadata": {},
   "source": [
    "**6) 7 в 3-й степени?**"
   ]
  },
  {
   "cell_type": "code",
   "execution_count": null,
   "metadata": {},
   "outputs": [],
   "source": [
    "#Код\n",
    "print(7 ** 3)"
   ]
  },
  {
   "cell_type": "markdown",
   "metadata": {},
   "source": [
    "**7) Прочитайте два целых числа и выведите три строки, где:**\n",
    "\n",
    "а) Первая строка содержит сумму двух чисел.\n",
    "\n",
    "б) Вторая строка содержит разницу двух чисел (первое - второе).\n",
    "\n",
    "в) Третья строка содержит произведение двух чисел.\n",
    "\n",
    "**Tip**: <code>a = int(input())</code>"
   ]
  },
  {
   "cell_type": "code",
   "execution_count": 8,
   "metadata": {},
   "outputs": [
    {
     "name": "stdout",
     "output_type": "stream",
     "text": [
      "Первое число: 23\n",
      "Второе число: 13\n",
      "36\n",
      "10\n",
      "299\n"
     ]
    }
   ],
   "source": [
    "#Код\n",
    "a = int(input(\"Первое число: \"))\n",
    "b = int(input(\"Второе число: \"))\n",
    "\n",
    "print(a + b)\n",
    "print(a - b)\n",
    "print(a * b)"
   ]
  },
  {
   "cell_type": "markdown",
   "metadata": {},
   "source": [
    "**8) Прочитайте два целых числа и выведите две строки.** \n",
    "\n",
    "a) Первая строка должна содержать целочисленное деление(integer division), <code>//</code>. \n",
    "\n",
    "b) Вторая строка должна содержать деление на число с плавающей запятой(float division), <code>/</code>."
   ]
  },
  {
   "cell_type": "code",
   "execution_count": null,
   "metadata": {},
   "outputs": [],
   "source": [
    "#Код\n",
    "a = int(input(\"Первое число: \"))\n",
    "b = int(input(\"Второе число: \"))\n",
    "\n",
    "print(a // b)\n",
    "print(a / b)"
   ]
  },
  {
   "cell_type": "markdown",
   "metadata": {},
   "source": [
    "# Прекрасная работа!"
   ]
  },
  {
   "cell_type": "code",
   "execution_count": null,
   "metadata": {},
   "outputs": [],
   "source": []
  },
  {
   "cell_type": "code",
   "execution_count": null,
   "metadata": {},
   "outputs": [],
   "source": []
  }
 ],
 "metadata": {
  "kernelspec": {
   "display_name": "Python 3 (ipykernel)",
   "language": "python",
   "name": "python3"
  },
  "language_info": {
   "codemirror_mode": {
    "name": "ipython",
    "version": 3
   },
   "file_extension": ".py",
   "mimetype": "text/x-python",
   "name": "python",
   "nbconvert_exporter": "python",
   "pygments_lexer": "ipython3",
   "version": "3.11.5"
  }
 },
 "nbformat": 4,
 "nbformat_minor": 2
}
