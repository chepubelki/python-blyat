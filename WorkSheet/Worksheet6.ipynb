{
 "cells": [
  {
   "cell_type": "markdown",
   "metadata": {},
   "source": [
    "# Проверьте и найдите все ошибки в строках кода ниже и исправьте их. \n",
    "\n",
    "\n",
    "Пожалуйста, будьте осторожны, есть не только синтаксические ошибки, но и ошибки реализации. Чтобы исправить ошибки, связанные с реализациями, внимательно проверьте **ожидаемые результаты.**\n",
    "\n",
    "Некоторые из блоков кода содержат более одной ошибки, имейте это в виду.\n",
    "Запустите каждый блок кода, просмотрите сообщения об ошибках (или разницу с ожидаемыми результатами) и исправьте их (одно за другим).\n",
    "\n",
    "\n",
    "**Обратите внимание: не перезаписывайте код, просто исправьте ошибки, и коды будут работать.**"
   ]
  },
  {
   "cell_type": "code",
   "execution_count": 43,
   "metadata": {},
   "outputs": [
    {
     "name": "stdout",
     "output_type": "stream",
     "text": [
      "Hello my name is Brad\n"
     ]
    }
   ],
   "source": [
    "arr1 = [\"Hello\",\"my\",\"name\",\"is\"]\n",
    "name = \"Brad\"\n",
    "arr1.append(name)\n",
    "print(\" \".join(arr1))"
   ]
  },
  {
   "cell_type": "markdown",
   "metadata": {},
   "source": [
    "### Ожидаемый результат:\n",
    "```\n",
    "Hello my name is Brad\n",
    "```"
   ]
  },
  {
   "cell_type": "code",
   "execution_count": 44,
   "metadata": {},
   "outputs": [
    {
     "data": {
      "text/plain": [
       "(100, -10)"
      ]
     },
     "execution_count": 44,
     "metadata": {},
     "output_type": "execute_result"
    }
   ],
   "source": [
    "def findMaxMin(arr):\n",
    "    if len(arr)==0:\n",
    "        return \"List is empty\"\n",
    "    maxNum = max(arr)\n",
    "    minNum = min(arr)\n",
    "    return (maxNum, minNum)\n",
    "\n",
    "arr2 = [100,-10,20,1,0]\n",
    "findMaxMin(arr2)"
   ]
  },
  {
   "cell_type": "markdown",
   "metadata": {},
   "source": [
    "### Ожидаемый результат:\n",
    "```\n",
    "(100, -10)\n",
    "```"
   ]
  },
  {
   "cell_type": "code",
   "execution_count": 45,
   "metadata": {},
   "outputs": [
    {
     "name": "stdout",
     "output_type": "stream",
     "text": [
      "Brad Pitt USA\n"
     ]
    }
   ],
   "source": [
    "def concatStrings(**kwargs):\n",
    "    name = kwargs[\"name\"]\n",
    "    familyName = kwargs[\"family\"]\n",
    "    country = kwargs[\"country\"]\n",
    "    result = \" \".join([name, familyName, country])\n",
    "    return result\n",
    "\n",
    "print(concatStrings(name=\"Brad\", family=\"Pitt\", country=\"USA\"))"
   ]
  },
  {
   "cell_type": "markdown",
   "metadata": {},
   "source": [
    "### Ожидаемый результат:\n",
    "```\n",
    "Brad Pitt USA\n",
    "```"
   ]
  },
  {
   "cell_type": "code",
   "execution_count": 46,
   "metadata": {},
   "outputs": [
    {
     "name": "stdout",
     "output_type": "stream",
     "text": [
      "[2, 3, 4]\n"
     ]
    }
   ],
   "source": [
    "arr3 = list(range(20))\n",
    "\n",
    "def sliceList(arr, *args):\n",
    "    start_elem, end_elem, step_elem = args\n",
    "    return arr[start_elem:end_elem+1:step_elem]\n",
    "\n",
    "print(sliceList(arr3,2,4,1)) # Эта строка кода не содержит ошибок\n"
   ]
  },
  {
   "cell_type": "markdown",
   "metadata": {},
   "source": [
    "### Ожидаемый результат:\n",
    "```\n",
    "[2, 3, 4]\n",
    "```"
   ]
  },
  {
   "cell_type": "code",
   "execution_count": 5,
   "metadata": {},
   "outputs": [
    {
     "name": "stdout",
     "output_type": "stream",
     "text": [
      "List is None\n",
      "49.49999999999999\n"
     ]
    }
   ],
   "source": [
    "def calcMean(arr=None):\n",
    "    if not arr:\n",
    "        return \"List is None\"\n",
    "    else:\n",
    "        ave = 0\n",
    "        for num in arr:\n",
    "            ave += num/len(arr)\n",
    "        return ave\n",
    "\n",
    "arr4 = list(range(0,100,3))\n",
    "print(calcMean()) \n",
    "print(calcMean(arr4))   "
   ]
  },
  {
   "cell_type": "markdown",
   "metadata": {},
   "source": [
    "### Ожидаемый результат:\n",
    "```\n",
    "List is None\n",
    "49.49999999999999\n",
    "```"
   ]
  },
  {
   "cell_type": "code",
   "execution_count": 48,
   "metadata": {},
   "outputs": [
    {
     "name": "stdout",
     "output_type": "stream",
     "text": [
      "0123\n",
      "4567\n",
      "89\n"
     ]
    }
   ],
   "source": [
    "def concatNumbers(arr):\n",
    "    ans = \"\"\n",
    "    for i in range(len(arr)):\n",
    "        ans += str(arr[i])\n",
    "        if (i+1) % 4 == 0:\n",
    "            ans += \"\\n\"\n",
    "    return ans\n",
    "\n",
    "arr5 = list(range(10))\n",
    "print(concatNumbers(arr5))"
   ]
  },
  {
   "cell_type": "markdown",
   "metadata": {},
   "source": [
    "### Ожидаемый результат:\n",
    "```\n",
    "0123\n",
    "4567\n",
    "89\n",
    "```"
   ]
  },
  {
   "cell_type": "code",
   "execution_count": 49,
   "metadata": {},
   "outputs": [
    {
     "name": "stdout",
     "output_type": "stream",
     "text": [
      "['Worksheet5.ipynb', 'Worksheet6.ipynb', 'Worksheet1.ipynb', 'Worksheet0_1.ipynb', 'filesfile_with_metaphor.txt', 'files', 'Worksheet3.ipynb', 'Worksheet0.ipynb', 'Worksheet4.ipynb', 'Worksheet2.ipynb']\n"
     ]
    }
   ],
   "source": [
    "import os\n",
    "\n",
    "listFiles = os.listdir()\n",
    "\n",
    "print(listFiles)"
   ]
  },
  {
   "cell_type": "markdown",
   "metadata": {},
   "source": [
    "### Ожидаемый результат:\n",
    "\n",
    "**Список всех файлов в текущей рабочей папке.**\n",
    "\n",
    "Пример:\n",
    "\n",
    "```\n",
    "['.DS_Store', '.ipynb_checkpoints', '.Worksheet6.ipynb.swp', 'annual-enterprise-survey-2018-financial-year-provisional-csv.csv', 'Basics-hw1-prob.ipynb', 'Basics-hw1-sol.ipynb', 'Basics-hw2-prob.ipynb', 'Basics-hw2-sol.ipynb', 'Basics-hw3-prob.ipynb', 'Basics-hw4-prob.ipynb', 'Basics-hw5-prob.ipynb', 'Basics-hw5-sol.ipynb', 'Basics-hw6-prob.ipynb', 'Basics-hw6-sol.ipynb', 'Basics-hw7-prob.ipynb', 'Basics-hw7-sol.ipynb', 'Basics-hw8-prob.ipynb', 'Basics-hw8-sol.ipynb', 'figures.csv', 'Files-hw1-prob.ipynb', 'Files-hw2-prob.ipynb', 'Files-hw2-sol.ipynb', 'FizzBuzz_prob.ipynb', 'FizzBuzz_sol.ipynb', 'Functions-hw1-prob.ipynb', 'Functions-hw1-sol.ipynb', 'Functions-hw2-prob.ipynb', 'Functions-hw2-sol.ipynb', 'Functions-hw3-prob.ipynb', 'Functions-hw3-sol.ipynb', 'Modules-hw1', 'Modules-hw2', 'OOP-hw1-prob.ipynb', 'OOP-hw1-sol.ipynb', 'OOP-hw2-prob.ipynb', 'OOP-hw2-sol.ipynb', 'OOP-hw3-prob.ipynb', 'OOP-hw3-sol.ipynb', 'OOP-hw4-prob.ipynb', 'OOP-hw4-sol.ipynb', 'OOP-hw5-prob.ipynb', 'OOP-hw5-sol.ipynb', 'OOP-hw6-prob.ipynb', 'OOP-hw6-sol.ipynb', 'OOP-hw7-prob.ipynb', 'OOP-hw7-sol.ipynb', 'README.md', 'Worksheet0.ipynb', 'Worksheet1.ipynb', 'Worksheet2.ipynb', 'Worksheet3.ipynb', 'Worksheet4.ipynb', 'Worksheet5.ipynb', 'Worksheet6.ipynb']\n",
    "```"
   ]
  },
  {
   "cell_type": "code",
   "execution_count": 50,
   "metadata": {},
   "outputs": [
    {
     "name": "stdout",
     "output_type": "stream",
     "text": [
      "Metaphor: \"Kill two birds in one stone\"\n",
      "['file_with_metaphor.txt']\n"
     ]
    }
   ],
   "source": [
    "direc = \"./files\"\n",
    "directoryExists = os.path.exists(direc)\n",
    "\n",
    "text = 'Metaphor: \"Kill two birds in one stone\"'\n",
    "\n",
    "if not directoryExists:\n",
    "    os.mkdir(direc)\n",
    "    \n",
    "with open(direc + \"/file_with_metaphor.txt\", \"w\") as output:\n",
    "    output.write(text)\n",
    "    \n",
    "with open(direc + \"/file_with_metaphor.txt\", \"r\") as file:\n",
    "    text = file.read()\n",
    "    print(text)\n",
    "\n",
    "print(os.listdir(direc))"
   ]
  },
  {
   "cell_type": "markdown",
   "metadata": {},
   "source": [
    "### Ожидаемый результат:\n",
    "```\n",
    "Metaphor: \"Kill two birds in one stone\"\n",
    "['file_with_metaphor.txt']\n",
    "```"
   ]
  },
  {
   "cell_type": "code",
   "execution_count": 51,
   "metadata": {},
   "outputs": [
    {
     "name": "stdout",
     "output_type": "stream",
     "text": [
      "My name is Laika, I have 4 legs and can say Gaf Gaf. \n",
      "I am 3 years old\n"
     ]
    }
   ],
   "source": [
    "class Animal:\n",
    "    def __init__(self, **kwargs):\n",
    "        self.__name = kwargs[\"name\"]\n",
    "        self.__num_legs = kwargs[\"num_legs\"]\n",
    "        self.__voice = kwargs[\"voice\"]\n",
    "    \n",
    "    def get_voice(self):\n",
    "        return self.__voice\n",
    "    \n",
    "    def get_name(self):\n",
    "        return self.__name\n",
    "    \n",
    "    def get_legs(self):\n",
    "        return self.__num_legs\n",
    "    \n",
    "\n",
    "class Dog(Animal):\n",
    "    def __init__(self, name=None, voice=None, num_legs=None, age=None):\n",
    "        super().__init__(name=name, voice=voice, num_legs=num_legs, age=age)\n",
    "        self.age = age\n",
    "\n",
    "    def __str__(self):\n",
    "        return f\"My name is {self.get_name()}, I have {self.get_legs()} legs and can say {self.get_voice()}. \\nI am {self.age} years old\"\n",
    "\n",
    "\n",
    "dog1 = Dog(name=\"Laika\",voice=\"Gaf Gaf\", num_legs=4, age=3)\n",
    "print(dog1)"
   ]
  },
  {
   "cell_type": "markdown",
   "metadata": {},
   "source": [
    "### Ожидаемый результат:\n",
    "```\n",
    "My name is Laika, I have 4 legs and can say Gaf Gaf. \n",
    "I am 3 years old\n",
    "```"
   ]
  },
  {
   "cell_type": "code",
   "execution_count": 52,
   "metadata": {},
   "outputs": [
    {
     "name": "stdout",
     "output_type": "stream",
     "text": [
      "John Wick is adult male\n"
     ]
    }
   ],
   "source": [
    "def generalInfo(gender=None, ageGroup=None):\n",
    "    def personInfo(name=None, familyName=None):\n",
    "        information = f\"{name} {familyName}\"\n",
    "        return f\"{information} is {ageGroup} {gender}\"\n",
    "\n",
    "    return personInfo\n",
    "\n",
    "per1 = generalInfo(gender=\"male\",ageGroup=\"adult\")\n",
    "print(per1(name=\"John\", familyName=\"Wick\"))"
   ]
  },
  {
   "cell_type": "markdown",
   "metadata": {},
   "source": [
    "### Ожидаемый результат:\n",
    "```\n",
    "John Wick is adult male\n",
    "```"
   ]
  },
  {
   "cell_type": "code",
   "execution_count": 53,
   "metadata": {},
   "outputs": [
    {
     "name": "stdout",
     "output_type": "stream",
     "text": [
      "{'emphasizes', 'approach', 'first', 'run', 'high-level,', 'readability', 'constructs', 'by', 'late', 'supports', 'large-scale', 'multiple', 'significant', 'major', 'design', 'python`s', 'list', 'successor', 'created', 'aim', 'object-oriented,', 'a', 'as', '0,', 'abc', 'garbage-collected', 'was', 'with', 'it', 'cycles', 'comprehensive', 'like', 'that', 'comprehensions', 'of', '1980s', 'conceived', '[27]', 'whitespace', 'projects', 'library', 'guido', 'completely', 'including', 'language', 'help', 'philosophy', 'its', 'an', 'backward-compatible,', 'unmodified', 'small', 'capable', '\"batteries', 'is', 'included\"', 'introduced', 'van', 'often', 'functional', 'collection', '2000,', 'logical', 'described', 'the', 'on', '3', 'general-purpose', 'standard', 'write', 'programmers', 'to', 'dynamically', '[28]', 'system', '2', 'python', 'use', 'collecting', 'rossum', 'notable', 'not', 'programming', '1991,', 'for', 'reference', 'due', 'clear,', 'in', 'paradigms,', 'and', 'garbage', 'features', '2008,', 'typed', 'code', 'object-oriented', 'released', 'does', 'procedural,', 'much', 'interpreted,', 'revision'}\n"
     ]
    }
   ],
   "source": [
    "def getVocab(inputString):\n",
    "    inputString = inputString.lower().replace(\".\",\" \")\n",
    "    parsed = inputString.split()\n",
    "    vocab = set(parsed)\n",
    "    return vocab, parsed\n",
    "wikipediaText = 'Python is an interpreted, high-level, general-purpose programming language. Created by Guido van Rossum and first released in 1991, Python`s design philosophy emphasizes code readability with its notable use of significant whitespace. Its language constructs and object-oriented approach aim to help programmers write clear, logical code for small and large-scale projects.[27] Python is dynamically typed and garbage-collected. It supports multiple programming paradigms, including procedural, object-oriented, and functional programming. Python is often described as a \"batteries included\" language due to its comprehensive standard library.[28] Python was conceived in the late 1980s as a successor to the ABC language. Python 2.0, released in 2000, introduced features like list comprehensions and a garbage collection system capable of collecting reference cycles. Python 3.0, released in 2008, was a major revision of the language that is not completely backward-compatible, and much Python 2 code does not run unmodified on Python 3.'\n",
    "\n",
    "vocab = getVocab(wikipediaText)\n",
    "print(vocab[0])"
   ]
  },
  {
   "cell_type": "markdown",
   "metadata": {},
   "source": [
    "### Ожидаемый результат:\n",
    "```\n",
    "{'help', 'is', 'unmodified', 'functional', 'including', 'in', 'conceived', 'guido', 'reference', '1980s', '3', 'much', 'of', 'supports', '2000,', 'logical', 'system', 'with', 'rossum', 'completely', 'general-purpose', 'on', 'typed', 'readability', 'aim', 'often', 'interpreted,', 'list', 'object-oriented,', 'was', 'first', 'revision', 'object-oriented', 'clear,', 'backward-compatible,', 'procedural,', 'design', 'python', 'large-scale', 'described', 'a', 'notable', 'code', 'philosophy', 'capable', '[28]', '2008,', 'garbage-collected', 'van', 'that', 'created', 'comprehensions', 'abc', 'for', 'cycles', 'late', 'its', 'included\"', 'introduced', 'high-level,', 'library', '0,', 'write', 'garbage', 'run', 'as', 'programming', 'use', '\"batteries', 'due', 'significant', 'features', 'dynamically', 'multiple', 'not', 'standard', 'major', 'an', 'python`s', 'and', 'collecting', 'to', '2', 'projects', 'programmers', 'whitespace', 'collection', 'does', 'small', 'by', 'like', '1991,', 'emphasizes', 'it', 'successor', 'constructs', '[27]', 'approach', 'the', 'comprehensive', 'released', 'language', 'paradigms,'}\n",
    "```"
   ]
  },
  {
   "cell_type": "code",
   "execution_count": 54,
   "metadata": {},
   "outputs": [
    {
     "name": "stdout",
     "output_type": "stream",
     "text": [
      "[76, 54, 48, 101, 4, 67, 82, 44, 18, 7, 41, 57, 79, 90, 2, 97, 88, 83, 15, 14, 46, 0, 95, 5, 27, 47, 80, 77, 34, 12, 38, 47, 44, 6, 90, 96, 1, 19, 71, 45, 70, 69, 87, 62, 95, 84, 51, 90, 10, 39, 37, 76, 54, 72, 94, 90, 25, 28, 9, 11, 82, 89, 43, 99, 20, 90, 59, 82, 76, 54, 58, 63, 22, 21, 53, 55, 44, 86, 71, 47, 30, 68, 40, 73, 76, 26, 36, 88, 64, 8, 35, 22, 21, 17, 71, 64, 24, 44, 76, 75, 23, 97, 88, 61, 56, 92, 31, 16, 33, 90, 21, 91, 60, 74, 52, 34, 78, 85, 29, 76, 66, 23, 97, 88, 93, 26, 21, 13, 102, 34, 64, 44, 32, 54, 81, 42, 49, 90, 100, 76, 75, 95, 98, 81, 3, 50, 65, 76, 66]\n"
     ]
    }
   ],
   "source": [
    "def generateVector(inputString):\n",
    "    vocab, parsed = getVocab(inputString)\n",
    "    word2idx = {}\n",
    "    for idx, word in enumerate(vocab):\n",
    "        word2idx[word] = idx\n",
    "        \n",
    "    vector = []\n",
    "    for word in parsed:\n",
    "        vector.append(word2idx[word])\n",
    "\n",
    "    return vector\n",
    "\n",
    "print(generateVector(wikipediaText))"
   ]
  },
  {
   "cell_type": "markdown",
   "metadata": {},
   "source": [
    "### Ожидаемый результат:\n",
    "```\n",
    "[37, 1, 77, 26, 59, 20, 66, 101, 50, 89, 7, 48, 18, 79, 30, 100, 5, 91, 78, 36, 43, 92, 42, 23, 17, 56, 41, 67, 12, 70, 85, 56, 101, 95, 79, 32, 97, 24, 81, 0, 84, 62, 33, 15, 42, 53, 88, 79, 38, 83, 96, 37, 1, 72, 22, 79, 47, 93, 13, 73, 66, 102, 4, 35, 28, 79, 3, 66, 37, 1, 25, 39, 65, 40, 68, 57, 101, 69, 81, 56, 99, 75, 60, 45, 37, 29, 6, 5, 98, 55, 9, 65, 40, 94, 81, 98, 52, 101, 37, 82, 61, 100, 5, 14, 58, 71, 90, 27, 51, 79, 40, 63, 86, 16, 44, 12, 80, 8, 54, 37, 10, 61, 100, 5, 46, 29, 40, 76, 31, 12, 98, 101, 49, 1, 74, 19, 34, 79, 11, 37, 82, 42, 87, 74, 64, 2, 21, 37, 10]\n",
    "```"
   ]
  },
  {
   "cell_type": "code",
   "execution_count": 55,
   "metadata": {},
   "outputs": [
    {
     "name": "stdout",
     "output_type": "stream",
     "text": [
      "I am a human object\n"
     ]
    }
   ],
   "source": [
    "class Cat(Animal):\n",
    "    def __init__(self, name=None, age=None, gender=None,num_legs=None, voice=None):\n",
    "        super().__init__(name=name, age=age, gender=gender, num_legs=num_legs, voice=voice)\n",
    "        self.age = age\n",
    "        self.gender=gender\n",
    "    \n",
    "    def __str__(self):\n",
    "        # return f\"My name is {self.get_name()}, and I am {self.age} years old. My gender is {self.gender}\"\n",
    "        return 'I am a human object'\n",
    "        \n",
    "cat1 = Cat(\"Lilly\",4,\"female\")\n",
    "print(cat1)"
   ]
  },
  {
   "cell_type": "markdown",
   "metadata": {},
   "source": [
    "### Ожидаемый результат:\n",
    "```\n",
    "I am a human object\n",
    "```"
   ]
  },
  {
   "cell_type": "code",
   "execution_count": 56,
   "metadata": {},
   "outputs": [
    {
     "name": "stdout",
     "output_type": "stream",
     "text": [
      "My name is Jackie, I am 1 years old. I have 4 legs\n"
     ]
    }
   ],
   "source": [
    "class Puppy(Dog):\n",
    "    def __init__(self, name=None, age=None, gender=None, num_legs=None):\n",
    "        super().__init__(name=name, age=age, num_legs=num_legs)\n",
    "        self.gender = gender\n",
    "    \n",
    "    def __str__(self):\n",
    "        return f\"My name is {self.get_name()}, I am {self.age} years old. I have {self.get_legs()} legs\"\n",
    "\n",
    "pup1 = Puppy(name=\"Jackie\", age=1, gender=\"male\", num_legs=4)\n",
    "print(pup1)"
   ]
  },
  {
   "cell_type": "markdown",
   "metadata": {},
   "source": [
    "### Ожидаемый результат:\n",
    "```\n",
    "My name is Jackie, I am 1 years old. I have 4 legs\n",
    "```"
   ]
  },
  {
   "cell_type": "markdown",
   "metadata": {},
   "source": [
    "# Прекрасная Работа!!!"
   ]
  }
 ],
 "metadata": {
  "kernelspec": {
   "display_name": "Python 3",
   "language": "python",
   "name": "python3"
  },
  "language_info": {
   "codemirror_mode": {
    "name": "ipython",
    "version": 3
   },
   "file_extension": ".py",
   "mimetype": "text/x-python",
   "name": "python",
   "nbconvert_exporter": "python",
   "pygments_lexer": "ipython3",
   "version": "3.10.12"
  }
 },
 "nbformat": 4,
 "nbformat_minor": 2
}
