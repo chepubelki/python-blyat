{
 "cells": [
  {
   "cell_type": "markdown",
   "metadata": {},
   "source": [
    "### Разбор времени и даты [Домашнее задание]"
   ]
  },
  {
   "cell_type": "markdown",
   "metadata": {},
   "source": [
    "### Задания:\n",
    "\n",
    "1. Загрузите данные из следующего CSV-файла **\"scrubbed.csv\"** (который прикреплен к видео)\n",
    "\n",
    "2. Найдите, какой из столбцов содержит информацию о дате и времени.\n",
    "\n",
    "3. Измените дату и время в столбце на следующее: '10/10/1949 20:30' -> 'October 10 of 1949 at 08:30 PM'\n",
    "\n",
    "4. Сохраните данные с обновленным форматом даты и времени в новый файл в формате csv **\"format_scrubbed.csv\"**\n",
    "\n"
   ]
  },
  {
   "cell_type": "code",
   "execution_count": 2,
   "metadata": {},
   "outputs": [],
   "source": [
    "import csv\n",
    "import datetime as dt"
   ]
  },
  {
   "cell_type": "code",
   "execution_count": 7,
   "metadata": {},
   "outputs": [],
   "source": [
    "with open('scrubbed.csv', 'r') as file:\n",
    "    new_data=[]\n",
    "    \n",
    "    data = csv.DictReader(file)\n",
    "    for row in data:\n",
    "        if '24:00' in row['datetime']:\n",
    "            row['datetime'] = row['datetime'].replace('24:00', '00:00')\n",
    "\n",
    "        date = dt.datetime.strptime(row['datetime'], \"%m/%d/%Y %H:%M\")\n",
    "        format_date = date.strftime(\"%B %d of %Y at %I:%M %p\")\n",
    "        row['datetime'] = format_date\n",
    "        \n",
    "        new_data.append(row)\n",
    "\n",
    "    # for row in new_data:\n",
    "    #     print(row)\n",
    "        \n",
    "    fieldnames = ['datetime', 'city', 'state', 'country', 'shape',\n",
    "                    'duration (seconds)', 'duration (hours/min)', 'comments', 'date posted', 'latitude', 'longitude ']\n",
    "    with open('format_scrubbed.csv', 'w') as new_file:\n",
    "        format_data = csv.DictWriter(new_file, fieldnames=fieldnames)\n",
    "        format_data.writeheader()\n",
    "        format_data.writerows(new_data)"
   ]
  },
  {
   "cell_type": "code",
   "execution_count": null,
   "metadata": {},
   "outputs": [],
   "source": []
  }
 ],
 "metadata": {
  "kernelspec": {
   "display_name": "Python 3",
   "language": "python",
   "name": "python3"
  },
  "language_info": {
   "codemirror_mode": {
    "name": "ipython",
    "version": 3
   },
   "file_extension": ".py",
   "mimetype": "text/x-python",
   "name": "python",
   "nbconvert_exporter": "python",
   "pygments_lexer": "ipython3",
   "version": "3.10.12"
  }
 },
 "nbformat": 4,
 "nbformat_minor": 2
}
