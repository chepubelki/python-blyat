{
 "cells": [
  {
   "cell_type": "markdown",
   "metadata": {},
   "source": [
    "### Разбор времени и даты [Домашнее задание]"
   ]
  },
  {
   "cell_type": "markdown",
   "metadata": {},
   "source": [
    "### Задания:\n",
    "\n",
    "1. Загрузите данные из следующего CSV-файла **\"scrubbed.csv\"** (который прикреплен к видео)\n",
    "\n",
    "2. Найдите, какой из столбцов содержит информацию о дате и времени.\n",
    "\n",
    "3. Измените дату и время в столбце на следующее: '10/10/1949 20:30' -> 'October 10 of 1949 at 08:30 PM'\n",
    "\n",
    "4. Сохраните данные с обновленным форматом даты и времени в новый файл в формате csv **\"format_scrubbed.csv\"**\n",
    "\n"
   ]
  }
 ],
 "metadata": {
  "kernelspec": {
   "display_name": "Python 3",
   "language": "python",
   "name": "python3"
  },
  "language_info": {
   "codemirror_mode": {
    "name": "ipython",
    "version": 3
   },
   "file_extension": ".py",
   "mimetype": "text/x-python",
   "name": "python",
   "nbconvert_exporter": "python",
   "pygments_lexer": "ipython3",
   "version": "3.6.5"
  }
 },
 "nbformat": 4,
 "nbformat_minor": 2
}
