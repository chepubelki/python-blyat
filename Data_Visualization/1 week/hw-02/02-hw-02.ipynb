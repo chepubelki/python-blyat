{
 "cells": [
  {
   "cell_type": "markdown",
   "metadata": {},
   "source": [
    "### Очистка и подготовка данных [Домашнее задание]"
   ]
  },
  {
   "cell_type": "markdown",
   "metadata": {},
   "source": [
    "Загрузите следующий файл Excel «synthetic_data.csv» и выполните все методы очистки и предварительной обработки, которые вы изучили в лекции. \n",
    "\n",
    "Наконец, сохраните новые «очищенные» данные в новый CSV-файл «cleaned_synthetic_data.csv»"
   ]
  },
  {
   "cell_type": "markdown",
   "metadata": {},
   "source": [
    "Примечание: вы можете использовать функции, классы, модули, пакеты и т. д. для выполнения домашней работы."
   ]
  },
  {
   "cell_type": "code",
   "execution_count": 3,
   "metadata": {},
   "outputs": [
    {
     "name": "stdout",
     "output_type": "stream",
     "text": [
      "{'id': '1', 'gender': 'male', 'nationality': 'Kazakhstan', 'city': 'Aktobe', 'data of birth': 1990}\n",
      "{'id': '2', 'gender': 'female', 'nationality': 'Russia', 'city': 'Moscow', 'data of birth': 1956}\n",
      "{'id': '3', 'gender': 'male', 'nationality': 'Kazakhstan', 'city': 'Astana', 'data of birth': 2001}\n",
      "{'id': '4', 'gender': 'female', 'nationality': 'Kazakhstan', 'city': 'Nur-Sultan', 'data of birth': 2019}\n",
      "{'id': '5', 'gender': 'male', 'nationality': 'Russia', 'city': 'Saint Petersburg', 'data of birth': 1999}\n",
      "{'id': '6', 'gender': 'female', 'nationality': 'Ukraine', 'city': 'Kiev', 'data of birth': 1989}\n",
      "{'id': '7', 'gender': 'unknown', 'nationality': 'Kazakhstan', 'city': 'Almaty', 'data of birth': 2008}\n",
      "{'id': '8', 'gender': 'male', 'nationality': 'Korea', 'city': 'Pusan', 'data of birth': 1999}\n",
      "{'id': '9', 'gender': 'female', 'nationality': 'Korea', 'city': 'Busan', 'data of birth': 1980}\n"
     ]
    }
   ],
   "source": [
    "import csv\n",
    "\n",
    "with open('synthetic_data.csv', 'r') as file:\n",
    "    data = csv.DictReader(file)\n",
    "    new_data = []\n",
    "    for row in data:\n",
    "        if 'gender' in row:\n",
    "            row['gender'] = str(row['gender'].replace('(', '').replace(')', '').lower().strip()) \n",
    "            if len(row['gender']) == 0:\n",
    "                row['gender'] = 'unknown'\n",
    "        if 'nationality' in row:\n",
    "            row['nationality'] = row['nationality'].title().replace('[', '').replace(']', '')\n",
    "        if 'city' in row:\n",
    "            row['city'] = row['city'].title()\n",
    "        if 'data of birth' in row:\n",
    "            row['data of birth'] =  [int(i) for i in row['data of birth'].split('-')] # дальше мозгов не хватило написать в одну строку\n",
    "            row['data of birth'] = round(sum(row['data of birth'])/len(row['data of birth']))\n",
    "        new_data.append(row)\n",
    "    for row in new_data: print(row)# вывод данных\n",
    "    with open('cleaned_synthetic_data.csv', 'w') as clean_file:\n",
    "        writer = csv.writer(clean_file)\n",
    "        writer.writerow(('id','gender','nationality','city','data of birth'))\n",
    "        for row in new_data:\n",
    "            writer.writerow((row['id'],row['gender'],row['nationality'],row['city'],row['data of birth']))\n",
    "            "
   ]
  },
  {
   "cell_type": "code",
   "execution_count": null,
   "metadata": {},
   "outputs": [],
   "source": []
  }
 ],
 "metadata": {
  "kernelspec": {
   "display_name": "Python 3",
   "language": "python",
   "name": "python3"
  },
  "language_info": {
   "codemirror_mode": {
    "name": "ipython",
    "version": 3
   },
   "file_extension": ".py",
   "mimetype": "text/x-python",
   "name": "python",
   "nbconvert_exporter": "python",
   "pygments_lexer": "ipython3",
   "version": "3.10.12"
  }
 },
 "nbformat": 4,
 "nbformat_minor": 2
}
