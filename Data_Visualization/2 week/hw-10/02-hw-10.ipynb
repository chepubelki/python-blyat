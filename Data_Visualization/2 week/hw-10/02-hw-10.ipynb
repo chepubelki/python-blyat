{
 "cells": [
  {
   "cell_type": "markdown",
   "metadata": {},
   "source": [
    "### NumPy: Логическое индексирование [Домашнее задание]\n",
    "> **Вы должны импортировать все необходимые пакеты самостоятельно.**\n",
    "\n",
    "> **Пишите код только там, где это показано для записи. Не удаляйте комментарии!**\n",
    " "
   ]
  },
  {
   "cell_type": "markdown",
   "metadata": {},
   "source": [
    "1. Пожалуйста, напишите функцию ```load_data(filename)```, которая будет загружать данные из csv-файла в список списков. Пожалуйста, напишите функцию load_data (имя файла), которая будет загружать данные из csv-файла в список списков. Файл ```Social_Network_Ads.csv``` предоставлен вместе с этим jupyter notebook.\n",
    "\n",
    "\n",
    "**Примечание:** В случае, если имя файла задано неверно, функция ```load_data``` должна вывести следующее сообщение об ошибке:\n",
    "\n",
    "```{имя файла} does not exist```"
   ]
  },
  {
   "cell_type": "code",
   "execution_count": 2,
   "metadata": {},
   "outputs": [],
   "source": [
    "# Начало вашего кода\n",
    "import numpy as np\n",
    "import csv\n",
    "import os\n",
    "\n",
    "\n",
    "def load_data(filename=None):\n",
    "    if not os.path.exists(filename):\n",
    "        return f\"./{filename} does not exist\", None\n",
    "    \n",
    "    with open(filename, 'r') as file:\n",
    "        reader = csv.DictReader(file)\n",
    "        data = []\n",
    "        header = reader.fieldnames\n",
    "        for row in reader:\n",
    "            row_data = []\n",
    "            row['User ID'] = int(row['User ID'])\n",
    "            row['Gender'] = row['Gender'].title()\n",
    "            row['Age'] = int(row['Age'])\n",
    "            row['EstimatedSalary'] = int(row['EstimatedSalary'])\n",
    "            row['Purchased'] = int(row['Purchased'])\n",
    "            for col in header:\n",
    "                row_data.append(row[col])\n",
    "            data.append(row_data)\n",
    "\n",
    "    return header, data\n",
    "# Конец вашего кода"
   ]
  },
  {
   "cell_type": "code",
   "execution_count": 3,
   "metadata": {},
   "outputs": [],
   "source": [
    "filename = \"SocialNetworkAds.csv\"\n",
    "header, data = load_data(filename=filename)"
   ]
  },
  {
   "cell_type": "markdown",
   "metadata": {},
   "source": [
    "### Ожидаемый результат:\n",
    "\n",
    "```\n",
    "./SocialNetworkAds.csv does not exist\n",
    "```"
   ]
  },
  {
   "cell_type": "code",
   "execution_count": 4,
   "metadata": {},
   "outputs": [
    {
     "name": "stdout",
     "output_type": "stream",
     "text": [
      "./SocialNetworkAds.csv does not exist\n",
      "None\n"
     ]
    }
   ],
   "source": [
    "print(header)\n",
    "print(data)"
   ]
  },
  {
   "cell_type": "markdown",
   "metadata": {},
   "source": [
    "### Ожидаемый результат:\n",
    "\n",
    "```\n",
    "None\n",
    "None\n",
    "```"
   ]
  },
  {
   "cell_type": "code",
   "execution_count": 5,
   "metadata": {},
   "outputs": [],
   "source": [
    "filename = \"./Social_Network_Ads.csv\"\n",
    "header, data = load_data(filename=filename)"
   ]
  },
  {
   "cell_type": "code",
   "execution_count": 6,
   "metadata": {},
   "outputs": [
    {
     "name": "stdout",
     "output_type": "stream",
     "text": [
      "['User ID', 'Gender', 'Age', 'EstimatedSalary', 'Purchased']\n"
     ]
    }
   ],
   "source": [
    "print(header)"
   ]
  },
  {
   "cell_type": "markdown",
   "metadata": {},
   "source": [
    "### Ожидаемый результат:\n",
    "\n",
    "```\n",
    "['User ID', 'Gender', 'Age', 'EstimatedSalary', 'Purchased']\n",
    "```"
   ]
  },
  {
   "cell_type": "code",
   "execution_count": 7,
   "metadata": {},
   "outputs": [
    {
     "name": "stdout",
     "output_type": "stream",
     "text": [
      "[15624510, 'Male', 19, 19000, 0]\n",
      "[15810944, 'Male', 35, 20000, 0]\n",
      "[15668575, 'Female', 26, 43000, 0]\n",
      "[15603246, 'Female', 27, 57000, 0]\n",
      "[15804002, 'Male', 19, 76000, 0]\n"
     ]
    }
   ],
   "source": [
    "for i in range(5):\n",
    "    print(data[i])"
   ]
  },
  {
   "cell_type": "markdown",
   "metadata": {},
   "source": [
    "### Ожидаемый результат:\n",
    "\n",
    "```\n",
    "['15624510', 'Male', '19', '19000', '0']\n",
    "['15810944', 'Male', '35', '20000', '0']\n",
    "['15668575', 'Female', '26', '43000', '0']\n",
    "['15603246', 'Female', '27', '57000', '0']\n",
    "['15804002', 'Male', '19', '76000', '0']\n",
    "```"
   ]
  },
  {
   "cell_type": "markdown",
   "metadata": {},
   "source": [
    "2. Пожалуйста, напишите функцию ```preprocess_data(data)```, которая преобразует все элементы типа ```str``` в списке ```data``` в целые числа.\n",
    "\n",
    "\n",
    "**Подсказка:** в случае \"Male\" и \"Female\" возможно следующее преобразование:\n",
    "\n",
    "* заменить \"Male\" на число 0\n",
    "\n",
    "* заменить \"Female\" на число 1"
   ]
  },
  {
   "cell_type": "code",
   "execution_count": 8,
   "metadata": {},
   "outputs": [],
   "source": [
    "#Начало вашего кода\n",
    "def preprocess_data(data):\n",
    "    for i in data:\n",
    "        if i[1] == 'Male':\n",
    "            i[1] = 0\n",
    "        elif i[1] == 'Female':\n",
    "            i[1] = 1\n",
    "    return data\n",
    "#Конец вашего кода"
   ]
  },
  {
   "cell_type": "code",
   "execution_count": 9,
   "metadata": {},
   "outputs": [],
   "source": [
    "filt_data = preprocess_data(data=data)"
   ]
  },
  {
   "cell_type": "code",
   "execution_count": 10,
   "metadata": {},
   "outputs": [
    {
     "name": "stdout",
     "output_type": "stream",
     "text": [
      "[15624510, 0, 19, 19000, 0]\n",
      "[15810944, 0, 35, 20000, 0]\n",
      "[15668575, 1, 26, 43000, 0]\n",
      "[15603246, 1, 27, 57000, 0]\n",
      "[15804002, 0, 19, 76000, 0]\n"
     ]
    }
   ],
   "source": [
    "for i in range(5):\n",
    "    print(filt_data[i])"
   ]
  },
  {
   "cell_type": "markdown",
   "metadata": {},
   "source": [
    "### Ожидаемый результат:\n",
    "\n",
    "```\n",
    "[15624510, 0, 19, 19000, 0]\n",
    "[15810944, 0, 35, 20000, 0]\n",
    "[15668575, 1, 26, 43000, 0]\n",
    "[15603246, 1, 27, 57000, 0]\n",
    "[15804002, 0, 19, 76000, 0]\n",
    "```"
   ]
  },
  {
   "cell_type": "markdown",
   "metadata": {},
   "source": [
    "2. Вы должны реализовать функцию ```salary_info(data, gender=None)```. Используя логическое индексирование, рассчитайте максимальное, минимальное, среднее, и стандартное отклонение зарплаты."
   ]
  },
  {
   "cell_type": "code",
   "execution_count": 11,
   "metadata": {},
   "outputs": [],
   "source": [
    "#Начало вашего кода\n",
    "def salary_info(data, gender=None):\n",
    "    np_data = np.array(data)\n",
    "    max_salary = None\n",
    "    min_salary = None\n",
    "    mean_salary = None\n",
    "    std_salary = None\n",
    "    gender_text = ''\n",
    "        \n",
    "    if gender != None:\n",
    "        gender = gender.lower()\n",
    "\n",
    "    gender_idx = {'male': 0, 'female': 1}\n",
    "\n",
    "    if gender is not None:\n",
    "        gender = gender.lower()\n",
    "        gender_filter\n",
    "        \n",
    "    \n",
    "    if gender == 0:\n",
    "        gender_filter = np_data[:, 1] == 0\n",
    "        gender_text = 'only Male'\n",
    "    elif gender == 1:\n",
    "        gender_filter = np_data[:, 1] == 1\n",
    "        gender_text = 'only Female'\n",
    "    else:\n",
    "        gender_filter = np.ones(len(np_data), dtype=bool)\n",
    "        gender_text = 'both genders'\n",
    "    \n",
    "    filtered_salary = np_data[gender_filter, 3]\n",
    "    \n",
    "    if len(filtered_salary) > 0:\n",
    "        max_salary = filtered_salary.max()\n",
    "        min_salary = filtered_salary.min()\n",
    "        mean_salary = filtered_salary.mean()\n",
    "        std_salary = filtered_salary.std()\n",
    "        # \n",
    "    print(f'This statisctics are for {gender_text}:')\n",
    "    print('Max salary: {:.2f} USD'.format(max_salary))\n",
    "    print('Min salary: {:.2f} USD'.format(min_salary))\n",
    "    print('Mean salary: {:.2f} USD'.format(mean_salary))\n",
    "    print('Std of salary: {:.2f} USD'.format(std_salary))\n",
    "\n",
    "#Конец вашего кода"
   ]
  },
  {
   "cell_type": "code",
   "execution_count": 12,
   "metadata": {},
   "outputs": [
    {
     "name": "stdout",
     "output_type": "stream",
     "text": [
      "This statisctics are for both genders:\n",
      "Max salary: 150000.00 USD\n",
      "Min salary: 15000.00 USD\n",
      "Mean salary: 69742.50 USD\n",
      "Std of salary: 34054.31 USD\n"
     ]
    }
   ],
   "source": [
    "salary_info(filt_data)"
   ]
  },
  {
   "cell_type": "markdown",
   "metadata": {},
   "source": [
    "### Ожидаемый результат:\n",
    "\n",
    "```\n",
    "This statisctics are for both genders:\n",
    "Max salary: 150000.00 USD\n",
    "Min salary: 15000.00 USD\n",
    "Mean salary: 69742.50 USD\n",
    "Std of salary: 34054.31 USD\n",
    "```"
   ]
  },
  {
   "cell_type": "code",
   "execution_count": 13,
   "metadata": {},
   "outputs": [
    {
     "name": "stdout",
     "output_type": "stream",
     "text": [
      "This statisctics are for only Female:\n",
      "Max salary: 150000.00 USD\n",
      "Min salary: 15000.00 USD\n",
      "Mean salary: 71759.80 USD\n",
      "Std of salary: 35507.89 USD\n"
     ]
    }
   ],
   "source": [
    "salary_info(filt_data, gender=\"Female\")"
   ]
  },
  {
   "cell_type": "markdown",
   "metadata": {},
   "source": [
    "### Ожидаемый результат:\n",
    "\n",
    "```\n",
    "This statisctics are for only Female:\n",
    "Max salary: 150000.00 USD\n",
    "Min salary: 15000.00 USD\n",
    "Mean salary: 71759.80 USD\n",
    "Std of salary: 35507.89 USD\n",
    "```"
   ]
  },
  {
   "cell_type": "code",
   "execution_count": 14,
   "metadata": {},
   "outputs": [
    {
     "name": "stdout",
     "output_type": "stream",
     "text": [
      "This statisctics are for only Male:\n",
      "Max salary: 150000.00 USD\n",
      "Min salary: 15000.00 USD\n",
      "Mean salary: 67642.86 USD\n",
      "Std of salary: 32339.00 USD\n"
     ]
    }
   ],
   "source": [
    "salary_info(filt_data, gender=\"male\")"
   ]
  },
  {
   "cell_type": "markdown",
   "metadata": {},
   "source": [
    "### Ожидаемый результат:\n",
    "\n",
    "```\n",
    "This statisctics are for only Male:\n",
    "Max salary: 150000.00 USD\n",
    "Min salary: 15000.00 USD\n",
    "Mean salary: 67642.86 USD\n",
    "Std of salary: 32339.00 USD\n",
    "```"
   ]
  },
  {
   "cell_type": "markdown",
   "metadata": {},
   "source": [
    "3. Вы должны реализовать функцию ```age_info(data, gender=None)```. Используя логическое индексирование, рассчитайте максимальное, минимальное, среднее, и стандартное отклонение возрастов."
   ]
  },
  {
   "cell_type": "code",
   "execution_count": 15,
   "metadata": {},
   "outputs": [],
   "source": [
    "#Начало вашего кода \n",
    "def age_info(data, gender=None):\n",
    "    np_data = np.array(data)\n",
    "    max_age = None\n",
    "    min_age = None\n",
    "    mean_age = None\n",
    "    std_age = None\n",
    "    gender_text = ''\n",
    "    \n",
    "    if gender != None:\n",
    "        gender = gender.lower()\n",
    "\n",
    "    if gender == 'male':\n",
    "        gender = 0\n",
    "    elif gender == 'female':\n",
    "        gender = 1\n",
    "\n",
    "    if gender == 0:\n",
    "        gender_filter = np_data[:, 1] == 0\n",
    "        gender_text = 'only Male'\n",
    "    elif gender == 1:\n",
    "        gender_filter = np_data[:, 1] == 1\n",
    "        gender_text = 'only Female'\n",
    "    else:\n",
    "        gender_filter = np.ones(len(np_data), dtype=bool)\n",
    "        gender_text = 'both genders'\n",
    "    \n",
    "    filtered_salary = np_data[gender_filter, 2]\n",
    "    \n",
    "    if len(filtered_salary) > 0:\n",
    "        max_age = filtered_salary.max()\n",
    "        min_age = filtered_salary.min()\n",
    "        mean_age = filtered_salary.mean()\n",
    "        std_age = filtered_salary.std()\n",
    "        # \n",
    "    print(f'This statisctics are for {gender_text}:')\n",
    "    print('Max age: {:.2f} USD'.format(max_age))\n",
    "    print('Min age: {:.2f} USD'.format(min_age))\n",
    "    print('Mean age: {:.2f} USD'.format(mean_age))\n",
    "    print('Std of age: {:.2f} USD'.format(std_age))\n",
    "#Конец вашего кода"
   ]
  },
  {
   "cell_type": "code",
   "execution_count": 16,
   "metadata": {},
   "outputs": [
    {
     "name": "stdout",
     "output_type": "stream",
     "text": [
      "This statisctics are for both genders:\n",
      "Max age: 60.00 USD\n",
      "Min age: 18.00 USD\n",
      "Mean age: 37.66 USD\n",
      "Std of age: 10.47 USD\n"
     ]
    }
   ],
   "source": [
    "age_info(filt_data)"
   ]
  },
  {
   "cell_type": "markdown",
   "metadata": {},
   "source": [
    "### Ожидаемый результат:\n",
    "\n",
    "```\n",
    "This statisctics are for both genders:\n",
    "Max age: 60.00 years old\n",
    "Min age: 18.00 years old\n",
    "Mean age: 37.66 years old\n",
    "Std of age: 10.47 years\n",
    "```"
   ]
  },
  {
   "cell_type": "code",
   "execution_count": 17,
   "metadata": {},
   "outputs": [
    {
     "name": "stdout",
     "output_type": "stream",
     "text": [
      "This statisctics are for only Female:\n",
      "Max age: 60.00 USD\n",
      "Min age: 18.00 USD\n",
      "Mean age: 38.41 USD\n",
      "Std of age: 10.83 USD\n"
     ]
    }
   ],
   "source": [
    "age_info(filt_data,\"FEMALE\")"
   ]
  },
  {
   "cell_type": "markdown",
   "metadata": {},
   "source": [
    "### Ожидаемый результат:\n",
    "\n",
    "```\n",
    "This statisctics are for only Female:\n",
    "Max age: 60.00 years old\n",
    "Min age: 18.00 years old\n",
    "Mean age: 38.41 years old\n",
    "Std of age: 10.83 years\n",
    "```"
   ]
  },
  {
   "cell_type": "code",
   "execution_count": 18,
   "metadata": {},
   "outputs": [
    {
     "name": "stdout",
     "output_type": "stream",
     "text": [
      "This statisctics are for only Male:\n",
      "Max age: 60.00 USD\n",
      "Min age: 18.00 USD\n",
      "Mean age: 36.87 USD\n",
      "Std of age: 10.02 USD\n"
     ]
    }
   ],
   "source": [
    "age_info(filt_data,\"mALE\")"
   ]
  },
  {
   "cell_type": "markdown",
   "metadata": {},
   "source": [
    "### Ожидаемый результат:\n",
    "\n",
    "```\n",
    "This statisctics are for only Male:\n",
    "Max age: 60.00 years old\n",
    "Min age: 18.00 years old\n",
    "Mean age: 36.87 years old\n",
    "Std of age: 10.02 years\n",
    "```"
   ]
  },
  {
   "cell_type": "markdown",
   "metadata": {},
   "source": [
    "4. Реализовать функции ```salary_info_purchased(data, gender=None, purchased=None)``` и ```age_info_purchased(data, gender=None, purchased=None)```, возвращая статистику, как в задачах 2 и 3, но в зависимости от того, приобрел ли человек продукт или нет."
   ]
  },
  {
   "cell_type": "code",
   "execution_count": 19,
   "metadata": {},
   "outputs": [],
   "source": [
    "#Начало вашего кода\n",
    "def salary_info_purchased(data, gender=None, purchased=None):\n",
    "    np_data = np.array(data)\n",
    "    max_salary = None\n",
    "    min_salary = None\n",
    "    mean_salary = None\n",
    "    std_salary = None\n",
    "    gender_text = ''\n",
    "    purchased_text = ''\n",
    "    \n",
    "    if gender != None:\n",
    "        gender = gender.lower()\n",
    "\n",
    "    if gender == 'male':\n",
    "        gender = 0\n",
    "    elif gender == 'female':\n",
    "        gender = 1\n",
    "\n",
    "    if gender == 0:\n",
    "        gender_filter = np_data[:, 1] == 0\n",
    "    elif gender == 1:\n",
    "        gender_filter = np_data[:, 1] == 1\n",
    "    else:\n",
    "        gender_filter = np.ones(len(np_data), dtype=bool)\n",
    "        \n",
    "    if purchased == 1:\n",
    "        purchased_filter = np_data[:, 4] == 1\n",
    "        purchased_text = ' and who purchased'\n",
    "    elif purchased == 0:\n",
    "        purchased_filter = np_data[:, 4] == 0\n",
    "        purchased_text = ' and who did not purchased'\n",
    "    else: \n",
    "        purchased_filter = np.ones(len(np_data), dtype=bool)\n",
    "        purchased = ''\n",
    "    \n",
    "    filtered_salary = np_data[np.logical_and(gender_filter, purchased_filter), 3] \n",
    "    \n",
    "    if len(filtered_salary) > 0:\n",
    "        max_salary = filtered_salary.max()\n",
    "        min_salary = filtered_salary.min()\n",
    "        mean_salary = filtered_salary.mean()\n",
    "        std_salary = filtered_salary.std()\n",
    "        # \n",
    "    print(f'This statisctics are for {gender_text}{purchased_text}:')\n",
    "    print('Max salary: {:.2f} USD'.format(max_salary))\n",
    "    print('Min salary: {:.2f} USD'.format(min_salary))\n",
    "    print('Mean salary: {:.2f} USD'.format(mean_salary))\n",
    "    print('Std of salary: {:.2f} USD'.format(std_salary))\n",
    "    \n",
    "    \n",
    "    \n",
    "    \n",
    "    \n",
    "    \n",
    "# def age_info_purchased(data, gender=None, purchased=None):\n",
    "    \n",
    "#Конец вашего кода"
   ]
  },
  {
   "cell_type": "code",
   "execution_count": 20,
   "metadata": {},
   "outputs": [
    {
     "name": "stdout",
     "output_type": "stream",
     "text": [
      "This statisctics are for :\n",
      "Max salary: 150000.00 USD\n",
      "Min salary: 15000.00 USD\n",
      "Mean salary: 69742.50 USD\n",
      "Std of salary: 34054.31 USD\n",
      "\n",
      "\n",
      "This statisctics are for :\n",
      "Max salary: 150000.00 USD\n",
      "Min salary: 15000.00 USD\n",
      "Mean salary: 71759.80 USD\n",
      "Std of salary: 35507.89 USD\n",
      "\n",
      "\n",
      "This statisctics are for :\n",
      "Max salary: 150000.00 USD\n",
      "Min salary: 15000.00 USD\n",
      "Mean salary: 67642.86 USD\n",
      "Std of salary: 32339.00 USD\n",
      "\n",
      "\n",
      "This statisctics are for  and who purchased:\n",
      "Max salary: 150000.00 USD\n",
      "Min salary: 20000.00 USD\n",
      "Mean salary: 86272.73 USD\n",
      "Std of salary: 41916.86 USD\n",
      "\n",
      "\n",
      "This statisctics are for  and who purchased:\n",
      "Max salary: 150000.00 USD\n",
      "Min salary: 20000.00 USD\n",
      "Mean salary: 88714.29 USD\n",
      "Std of salary: 42842.16 USD\n",
      "\n",
      "\n",
      "This statisctics are for  and who did not purchased:\n",
      "Max salary: 141000.00 USD\n",
      "Min salary: 15000.00 USD\n",
      "Mean salary: 59630.77 USD\n",
      "Std of salary: 23413.72 USD\n",
      "\n",
      "\n"
     ]
    }
   ],
   "source": [
    "salary_info_purchased(filt_data)\n",
    "print(\"\\n\")\n",
    "salary_info_purchased(filt_data, gender=\"Female\")\n",
    "print(\"\\n\")\n",
    "salary_info_purchased(filt_data, gender=\"Male\")\n",
    "print(\"\\n\")\n",
    "salary_info_purchased(filt_data, purchased=True)\n",
    "print(\"\\n\")\n",
    "salary_info_purchased(filt_data, gender=\"Female\", purchased=True)\n",
    "print(\"\\n\")\n",
    "salary_info_purchased(filt_data, gender=\"Male\", purchased=False)\n",
    "print(\"\\n\")"
   ]
  },
  {
   "cell_type": "markdown",
   "metadata": {},
   "source": [
    "### Ожидаемый результат:\n",
    "\n",
    "```\n",
    "This statisctics are for both genders:\n",
    "Max salary: 150000.00 USD\n",
    "Min salary: 15000.00 USD\n",
    "Mean salary: 69742.50 USD\n",
    "Std of salary: 34054.31 USD\n",
    "\n",
    "\n",
    "This statisctics are for only Female:\n",
    "Max salary: 150000.00 USD\n",
    "Min salary: 15000.00 USD\n",
    "Mean salary: 71759.80 USD\n",
    "Std of salary: 35507.89 USD\n",
    "\n",
    "\n",
    "This statisctics are for only Male:\n",
    "Max salary: 150000.00 USD\n",
    "Min salary: 15000.00 USD\n",
    "Mean salary: 67642.86 USD\n",
    "Std of salary: 32339.00 USD\n",
    "\n",
    "\n",
    "This statisctics are for both genders and who purchased:\n",
    "Max salary: 150000.00 USD\n",
    "Min salary: 20000.00 USD\n",
    "Mean salary: 86272.73 USD\n",
    "Std of salary: 41916.86 USD\n",
    "\n",
    "\n",
    "This statisctics are for only Female and who purchased:\n",
    "Max salary: 150000.00 USD\n",
    "Min salary: 20000.00 USD\n",
    "Mean salary: 88714.29 USD\n",
    "Std of salary: 42842.16 USD\n",
    "\n",
    "\n",
    "This statisctics are for only Male and who did not purchased:\n",
    "Max salary: 141000.00 USD\n",
    "Min salary: 15000.00 USD\n",
    "Mean salary: 59630.77 USD\n",
    "Std of salary: 23413.72 USD\n",
    "```"
   ]
  },
  {
   "cell_type": "code",
   "execution_count": 21,
   "metadata": {},
   "outputs": [],
   "source": [
    "#Начало вашего кода\n",
    "def age_info_purchased(data, gender=None, purchased=None):\n",
    "    np_data = np.array(data)\n",
    "    max_age = None\n",
    "    min_age = None\n",
    "    mean_age = None\n",
    "    std_age = None\n",
    "    gender_text = ''\n",
    "    purchased_text = ''\n",
    "    \n",
    "    if gender != None:\n",
    "        gender = gender.lower()\n",
    "\n",
    "    if gender == 'male':\n",
    "        gender = 0\n",
    "    elif gender == 'female':\n",
    "        gender = 1\n",
    "\n",
    "    if gender == 0:\n",
    "        gender_filter = np_data[:, 1] == 0\n",
    "        gender_text = 'only Male'\n",
    "    elif gender == 1:\n",
    "        gender_filter = np_data[:, 1] == 1\n",
    "        gender_text = 'only Female'\n",
    "    else:\n",
    "        gender_filter = np.ones(len(np_data), dtype=bool)\n",
    "        gender_text = 'both genders'\n",
    "        \n",
    "    if purchased == 1:\n",
    "        purchased_filter = np_data[:, 4] == 1\n",
    "        purchased_text = ' and who purchased'\n",
    "    elif purchased == 0:\n",
    "        purchased_filter = np_data[:, 4] == 0\n",
    "        purchased_text = ' and who did not purchased'\n",
    "    else: \n",
    "        purchased_filter = np.ones(len(np_data), dtype=bool)\n",
    "        purchased = ''\n",
    "    \n",
    "    filtered_salary = np_data[np.logical_and(gender_filter, purchased_filter), 2] \n",
    "    \n",
    "    if len(filtered_salary) > 0:\n",
    "        max_age = filtered_salary.max()\n",
    "        min_age = filtered_salary.min()\n",
    "        mean_age = filtered_salary.mean()\n",
    "        std_age = filtered_salary.std()\n",
    "\n",
    "    print(f'This statisctics are for {gender_text}{purchased_text}:')\n",
    "    print('Max age: {:.2f} years old'.format(max_age))\n",
    "    print('Min age: {:.2f} years old'.format(min_age))\n",
    "    print('Mean age: {:.2f} years old'.format(mean_age))\n",
    "    print('Std of age: {:.2f} years'.format(std_age))\n",
    "    \n",
    "    \n",
    "    \n",
    "    \n",
    "#Конец вашего кода"
   ]
  },
  {
   "cell_type": "code",
   "execution_count": 22,
   "metadata": {},
   "outputs": [
    {
     "name": "stdout",
     "output_type": "stream",
     "text": [
      "This statisctics are for both genders:\n",
      "Max age: 60.00 years old\n",
      "Min age: 18.00 years old\n",
      "Mean age: 37.66 years old\n",
      "Std of age: 10.47 years\n",
      "\n",
      "\n",
      "This statisctics are for only Female:\n",
      "Max age: 60.00 years old\n",
      "Min age: 18.00 years old\n",
      "Mean age: 38.41 years old\n",
      "Std of age: 10.83 years\n",
      "\n",
      "\n",
      "This statisctics are for only Male:\n",
      "Max age: 60.00 years old\n",
      "Min age: 18.00 years old\n",
      "Mean age: 36.87 years old\n",
      "Std of age: 10.02 years\n",
      "\n",
      "\n",
      "This statisctics are for both genders and who purchased:\n",
      "Max age: 60.00 years old\n",
      "Min age: 27.00 years old\n",
      "Mean age: 46.39 years old\n",
      "Std of age: 8.58 years\n",
      "\n",
      "\n",
      "This statisctics are for only Female and who purchased:\n",
      "Max age: 60.00 years old\n",
      "Min age: 27.00 years old\n",
      "Mean age: 47.16 years old\n",
      "Std of age: 8.41 years\n",
      "\n",
      "\n",
      "This statisctics are for only Male and who did not purchased:\n",
      "Max age: 49.00 years old\n",
      "Min age: 18.00 years old\n",
      "Mean age: 32.48 years old\n",
      "Std of age: 7.48 years\n",
      "\n",
      "\n"
     ]
    }
   ],
   "source": [
    "age_info_purchased(filt_data)\n",
    "print(\"\\n\")\n",
    "age_info_purchased(filt_data, gender=\"Female\")\n",
    "print(\"\\n\")\n",
    "age_info_purchased(filt_data, gender=\"Male\")\n",
    "print(\"\\n\")\n",
    "age_info_purchased(filt_data, purchased=True)\n",
    "print(\"\\n\")\n",
    "age_info_purchased(filt_data, gender=\"Female\", purchased=True)\n",
    "print(\"\\n\")\n",
    "age_info_purchased(filt_data, gender=\"Male\", purchased=False)\n",
    "print(\"\\n\")"
   ]
  },
  {
   "cell_type": "markdown",
   "metadata": {},
   "source": [
    "### Ожидаемый результат:\n",
    "\n",
    "```\n",
    "This statisctics are for both genders:\n",
    "Max age: 60.00 years old\n",
    "Min age: 18.00 years old\n",
    "Mean age: 37.66 years old\n",
    "Std of age: 10.47 years\n",
    "\n",
    "\n",
    "This statisctics are for only Female:\n",
    "Max age: 60.00 years old\n",
    "Min age: 18.00 years old\n",
    "Mean age: 38.41 years old\n",
    "Std of age: 10.83 years\n",
    "\n",
    "\n",
    "This statisctics are for only Male:\n",
    "Max age: 60.00 years old\n",
    "Min age: 18.00 years old\n",
    "Mean age: 36.87 years old\n",
    "Std of age: 10.02 years\n",
    "\n",
    "\n",
    "This statisctics are for both genders and who purchased:\n",
    "Max age: 60.00 years old\n",
    "Min age: 27.00 years old\n",
    "Mean age: 46.39 years old\n",
    "Std of age:  8.58 years\n",
    "\n",
    "\n",
    "This statisctics are for only Female and who purchased:\n",
    "Max age: 60.00 years old\n",
    "Min age: 27.00 years old\n",
    "Mean age: 47.16 years old\n",
    "Std of age:  8.41 years\n",
    "\n",
    "\n",
    "This statisctics are for only Male and who did not purchased:\n",
    "Max age: 49.00 years old\n",
    "Min age: 18.00 years old\n",
    "Mean age: 32.48 years old\n",
    "Std of age:  7.48 years\n",
    "```"
   ]
  },
  {
   "cell_type": "markdown",
   "metadata": {},
   "source": [
    "# Прекрасная работа!"
   ]
  }
 ],
 "metadata": {
  "kernelspec": {
   "display_name": "Python 3",
   "language": "python",
   "name": "python3"
  },
  "language_info": {
   "codemirror_mode": {
    "name": "ipython",
    "version": 3
   },
   "file_extension": ".py",
   "mimetype": "text/x-python",
   "name": "python",
   "nbconvert_exporter": "python",
   "pygments_lexer": "ipython3",
   "version": "3.10.12"
  }
 },
 "nbformat": 4,
 "nbformat_minor": 2
}
