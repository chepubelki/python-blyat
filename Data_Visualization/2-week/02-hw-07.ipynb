{
 "cells": [
  {
   "cell_type": "markdown",
   "metadata": {},
   "source": [
    "### NumPy: Индексы & Срезы [Домашнее задание]\n",
    "\n",
    "> **Пишите код только там, где это показано для записи. Не удаляйте комментарии!**"
   ]
  },
  {
   "cell_type": "markdown",
   "metadata": {},
   "source": [
    "1. Импортируйте пакет NumPy"
   ]
  },
  {
   "cell_type": "code",
   "execution_count": 1,
   "metadata": {},
   "outputs": [
    {
     "name": "stdout",
     "output_type": "stream",
     "text": [
      "1.26.3\n"
     ]
    }
   ],
   "source": [
    "# Начало вашего кода\n",
    "import numpy as np\n",
    "# Конец вашего кода\n",
    "print(np.__version__)"
   ]
  },
  {
   "cell_type": "markdown",
   "metadata": {},
   "source": [
    "### Ожидаемый результат\n",
    "```\n",
    "1.17.4\n",
    "```"
   ]
  },
  {
   "cell_type": "markdown",
   "metadata": {},
   "source": [
    "2. Вам предоставляется список ```list1 = [1,3,5,2,3,5,72,4,7,4,2,6,5,4,89,9,6,423]```.\n",
    "Пожалуйста, извлеките элементы списка ```list1```, который разделяет его индекс в списке ```list1``` без остатка. Используйте два подхода для решения этой проблемы, используя только список ```list``` и используя массив ```numpy.ndarray``` отдельно.\n",
    "\n",
    "    **Примечание: не используйте ```enumerate```.**"
   ]
  },
  {
   "cell_type": "code",
   "execution_count": 3,
   "metadata": {},
   "outputs": [
    {
     "name": "stdout",
     "output_type": "stream",
     "text": [
      "[1, 5, 2]\n"
     ]
    }
   ],
   "source": [
    "list1 = [1,3,5,2,3,5,72,4,7,4,2,6,5,4,89,9,6,423]\n",
    "list2 = []\n",
    "\n",
    "# list\n",
    "# Начало вашего кода\n",
    "for i in range(len(list1)):\n",
    "    if i % list1[i] == 0:\n",
    "        list2.append(list1[i])\n",
    "# Конец вашего кода\n",
    "print(list2)"
   ]
  },
  {
   "cell_type": "markdown",
   "metadata": {},
   "source": [
    "### Ожидаемый результат\n",
    "```\n",
    "[1, 5, 2]\n",
    "```"
   ]
  },
  {
   "cell_type": "code",
   "execution_count": 9,
   "metadata": {},
   "outputs": [
    {
     "name": "stdout",
     "output_type": "stream",
     "text": [
      "[1 5 2]\n"
     ]
    }
   ],
   "source": [
    "# numpy.ndarray\n",
    "# Начало вашего кода\n",
    "ndarr1 = np.array(list1)\n",
    "list3 = []\n",
    "for i in range(len(ndarr1)):\n",
    "    if i % ndarr1[i] == 0:\n",
    "        list3.append(ndarr1[i])\n",
    "        \n",
    "ndarr2 = np.array(list3)\n",
    "# Конец вашего кода\n",
    "print(ndarr2)"
   ]
  },
  {
   "cell_type": "markdown",
   "metadata": {},
   "source": [
    "### Ожидаемый результат\n",
    "```\n",
    "[1 5 2]\n",
    "```"
   ]
  },
  {
   "cell_type": "markdown",
   "metadata": {},
   "source": [
    "3. Вам предоставляется список списков ```list_of_lists=[[1,2,3,4],[5,6,7,8],[9,10,11,12]]```. Пожалуйста, извлеките элементы, которые делят произведение индекса строки и индекса столбца без остатка.Используйте два подхода для решения этой проблемы, используя только список list и используя массив numpy.ndarray отдельно.\n",
    "\n",
    "**Примечание: не используйте ```enumerate```.**"
   ]
  },
  {
   "cell_type": "code",
   "execution_count": 10,
   "metadata": {},
   "outputs": [
    {
     "name": "stdout",
     "output_type": "stream",
     "text": [
      "[1, 2, 3, 4, 5, 9]\n"
     ]
    }
   ],
   "source": [
    "list_of_lists = [[1,2,3,4],[5,6,7,8],[9,10,11,12]]\n",
    "new_list = []\n",
    "\n",
    "# list\n",
    "# Начало вашего кода\n",
    "for i in range(len(list_of_lists)):\n",
    "    for j in range(len(list_of_lists[i])):\n",
    "        if (i * j) % list_of_lists[i][j] == 0:\n",
    "            new_list.append(list_of_lists[i][j])\n",
    "# Конец вашего кода\n",
    "print(new_list)"
   ]
  },
  {
   "cell_type": "markdown",
   "metadata": {},
   "source": [
    "### Ожидаемый результат\n",
    "```\n",
    "[1, 2, 3, 4, 5, 9]\n",
    "```"
   ]
  },
  {
   "cell_type": "code",
   "execution_count": 15,
   "metadata": {},
   "outputs": [
    {
     "name": "stdout",
     "output_type": "stream",
     "text": [
      "[1 2 3 4 5 9]\n"
     ]
    }
   ],
   "source": [
    "# numpy.ndarray\n",
    "# Начало вашего кода\n",
    "array_fo_lists = np.array(list_of_lists)\n",
    "new_array = []\n",
    "for i in range(len(array_fo_lists)):\n",
    "    for j in range(len(array_fo_lists[i])):\n",
    "        if (i * j) % array_fo_lists[i][j] == 0:\n",
    "            new_array.append(array_fo_lists[i][j])\n",
    "            \n",
    "ndarr3 = np.array(new_array)\n",
    "# Конец вашего кода\n",
    "print(ndarr3)"
   ]
  },
  {
   "cell_type": "markdown",
   "metadata": {},
   "source": [
    "### Ожидаемый результат\n",
    "```\n",
    "[1 2 3 4 5 9]\n",
    "```"
   ]
  },
  {
   "cell_type": "markdown",
   "metadata": {},
   "source": [
    "4. Пожалуйста, напишите две функции:\n",
    "\n",
    "```slice_list(orig_list, row_str, row_end, col_str, col_end)```\n",
    "\n",
    "```slice_list_ndarr(orig_list, row_str, row_end, col_str, col_end)```\n",
    "\n",
    "\n",
    "row_str и row_end - начальный индекс столбца и конечный индекс столбца среза.\n",
    "\n",
    "col_str и col_end - начальный индекс столбца и конечный индекс столбца среза.\n",
    "\n",
    "Пример:\n",
    "```\n",
    "orig_list =[[ 1, 2, 3],\n",
    "            [11,12,13],\n",
    "            [21,22,23]]\n",
    "\n",
    "res_list = slice_list(orig_list, 0, 2, 1, 3)\n",
    "\n",
    "Ответ:\n",
    "res_list = [[ 2, 3],\n",
    "            [12,13]]\n",
    "\n",
    "```"
   ]
  },
  {
   "cell_type": "code",
   "execution_count": 23,
   "metadata": {},
   "outputs": [
    {
     "name": "stdout",
     "output_type": "stream",
     "text": [
      "[[6, 7], [10, 11], [14, 15]]\n"
     ]
    }
   ],
   "source": [
    "list_of_lists = [[1,2,3,4],\n",
    "                 [5,6,7,8],\n",
    "                 [9,10,11,12],\n",
    "                 [13,14,15,16],\n",
    "                 [17,18,19,20]]\n",
    "\n",
    "def slice_list(orig_list, row_str, row_end, col_str, col_end):\n",
    "    # list\n",
    "    # Начало вашего кода\n",
    "    res_list = []\n",
    "    for i in range(row_str, row_end):\n",
    "        sliced_row = []\n",
    "        for j in range(col_str, col_end):\n",
    "            sliced_row.append(orig_list[i][j])\n",
    "        res_list.append(sliced_row)\n",
    "    return res_list\n",
    "    # Конец вашего кода\n",
    "\n",
    "print(slice_list(list_of_lists,1,4,1,3))"
   ]
  },
  {
   "cell_type": "markdown",
   "metadata": {},
   "source": [
    "### Ожидаемый результат\n",
    "```\n",
    "[[6, 7], [10, 11], [14, 15]]\n",
    "```"
   ]
  },
  {
   "cell_type": "code",
   "execution_count": 27,
   "metadata": {},
   "outputs": [
    {
     "name": "stdout",
     "output_type": "stream",
     "text": [
      "[[6, 7], [10, 11], [14, 15]]\n"
     ]
    }
   ],
   "source": [
    "list_of_lists = [[1,2,3,4],[5,6,7,8],[9,10,11,12],[13,14,15,16],[17,18,19,20]]\n",
    "\n",
    "def slice_list_ndarr(orig_list, row_str, row_end, col_str, col_end):\n",
    "    # numpy.ndarray\n",
    "    # Начало вашего кода\n",
    "    nums_array = np.array(list_of_lists)\n",
    "    res_array = nums_array[row_str:row_end, col_str:col_end].tolist()\n",
    "    return res_array\n",
    "    # Конец вашего кода\n",
    "\n",
    "print(slice_list_ndarr(list_of_lists,1,4,1,3))"
   ]
  },
  {
   "cell_type": "markdown",
   "metadata": {},
   "source": [
    "### Ожидаемый результат\n",
    "```\n",
    "[[6, 7], [10, 11], [14, 15]]\n",
    "```"
   ]
  },
  {
   "cell_type": "markdown",
   "metadata": {},
   "source": [
    "# Прекрасная работа!"
   ]
  }
 ],
 "metadata": {
  "kernelspec": {
   "display_name": "Python 3",
   "language": "python",
   "name": "python3"
  },
  "language_info": {
   "codemirror_mode": {
    "name": "ipython",
    "version": 3
   },
   "file_extension": ".py",
   "mimetype": "text/x-python",
   "name": "python",
   "nbconvert_exporter": "python",
   "pygments_lexer": "ipython3",
   "version": "3.10.12"
  }
 },
 "nbformat": 4,
 "nbformat_minor": 2
}
