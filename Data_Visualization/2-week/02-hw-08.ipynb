{
 "cells": [
  {
   "cell_type": "markdown",
   "metadata": {},
   "source": [
    "### NumPy: Векторизация & Broadcasting [Домашнее задание]\n",
    "> **\n",
    "> **Пишите код только там, где это показано для записи. Не удаляйте комментарии!**"
   ]
  },
  {
   "cell_type": "markdown",
   "metadata": {},
   "source": [
    "1. Импортируйте пакет NumPy"
   ]
  },
  {
   "cell_type": "code",
   "execution_count": 1,
   "metadata": {},
   "outputs": [
    {
     "name": "stdout",
     "output_type": "stream",
     "text": [
      "1.26.3\n"
     ]
    }
   ],
   "source": [
    "# Начало вашего кода\n",
    "import numpy as np\n",
    "# Конец вашего кода\n",
    "print(np.__version__)"
   ]
  },
  {
   "cell_type": "markdown",
   "metadata": {},
   "source": [
    "### Ожидаемый результат\n",
    "```\n",
    "1.17.4\n",
    "```"
   ]
  },
  {
   "cell_type": "markdown",
   "metadata": {},
   "source": [
    "2. Вам предоставляется список ```list1 = [1,3,5,2,3,5,72,4,7,4,2,6,5,4,89,9,6,423]```.\n",
    "Пожалуйста, извлеките элементы списка ```list1```, который разделяет его индекс в списке ```list1``` без остатка. Используйте два подхода для решения этой проблемы, используя только список ```list``` и используя массив ```numpy.ndarray``` отдельно.\n",
    "\n",
    "    **Примечание: не используйте ```enumerate``` или ```zip```.**"
   ]
  },
  {
   "cell_type": "code",
   "execution_count": 2,
   "metadata": {},
   "outputs": [
    {
     "name": "stdout",
     "output_type": "stream",
     "text": [
      "[5, 5, 11, 7, 7, 94, 81, 10, 430]\n"
     ]
    }
   ],
   "source": [
    "list1 = [1,3,5,2,3,5,72,4,7]\n",
    "list2 = [4,2,6,5,4,89,9,6,423]\n",
    "list3 = []\n",
    "# list\n",
    "# Начало вашего кода\n",
    "for i, j in zip(list1, list2):\n",
    "    list3.append(i + j)\n",
    "# Конец вашего кода\n",
    "print(list3)"
   ]
  },
  {
   "cell_type": "markdown",
   "metadata": {},
   "source": [
    "### Ожидаемый результат\n",
    "```\n",
    "[5, 5, 11, 7, 7, 94, 81, 10, 430]\n",
    "```"
   ]
  },
  {
   "cell_type": "code",
   "execution_count": 3,
   "metadata": {},
   "outputs": [
    {
     "name": "stdout",
     "output_type": "stream",
     "text": [
      "[  5   5  11   7   7  94  81  10 430]\n"
     ]
    }
   ],
   "source": [
    "ndarr1 = np.array(list1)\n",
    "ndarr2 = np.array(list2)\n",
    "# numpy.ndarray\n",
    "# Начало вашего кода\n",
    "ndarr3 = ndarr1 + ndarr2\n",
    "# Конец вашего кода\n",
    "print(ndarr3)"
   ]
  },
  {
   "cell_type": "markdown",
   "metadata": {},
   "source": [
    "### Ожидаемый результат\n",
    "```\n",
    "[  5   5  11   7   7  94  81  10 430]\n",
    "```"
   ]
  },
  {
   "cell_type": "markdown",
   "metadata": {},
   "source": [
    "3. Пожалуйста, спрогнозируйте формы массивов numpy.ndarray.\n",
    "\n",
    "\n",
    "```python\n",
    "A.shape      (12,10,4,5)\n",
    "B.shape      (2,1)\n",
    "(A+B).shape  ? - error\n",
    "```\n",
    "---\n",
    "```python\n",
    "A.shape      (1,10,1)\n",
    "B.shape      (4,)\n",
    "(A*B).shape  ? - (1 10  4)\n",
    "```\n",
    "---\n",
    "```python\n",
    "A.shape          (100,32,15,646,234,65,87,1,3,4,6)\n",
    "B.shape                (  1,  1,234,65, 1,1,3,1,6)\n",
    "(A*B).shape  ? - (100,32,15,646,234,65,87,1,3,4,6)\n",
    "```\n",
    "---"
   ]
  },
  {
   "cell_type": "markdown",
   "metadata": {},
   "source": [
    "# Прекрасная работа!"
   ]
  },
  {
   "cell_type": "markdown",
   "metadata": {},
   "source": []
  }
 ],
 "metadata": {
  "kernelspec": {
   "display_name": "Python 3",
   "language": "python",
   "name": "python3"
  },
  "language_info": {
   "codemirror_mode": {
    "name": "ipython",
    "version": 3
   },
   "file_extension": ".py",
   "mimetype": "text/x-python",
   "name": "python",
   "nbconvert_exporter": "python",
   "pygments_lexer": "ipython3",
   "version": "3.10.12"
  }
 },
 "nbformat": 4,
 "nbformat_minor": 2
}
