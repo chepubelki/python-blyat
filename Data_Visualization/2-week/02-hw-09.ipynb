{
 "cells": [
  {
   "attachments": {},
   "cell_type": "markdown",
   "metadata": {},
   "source": [
    "### NumPy: Функции & Модули [Домашнее задание]\n",
    "> **\n",
    "> **Пишите код только там, где это показано для записи. Не удаляйте комментарии!**"
   ]
  },
  {
   "cell_type": "markdown",
   "metadata": {},
   "source": [
    "1. Пожалуйста, протестируйте все функции, упомянутые в видео лекции, и постарайтесь разобраться в них. \n",
    "Некоторые функции содержат аргументы, пожалуйста, поэкспериментируйте с ними."
   ]
  },
  {
   "cell_type": "code",
   "execution_count": 5,
   "metadata": {},
   "outputs": [],
   "source": [
    "import numpy as np\n",
    "import numpy.random as rd"
   ]
  },
  {
   "cell_type": "code",
   "execution_count": 6,
   "metadata": {},
   "outputs": [
    {
     "name": "stdout",
     "output_type": "stream",
     "text": [
      "[[0. 0. 0. 0. 0.]\n",
      " [0. 0. 0. 0. 0.]\n",
      " [0. 0. 0. 0. 0.]]\n"
     ]
    }
   ],
   "source": [
    "# numpy.zeros\n",
    "arr1 = np.zeros((3,5))\n",
    "print(arr1)"
   ]
  },
  {
   "cell_type": "code",
   "execution_count": 11,
   "metadata": {},
   "outputs": [
    {
     "name": "stdout",
     "output_type": "stream",
     "text": [
      "[[1. 1. 1. 1. 1.]\n",
      " [1. 1. 1. 1. 1.]\n",
      " [1. 1. 1. 1. 1.]]\n"
     ]
    }
   ],
   "source": [
    "# numpy.ones\n",
    "arr2 = np.ones((3,5))\n",
    "print(arr2)"
   ]
  },
  {
   "cell_type": "code",
   "execution_count": 13,
   "metadata": {},
   "outputs": [
    {
     "name": "stdout",
     "output_type": "stream",
     "text": [
      "[[13 13 13 13 13]\n",
      " [13 13 13 13 13]\n",
      " [13 13 13 13 13]]\n"
     ]
    }
   ],
   "source": [
    "# numpy.full\n",
    "arr3 = np.full((3,5), 13)\n",
    "print(arr3)"
   ]
  },
  {
   "cell_type": "code",
   "execution_count": 14,
   "metadata": {},
   "outputs": [
    {
     "name": "stdout",
     "output_type": "stream",
     "text": [
      "[[1. 0. 0. 0. 0. 0. 0. 0.]\n",
      " [0. 1. 0. 0. 0. 0. 0. 0.]\n",
      " [0. 0. 1. 0. 0. 0. 0. 0.]\n",
      " [0. 0. 0. 1. 0. 0. 0. 0.]\n",
      " [0. 0. 0. 0. 1. 0. 0. 0.]\n",
      " [0. 0. 0. 0. 0. 1. 0. 0.]\n",
      " [0. 0. 0. 0. 0. 0. 1. 0.]\n",
      " [0. 0. 0. 0. 0. 0. 0. 1.]]\n"
     ]
    }
   ],
   "source": [
    "# numpy.eye\n",
    "arr4 = np.eye(8)\n",
    "print(arr4)"
   ]
  },
  {
   "cell_type": "code",
   "execution_count": 17,
   "metadata": {},
   "outputs": [
    {
     "name": "stdout",
     "output_type": "stream",
     "text": [
      "[1000  993  986  979  972  965  958  951  944  937  930  923  916  909\n",
      "  902  895  888  881  874  867  860  853  846  839  832  825  818  811\n",
      "  804  797  790  783  776  769  762  755  748  741  734  727  720  713\n",
      "  706  699  692  685  678  671  664  657  650  643  636  629  622  615\n",
      "  608  601  594  587  580  573  566  559  552  545  538  531  524  517\n",
      "  510  503  496  489  482  475  468  461  454  447  440  433  426  419\n",
      "  412  405  398  391  384  377  370  363  356  349  342  335  328  321\n",
      "  314  307  300  293  286  279  272  265  258  251  244  237  230  223\n",
      "  216  209  202  195  188  181  174  167  160  153  146  139  132  125\n",
      "  118  111  104   97   90   83   76   69   62   55   48   41   34   27\n",
      "   20   13    6]\n"
     ]
    }
   ],
   "source": [
    "# numpy.arange\n",
    "arr5 = np.arange(1000, 0, -7)\n",
    "print(arr5)"
   ]
  },
  {
   "cell_type": "code",
   "execution_count": 19,
   "metadata": {},
   "outputs": [
    {
     "name": "stdout",
     "output_type": "stream",
     "text": [
      "[ 6  8 10 12]\n"
     ]
    }
   ],
   "source": [
    "# numpy.add\n",
    "ndarray1 = np.array([1,2,3,4])\n",
    "ndarray2 = np.array([5,6,7,8])\n",
    "ndarray3 = np.add(ndarray1, ndarray2)\n",
    "print(ndarray3)\n"
   ]
  },
  {
   "cell_type": "code",
   "execution_count": 20,
   "metadata": {},
   "outputs": [
    {
     "name": "stdout",
     "output_type": "stream",
     "text": [
      "[-4 -4 -4 -4]\n"
     ]
    }
   ],
   "source": [
    "# numpy.subtract\n",
    "ndarray3 = np.subtract(ndarray1, ndarray2)\n",
    "print(ndarray3)"
   ]
  },
  {
   "cell_type": "code",
   "execution_count": 22,
   "metadata": {},
   "outputs": [
    {
     "name": "stdout",
     "output_type": "stream",
     "text": [
      "[ 0.84147098  0.90929743  0.14112001 -0.7568025 ]\n"
     ]
    }
   ],
   "source": [
    "# numpy.sin\n",
    "ndarray4 = np.sin(ndarray1)\n",
    "print(ndarray4)"
   ]
  },
  {
   "cell_type": "code",
   "execution_count": 24,
   "metadata": {},
   "outputs": [
    {
     "name": "stdout",
     "output_type": "stream",
     "text": [
      "[ 5 12 21 32]\n"
     ]
    }
   ],
   "source": [
    "# numpy.multiply\n",
    "ndarray5 = np.multiply(ndarray1, ndarray2)\n",
    "print(ndarray5)"
   ]
  },
  {
   "cell_type": "code",
   "execution_count": 26,
   "metadata": {},
   "outputs": [
    {
     "name": "stdout",
     "output_type": "stream",
     "text": [
      "[2.23606798 3.46410162 4.58257569 5.65685425]\n"
     ]
    }
   ],
   "source": [
    "# numpy.sqrt\n",
    "ndarray6 = np.sqrt(ndarray5)\n",
    "print(ndarray6)"
   ]
  },
  {
   "cell_type": "code",
   "execution_count": 37,
   "metadata": {},
   "outputs": [
    {
     "name": "stdout",
     "output_type": "stream",
     "text": [
      "[[ 50]\n",
      " [122]]\n"
     ]
    }
   ],
   "source": [
    "# numpy.dot\n",
    "dot_arr1 = np.array([[1,2,3],[4,5,6]])\n",
    "dot_arr2 = np.array([[7],[8],[9]])\n",
    "dot_arr3 = np.dot(dot_arr1, dot_arr2)\n",
    "print(dot_arr3)"
   ]
  },
  {
   "cell_type": "code",
   "execution_count": 40,
   "metadata": {},
   "outputs": [
    {
     "name": "stdout",
     "output_type": "stream",
     "text": [
      "[[ 6  8]\n",
      " [10 12]]\n"
     ]
    }
   ],
   "source": [
    "# numpy.sum\n",
    "sum__arr1 = np.array([[1,2],[3,4]])\n",
    "sum__arr2 = np.array([[5,6],[7,8]])\n",
    "sum__arr3 = np.add(sum__arr1, sum__arr2)\n",
    "print(sum__arr3)"
   ]
  },
  {
   "cell_type": "code",
   "execution_count": 49,
   "metadata": {},
   "outputs": [
    {
     "name": "stdout",
     "output_type": "stream",
     "text": [
      "[[0 0 0]\n",
      " [0 0 0]\n",
      " [0 0 0]\n",
      " [0 0 0]]\n"
     ]
    }
   ],
   "source": [
    "# numpy.zeros_like\n",
    "a = np.arange(12)\n",
    "b = a.reshape((4,3))\n",
    "c = np.zeros_like(b)\n",
    "print(c)"
   ]
  },
  {
   "cell_type": "code",
   "execution_count": 58,
   "metadata": {},
   "outputs": [
    {
     "name": "stdout",
     "output_type": "stream",
     "text": [
      "[[ 0  1  2]\n",
      " [ 3  4  5]\n",
      " [ 6  7  8]\n",
      " [ 9 10 11]]\n"
     ]
    }
   ],
   "source": [
    "# numpy.empty_like\n",
    "a = np.arange(12)\n",
    "b = a.reshape((4,3))\n",
    "c = np.empty_like(b)\n",
    "print(c)"
   ]
  },
  {
   "cell_type": "code",
   "execution_count": 65,
   "metadata": {},
   "outputs": [
    {
     "name": "stdout",
     "output_type": "stream",
     "text": [
      "[[0 1]\n",
      " [2 3]\n",
      " [4 5]\n",
      " [6 7]]\n"
     ]
    }
   ],
   "source": [
    "# numpy.reshape\n",
    "a = np.arange(8)\n",
    "b = a.reshape((4,2))\n",
    "print(b)"
   ]
  },
  {
   "cell_type": "code",
   "execution_count": 67,
   "metadata": {},
   "outputs": [
    {
     "name": "stdout",
     "output_type": "stream",
     "text": [
      "[ True False False False  True  True]\n"
     ]
    }
   ],
   "source": [
    "# numpy.isnan\n",
    "array = np.array([np.NaN, 34, 76, 55, np.NaN, np.NaN])\n",
    "print(np.isnan(array))"
   ]
  },
  {
   "cell_type": "markdown",
   "metadata": {},
   "source": [
    "2. Пожалуйста, протестируйте все функции модуля ```numpy.random```, упомянутые в видео лекции, и постарайтесь разобраться в них. \n",
    "Некоторые функции содержат аргументы, пожалуйста, поэкспериментируйте с ними."
   ]
  },
  {
   "cell_type": "code",
   "execution_count": 68,
   "metadata": {},
   "outputs": [
    {
     "data": {
      "text/plain": [
       "0.32547206401943174"
      ]
     },
     "execution_count": 68,
     "metadata": {},
     "output_type": "execute_result"
    }
   ],
   "source": [
    "# numpy.random.sample\n",
    "rd.sample()"
   ]
  },
  {
   "cell_type": "code",
   "execution_count": 72,
   "metadata": {},
   "outputs": [
    {
     "name": "stdout",
     "output_type": "stream",
     "text": [
      "[[0.90967635 0.8544393  0.34888004 0.3439327 ]\n",
      " [0.35585652 0.38817653 0.35106229 0.46551849]\n",
      " [0.5426955  0.43342911 0.2599653  0.67216748]]\n"
     ]
    }
   ],
   "source": [
    "# numpy.random.random\n",
    "rd_array = rd.random((3,4))\n",
    "\n",
    "print(rd_array)"
   ]
  },
  {
   "cell_type": "code",
   "execution_count": 75,
   "metadata": {},
   "outputs": [
    {
     "name": "stdout",
     "output_type": "stream",
     "text": [
      "[[5 2 3 8]\n",
      " [8 7 4 8]\n",
      " [8 8 2 6]]\n"
     ]
    }
   ],
   "source": [
    "# numpy.random.randint\n",
    "rd_array = rd.randint(1,8 + 1,(3,4))\n",
    "print(rd_array)"
   ]
  },
  {
   "cell_type": "code",
   "execution_count": 76,
   "metadata": {},
   "outputs": [
    {
     "name": "stdout",
     "output_type": "stream",
     "text": [
      "[[3 2 8 6]\n",
      " [5 5 3 5]\n",
      " [6 6 7 3]]\n"
     ]
    },
    {
     "name": "stderr",
     "output_type": "stream",
     "text": [
      "/tmp/ipykernel_57956/4275734462.py:2: DeprecationWarning: This function is deprecated. Please call randint(1, 8 + 1) instead\n",
      "  rd_array = rd.random_integers(1,8,(3,4))\n"
     ]
    }
   ],
   "source": [
    "# numpy.random.random_integers\n",
    "rd_array = rd.random_integers(1,8,(3,4))\n",
    "print(rd_array)"
   ]
  },
  {
   "cell_type": "code",
   "execution_count": 83,
   "metadata": {},
   "outputs": [
    {
     "data": {
      "text/plain": [
       "array([[2.21169356, 2.92506637, 2.58891791, 2.50985743],\n",
       "       [2.28924598, 3.04740423, 2.59413776, 2.21707386],\n",
       "       [2.84561908, 3.43541244, 2.61365751, 2.95543222]])"
      ]
     },
     "execution_count": 83,
     "metadata": {},
     "output_type": "execute_result"
    }
   ],
   "source": [
    "# numpy.random.uniform\n",
    "# в этом случае будет печатать числа в кол-ве аргументов и в промежутке самого аргумента\n",
    "rd.uniform((3, 4))\n",
    "rd.uniform(2,4,size=(3, 4)) # в этом случае передается промежуток рандома и после размер массива"
   ]
  },
  {
   "cell_type": "code",
   "execution_count": 152,
   "metadata": {},
   "outputs": [],
   "source": [
    "# numpy.random.seed\n",
    "rd.seed(1) # точка сохранения"
   ]
  },
  {
   "cell_type": "code",
   "execution_count": 153,
   "metadata": {},
   "outputs": [
    {
     "name": "stdout",
     "output_type": "stream",
     "text": [
      "['orange', 'mondarino', 'banana', 'apple']\n"
     ]
    }
   ],
   "source": [
    "# numpy.random.shuffle\n",
    "fruit_list = ['banana','apple','mondarino','orange']\n",
    "rd.shuffle(fruit_list) # также перестановка\n",
    "print(fruit_list)\n"
   ]
  },
  {
   "cell_type": "code",
   "execution_count": 154,
   "metadata": {},
   "outputs": [
    {
     "name": "stdout",
     "output_type": "stream",
     "text": [
      "[8 2 4 6 8]\n",
      "[4 6 2 8 8]\n"
     ]
    }
   ],
   "source": [
    "# numpy.random.permutation\n",
    "my_arr = rd.randint(1,9,(5))\n",
    "print(my_arr)\n",
    "new_arr = rd.permutation(my_arr) # перестановка\n",
    "print(new_arr)\n"
   ]
  },
  {
   "cell_type": "code",
   "execution_count": 155,
   "metadata": {},
   "outputs": [
    {
     "name": "stdout",
     "output_type": "stream",
     "text": [
      "[[5 4 1]\n",
      " [2 4 5]]\n"
     ]
    }
   ],
   "source": [
    "# numpy.random.choice\n",
    "print(rd.choice(6, (2,3)))"
   ]
  },
  {
   "cell_type": "markdown",
   "metadata": {},
   "source": [
    "# Прекрасная работа!"
   ]
  },
  {
   "cell_type": "markdown",
   "metadata": {},
   "source": []
  }
 ],
 "metadata": {
  "kernelspec": {
   "display_name": "Python 3",
   "language": "python",
   "name": "python3"
  },
  "language_info": {
   "codemirror_mode": {
    "name": "ipython",
    "version": 3
   },
   "file_extension": ".py",
   "mimetype": "text/x-python",
   "name": "python",
   "nbconvert_exporter": "python",
   "pygments_lexer": "ipython3",
   "version": "3.10.12"
  }
 },
 "nbformat": 4,
 "nbformat_minor": 2
}
