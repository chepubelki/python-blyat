{
 "cells": [
  {
   "cell_type": "markdown",
   "metadata": {},
   "source": [
    "### pandas: Детали (Часть 2) [Домашнее задание]\n",
    "> **Вы должны импортировать все необходимые пакеты самостоятельно.**\n",
    "\n",
    "> **Пишите код только там, где это показано для записи. Не удаляйте комментарии!**\n",
    " "
   ]
  },
  {
   "cell_type": "markdown",
   "metadata": {},
   "source": [
    "### Шаг 1\n",
    "\n",
    "Пожалуйста, напишите функцию ```load_data(filename)```, которая будет загружать данные из csv-файла в список списков. Пожалуйста, напишите функцию ```load_data(filename)```, которая будет загружать данные из csv-файла в ```DataFrame```. Файл ```clean_house_prices.csv``` предоставлен вместе с этим jupyter notebook.\n",
    "\n",
    "\n",
    "**Примечание:**\n",
    "\n",
    "* В случае, если имя файла задано неверно, функция ```load_data``` должна вывести следующее сообщение об ошибке:\n",
    "\n",
    "```{имя файла} does not exist```\n",
    "* ```clean_house_prices.csv``` - это csv-файл, который является результатом вашей предыдущей домашней работы."
   ]
  },
  {
   "cell_type": "code",
   "execution_count": null,
   "metadata": {},
   "outputs": [],
   "source": [
    "#Начало вашего кода\n",
    "\n",
    "#Конец вашего кода"
   ]
  },
  {
   "cell_type": "code",
   "execution_count": null,
   "metadata": {},
   "outputs": [],
   "source": [
    "filename = \"./SocialNetworkAds.csv\"\n",
    "data = load_data(filename=filename)"
   ]
  },
  {
   "cell_type": "markdown",
   "metadata": {},
   "source": [
    "### Ожидаемый результат:\n",
    "\n",
    "```\n",
    "./SocialNetworkAds.csv does not exist\n",
    "```"
   ]
  },
  {
   "cell_type": "code",
   "execution_count": null,
   "metadata": {},
   "outputs": [],
   "source": [
    "print(data)"
   ]
  },
  {
   "cell_type": "markdown",
   "metadata": {},
   "source": [
    "### Ожидаемый результат:\n",
    "\n",
    "```\n",
    "None\n",
    "```"
   ]
  },
  {
   "cell_type": "code",
   "execution_count": null,
   "metadata": {},
   "outputs": [],
   "source": [
    "filename = \"./clean_house_prices.csv\"\n",
    "data = load_data(filename=filename)"
   ]
  },
  {
   "cell_type": "code",
   "execution_count": null,
   "metadata": {},
   "outputs": [],
   "source": [
    "print(data.columns.values)"
   ]
  },
  {
   "cell_type": "markdown",
   "metadata": {},
   "source": [
    "### Ожидаемый результат:\n",
    "\n",
    "```\n",
    "['Id' 'MSSubClass' 'MSZoning' 'LotArea' 'Street' 'LotShape' 'LandContour'\n",
    " 'Utilities' 'LotConfig' 'LandSlope' 'Neighborhood' 'Condition1'\n",
    " 'Condition2' 'BldgType' 'HouseStyle' 'OverallQual' 'OverallCond'\n",
    " 'YearBuilt' 'YearRemodAdd' 'RoofStyle' 'RoofMatl' 'Exterior1st'\n",
    " 'Exterior2nd' 'MasVnrType' 'MasVnrArea' 'ExterQual' 'ExterCond'\n",
    " 'Foundation' 'BsmtQual' 'BsmtCond' 'BsmtExposure' 'BsmtFinType1'\n",
    " 'BsmtFinSF1' 'BsmtFinType2' 'BsmtFinSF2' 'BsmtUnfSF' 'TotalBsmtSF'\n",
    " 'Heating' 'HeatingQC' 'CentralAir' 'Electrical' '1stFlrSF' '2ndFlrSF'\n",
    " 'LowQualFinSF' 'GrLivArea' 'BsmtFullBath' 'BsmtHalfBath' 'FullBath'\n",
    " 'HalfBath' 'BedroomAbvGr' 'KitchenAbvGr' 'KitchenQual' 'TotRmsAbvGrd'\n",
    " 'Functional' 'Fireplaces' 'GarageType' 'GarageYrBlt' 'GarageFinish'\n",
    " 'GarageCars' 'GarageArea' 'GarageQual' 'GarageCond' 'PavedDrive'\n",
    " 'WoodDeckSF' 'OpenPorchSF' 'EnclosedPorch' '3SsnPorch' 'ScreenPorch'\n",
    " 'PoolArea' 'MiscVal' 'MoSold' 'YrSold' 'SaleType' 'SaleCondition'\n",
    " 'SalePrice']\n",
    "```"
   ]
  },
  {
   "cell_type": "code",
   "execution_count": null,
   "metadata": {},
   "outputs": [],
   "source": [
    "data.info()"
   ]
  },
  {
   "cell_type": "markdown",
   "metadata": {},
   "source": [
    "### Ожидаемый результат:\n",
    "\n",
    "```\n",
    "<class 'pandas.core.frame.DataFrame'>\n",
    "RangeIndex: 1338 entries, 0 to 1337\n",
    "Data columns (total 75 columns):\n",
    "Id               1338 non-null int64\n",
    "MSSubClass       1338 non-null int64\n",
    "MSZoning         1338 non-null object\n",
    "LotArea          1338 non-null int64\n",
    "Street           1338 non-null object\n",
    "LotShape         1338 non-null object\n",
    "LandContour      1338 non-null object\n",
    "Utilities        1338 non-null object\n",
    "LotConfig        1338 non-null object\n",
    "LandSlope        1338 non-null object\n",
    "Neighborhood     1338 non-null object\n",
    "Condition1       1338 non-null object\n",
    "Condition2       1338 non-null object\n",
    "BldgType         1338 non-null object\n",
    "HouseStyle       1338 non-null object\n",
    "OverallQual      1338 non-null int64\n",
    "OverallCond      1338 non-null int64\n",
    "YearBuilt        1338 non-null int64\n",
    "YearRemodAdd     1338 non-null int64\n",
    "RoofStyle        1338 non-null object\n",
    "RoofMatl         1338 non-null object\n",
    "Exterior1st      1338 non-null object\n",
    "Exterior2nd      1338 non-null object\n",
    "MasVnrType       1338 non-null object\n",
    "MasVnrArea       1338 non-null float64\n",
    "ExterQual        1338 non-null object\n",
    "ExterCond        1338 non-null object\n",
    "Foundation       1338 non-null object\n",
    "BsmtQual         1338 non-null object\n",
    "BsmtCond         1338 non-null object\n",
    "BsmtExposure     1338 non-null object\n",
    "BsmtFinType1     1338 non-null object\n",
    "BsmtFinSF1       1338 non-null int64\n",
    "BsmtFinType2     1338 non-null object\n",
    "BsmtFinSF2       1338 non-null int64\n",
    "BsmtUnfSF        1338 non-null int64\n",
    "TotalBsmtSF      1338 non-null int64\n",
    "Heating          1338 non-null object\n",
    "HeatingQC        1338 non-null object\n",
    "CentralAir       1338 non-null object\n",
    "Electrical       1338 non-null object\n",
    "1stFlrSF         1338 non-null int64\n",
    "2ndFlrSF         1338 non-null int64\n",
    "LowQualFinSF     1338 non-null int64\n",
    "GrLivArea        1338 non-null int64\n",
    "BsmtFullBath     1338 non-null int64\n",
    "BsmtHalfBath     1338 non-null int64\n",
    "FullBath         1338 non-null int64\n",
    "HalfBath         1338 non-null int64\n",
    "BedroomAbvGr     1338 non-null int64\n",
    "KitchenAbvGr     1338 non-null int64\n",
    "KitchenQual      1338 non-null object\n",
    "TotRmsAbvGrd     1338 non-null int64\n",
    "Functional       1338 non-null object\n",
    "Fireplaces       1338 non-null int64\n",
    "GarageType       1338 non-null object\n",
    "GarageYrBlt      1338 non-null float64\n",
    "GarageFinish     1338 non-null object\n",
    "GarageCars       1338 non-null int64\n",
    "GarageArea       1338 non-null int64\n",
    "GarageQual       1338 non-null object\n",
    "GarageCond       1338 non-null object\n",
    "PavedDrive       1338 non-null object\n",
    "WoodDeckSF       1338 non-null int64\n",
    "OpenPorchSF      1338 non-null int64\n",
    "EnclosedPorch    1338 non-null int64\n",
    "3SsnPorch        1338 non-null int64\n",
    "ScreenPorch      1338 non-null int64\n",
    "PoolArea         1338 non-null int64\n",
    "MiscVal          1338 non-null int64\n",
    "MoSold           1338 non-null int64\n",
    "YrSold           1338 non-null int64\n",
    "SaleType         1338 non-null object\n",
    "SaleCondition    1338 non-null object\n",
    "SalePrice        1338 non-null int64\n",
    "dtypes: float64(2), int64(35), object(38)\n",
    "memory usage: 784.1+ KB\n",
    "```"
   ]
  },
  {
   "cell_type": "code",
   "execution_count": null,
   "metadata": {},
   "outputs": [],
   "source": [
    "print(data.describe())"
   ]
  },
  {
   "cell_type": "markdown",
   "metadata": {},
   "source": [
    "### Ожидаемый результат:\n",
    "\n",
    "```\n",
    "                Id   MSSubClass        LotArea  OverallQual  OverallCond  \\\n",
    "count  1338.000000  1338.000000    1338.000000  1338.000000  1338.000000   \n",
    "mean    731.228700    56.136024   10706.294469     6.219731     5.596413   \n",
    "std     421.779691    41.252576   10336.621126     1.324472     1.078124   \n",
    "min       1.000000    20.000000    1300.000000     2.000000     2.000000   \n",
    "25%     366.250000    20.000000    7744.000000     5.000000     5.000000   \n",
    "50%     730.500000    50.000000    9600.000000     6.000000     5.000000   \n",
    "75%    1098.750000    70.000000   11760.750000     7.000000     6.000000   \n",
    "max    1460.000000   190.000000  215245.000000    10.000000     9.000000   \n",
    "\n",
    "         YearBuilt  YearRemodAdd   MasVnrArea   BsmtFinSF1   BsmtFinSF2  ...  \\\n",
    "count  1338.000000   1338.000000  1338.000000  1338.000000  1338.000000  ...   \n",
    "mean   1973.029148   1985.668909   110.360239   464.234679    49.218236  ...   \n",
    "std      29.563540     20.296463   185.604816   458.792420   166.196584  ...   \n",
    "min    1880.000000   1950.000000     0.000000     0.000000     0.000000  ...   \n",
    "25%    1956.000000   1968.000000     0.000000     0.000000     0.000000  ...   \n",
    "50%    1976.000000   1994.500000     0.000000   413.000000     0.000000  ...   \n",
    "75%    2001.000000   2004.000000   174.000000   733.000000     0.000000  ...   \n",
    "max    2010.000000   2010.000000  1600.000000  5644.000000  1474.000000  ...   \n",
    "\n",
    "        WoodDeckSF  OpenPorchSF  EnclosedPorch    3SsnPorch  ScreenPorch  \\\n",
    "count  1338.000000  1338.000000    1338.000000  1338.000000   1338.00000   \n",
    "mean     99.384903    47.782511      21.263827     3.585949     16.43423   \n",
    "std     127.537065    65.362562      60.843964    30.224622     58.05159   \n",
    "min       0.000000     0.000000       0.000000     0.000000      0.00000   \n",
    "25%       0.000000     0.000000       0.000000     0.000000      0.00000   \n",
    "50%       6.000000    28.000000       0.000000     0.000000      0.00000   \n",
    "75%     174.500000    70.000000       0.000000     0.000000      0.00000   \n",
    "max     857.000000   547.000000     552.000000   508.000000    480.00000   \n",
    "\n",
    "          PoolArea       MiscVal       MoSold       YrSold      SalePrice  \n",
    "count  1338.000000   1338.000000  1338.000000  1338.000000    1338.000000  \n",
    "mean      3.010463     42.932735     6.331839  2007.805680  186761.782511  \n",
    "std      41.961337    508.056255     2.699437     1.330691   78913.847668  \n",
    "min       0.000000      0.000000     1.000000  2006.000000   35311.000000  \n",
    "25%       0.000000      0.000000     5.000000  2007.000000  135000.000000  \n",
    "50%       0.000000      0.000000     6.000000  2008.000000  168500.000000  \n",
    "75%       0.000000      0.000000     8.000000  2009.000000  220000.000000  \n",
    "max     738.000000  15500.000000    12.000000  2010.000000  755000.000000  \n",
    "\n",
    "[8 rows x 37 columns]\n",
    "```"
   ]
  },
  {
   "cell_type": "markdown",
   "metadata": {},
   "source": [
    "**Распечатайте первые и последние 5 строк pandas.DataFrame:**"
   ]
  },
  {
   "cell_type": "code",
   "execution_count": null,
   "metadata": {},
   "outputs": [],
   "source": [
    "#Начало вашего кода\n",
    "\n",
    "#Конец вашего кода"
   ]
  },
  {
   "cell_type": "markdown",
   "metadata": {},
   "source": [
    "### Ожидаемый результат:\n",
    "\n",
    "```\n",
    "   Id  MSSubClass MSZoning  LotArea Street LotShape LandContour Utilities  \\\n",
    "0   1          60       RL     8450   Pave      Reg         Lvl    AllPub   \n",
    "1   2          20       RL     9600   Pave      Reg         Lvl    AllPub   \n",
    "2   3          60       RL    11250   Pave      IR1         Lvl    AllPub   \n",
    "3   4          70       RL     9550   Pave      IR1         Lvl    AllPub   \n",
    "4   5          60       RL    14260   Pave      IR1         Lvl    AllPub   \n",
    "\n",
    "  LotConfig LandSlope  ... EnclosedPorch 3SsnPorch ScreenPorch PoolArea  \\\n",
    "0    Inside       Gtl  ...             0         0           0        0   \n",
    "1       FR2       Gtl  ...             0         0           0        0   \n",
    "2    Inside       Gtl  ...             0         0           0        0   \n",
    "3    Corner       Gtl  ...           272         0           0        0   \n",
    "4       FR2       Gtl  ...             0         0           0        0   \n",
    "\n",
    "  MiscVal  MoSold  YrSold  SaleType  SaleCondition SalePrice  \n",
    "0       0       2    2008        WD         Normal    208500  \n",
    "1       0       5    2007        WD         Normal    181500  \n",
    "2       0       9    2008        WD         Normal    223500  \n",
    "3       0       2    2006        WD        Abnorml    140000  \n",
    "4       0      12    2008        WD         Normal    250000  \n",
    "\n",
    "[5 rows x 75 columns]\n",
    "        Id  MSSubClass MSZoning  LotArea Street LotShape LandContour  \\\n",
    "1333  1456          60       RL     7917   Pave      Reg         Lvl   \n",
    "1334  1457          20       RL    13175   Pave      Reg         Lvl   \n",
    "1335  1458          70       RL     9042   Pave      Reg         Lvl   \n",
    "1336  1459          20       RL     9717   Pave      Reg         Lvl   \n",
    "1337  1460          20       RL     9937   Pave      Reg         Lvl   \n",
    "\n",
    "     Utilities LotConfig LandSlope  ... EnclosedPorch 3SsnPorch ScreenPorch  \\\n",
    "1333    AllPub    Inside       Gtl  ...             0         0           0   \n",
    "1334    AllPub    Inside       Gtl  ...             0         0           0   \n",
    "1335    AllPub    Inside       Gtl  ...             0         0           0   \n",
    "1336    AllPub    Inside       Gtl  ...           112         0           0   \n",
    "1337    AllPub    Inside       Gtl  ...             0         0           0   \n",
    "\n",
    "     PoolArea MiscVal  MoSold  YrSold  SaleType  SaleCondition SalePrice  \n",
    "1333        0       0       8    2007        WD         Normal    175000  \n",
    "1334        0       0       2    2010        WD         Normal    210000  \n",
    "1335        0    2500       5    2010        WD         Normal    266500  \n",
    "1336        0       0       4    2010        WD         Normal    142125  \n",
    "1337        0       0       6    2008        WD         Normal    147500  \n",
    "\n",
    "[5 rows x 75 columns]\n",
    "```"
   ]
  },
  {
   "cell_type": "markdown",
   "metadata": {},
   "source": [
    "### Шаг 2\n",
    "\n",
    "Запустите приведенный ниже блок кода и попытайтесь получить представление о данных, которые вы просматриваете.\n"
   ]
  },
  {
   "cell_type": "code",
   "execution_count": null,
   "metadata": {
    "scrolled": false
   },
   "outputs": [],
   "source": [
    "pd_data=data.copy()\n",
    "pd_data.set_index(\"Id\",inplace=True)\n",
    "pd_data"
   ]
  },
  {
   "cell_type": "code",
   "execution_count": null,
   "metadata": {},
   "outputs": [],
   "source": [
    "pd_data.dtypes"
   ]
  },
  {
   "cell_type": "markdown",
   "metadata": {},
   "source": [
    "Пожалуйста, реализуйте функцию ```split_str nums(date)```, которая возвращает один ```DataFrame```, содержащий **не числовые** элементы, и второй ```DataFrame``` **только с числовыми** элементами."
   ]
  },
  {
   "cell_type": "code",
   "execution_count": null,
   "metadata": {},
   "outputs": [],
   "source": [
    "#Начало вашего кода\n",
    "\n",
    "#Конец вашего кода\n",
    "str_data,num_data=split_str_nums(pd_data)"
   ]
  },
  {
   "cell_type": "code",
   "execution_count": null,
   "metadata": {},
   "outputs": [],
   "source": [
    "print(str_data)"
   ]
  },
  {
   "cell_type": "markdown",
   "metadata": {},
   "source": [
    "### Ожидаемый результат:\n",
    "\n",
    "```\n",
    "     MSZoning Street LotShape LandContour Utilities LotConfig LandSlope  \\\n",
    "Id                                                                        \n",
    "1          RL   Pave      Reg         Lvl    AllPub    Inside       Gtl   \n",
    "2          RL   Pave      Reg         Lvl    AllPub       FR2       Gtl   \n",
    "3          RL   Pave      IR1         Lvl    AllPub    Inside       Gtl   \n",
    "4          RL   Pave      IR1         Lvl    AllPub    Corner       Gtl   \n",
    "5          RL   Pave      IR1         Lvl    AllPub       FR2       Gtl   \n",
    "...       ...    ...      ...         ...       ...       ...       ...   \n",
    "1456       RL   Pave      Reg         Lvl    AllPub    Inside       Gtl   \n",
    "1457       RL   Pave      Reg         Lvl    AllPub    Inside       Gtl   \n",
    "1458       RL   Pave      Reg         Lvl    AllPub    Inside       Gtl   \n",
    "1459       RL   Pave      Reg         Lvl    AllPub    Inside       Gtl   \n",
    "1460       RL   Pave      Reg         Lvl    AllPub    Inside       Gtl   \n",
    "\n",
    "     Neighborhood Condition1 Condition2  ... Electrical KitchenQual  \\\n",
    "Id                                       ...                          \n",
    "1         CollgCr       Norm       Norm  ...      SBrkr          Gd   \n",
    "2         Veenker      Feedr       Norm  ...      SBrkr          TA   \n",
    "3         CollgCr       Norm       Norm  ...      SBrkr          Gd   \n",
    "4         Crawfor       Norm       Norm  ...      SBrkr          Gd   \n",
    "5         NoRidge       Norm       Norm  ...      SBrkr          Gd   \n",
    "...           ...        ...        ...  ...        ...         ...   \n",
    "1456      Gilbert       Norm       Norm  ...      SBrkr          TA   \n",
    "1457       NWAmes       Norm       Norm  ...      SBrkr          TA   \n",
    "1458      Crawfor       Norm       Norm  ...      SBrkr          Gd   \n",
    "1459        NAmes       Norm       Norm  ...      FuseA          Gd   \n",
    "1460      Edwards       Norm       Norm  ...      SBrkr          TA   \n",
    "\n",
    "     Functional GarageType GarageFinish GarageQual GarageCond PavedDrive  \\\n",
    "Id                                                                         \n",
    "1           Typ     Attchd          RFn         TA         TA          Y   \n",
    "2           Typ     Attchd          RFn         TA         TA          Y   \n",
    "3           Typ     Attchd          RFn         TA         TA          Y   \n",
    "4           Typ     Detchd          Unf         TA         TA          Y   \n",
    "5           Typ     Attchd          RFn         TA         TA          Y   \n",
    "...         ...        ...          ...        ...        ...        ...   \n",
    "1456        Typ     Attchd          RFn         TA         TA          Y   \n",
    "1457       Min1     Attchd          Unf         TA         TA          Y   \n",
    "1458        Typ     Attchd          RFn         TA         TA          Y   \n",
    "1459        Typ     Attchd          Unf         TA         TA          Y   \n",
    "1460        Typ     Attchd          Fin         TA         TA          Y   \n",
    "\n",
    "     SaleType SaleCondition  \n",
    "Id                           \n",
    "1          WD        Normal  \n",
    "2          WD        Normal  \n",
    "3          WD        Normal  \n",
    "4          WD       Abnorml  \n",
    "5          WD        Normal  \n",
    "...       ...           ...  \n",
    "1456       WD        Normal  \n",
    "1457       WD        Normal  \n",
    "1458       WD        Normal  \n",
    "1459       WD        Normal  \n",
    "1460       WD        Normal  \n",
    "\n",
    "[1338 rows x 38 columns]\n",
    "```"
   ]
  },
  {
   "cell_type": "code",
   "execution_count": null,
   "metadata": {},
   "outputs": [],
   "source": [
    "print(num_data)"
   ]
  },
  {
   "cell_type": "markdown",
   "metadata": {},
   "source": [
    "### Ожидаемый результат:\n",
    "\n",
    "```\n",
    "      MSSubClass  LotArea  OverallQual  OverallCond  YearBuilt  YearRemodAdd  \\\n",
    "Id                                                                             \n",
    "1             60     8450            7            5       2003          2003   \n",
    "2             20     9600            6            8       1976          1976   \n",
    "3             60    11250            7            5       2001          2002   \n",
    "4             70     9550            7            5       1915          1970   \n",
    "5             60    14260            8            5       2000          2000   \n",
    "...          ...      ...          ...          ...        ...           ...   \n",
    "1456          60     7917            6            5       1999          2000   \n",
    "1457          20    13175            6            6       1978          1988   \n",
    "1458          70     9042            7            9       1941          2006   \n",
    "1459          20     9717            5            6       1950          1996   \n",
    "1460          20     9937            5            6       1965          1965   \n",
    "\n",
    "      MasVnrArea  BsmtFinSF1  BsmtFinSF2  BsmtUnfSF  ...  WoodDeckSF  \\\n",
    "Id                                                   ...               \n",
    "1          196.0         706           0        150  ...           0   \n",
    "2            0.0         978           0        284  ...         298   \n",
    "3          162.0         486           0        434  ...           0   \n",
    "4            0.0         216           0        540  ...           0   \n",
    "5          350.0         655           0        490  ...         192   \n",
    "...          ...         ...         ...        ...  ...         ...   \n",
    "1456         0.0           0           0        953  ...           0   \n",
    "1457       119.0         790         163        589  ...         349   \n",
    "1458         0.0         275           0        877  ...           0   \n",
    "1459         0.0          49        1029          0  ...         366   \n",
    "1460         0.0         830         290        136  ...         736   \n",
    "\n",
    "      OpenPorchSF  EnclosedPorch  3SsnPorch  ScreenPorch  PoolArea  MiscVal  \\\n",
    "Id                                                                            \n",
    "1              61              0          0            0         0        0   \n",
    "2               0              0          0            0         0        0   \n",
    "3              42              0          0            0         0        0   \n",
    "4              35            272          0            0         0        0   \n",
    "5              84              0          0            0         0        0   \n",
    "...           ...            ...        ...          ...       ...      ...   \n",
    "1456           40              0          0            0         0        0   \n",
    "1457            0              0          0            0         0        0   \n",
    "1458           60              0          0            0         0     2500   \n",
    "1459            0            112          0            0         0        0   \n",
    "1460           68              0          0            0         0        0   \n",
    "\n",
    "      MoSold  YrSold  SalePrice  \n",
    "Id                               \n",
    "1          2    2008     208500  \n",
    "2          5    2007     181500  \n",
    "3          9    2008     223500  \n",
    "4          2    2006     140000  \n",
    "5         12    2008     250000  \n",
    "...      ...     ...        ...  \n",
    "1456       8    2007     175000  \n",
    "1457       2    2010     210000  \n",
    "1458       5    2010     266500  \n",
    "1459       4    2010     142125  \n",
    "1460       6    2008     147500  \n",
    "\n",
    "[1338 rows x 36 columns]\n",
    "```"
   ]
  },
  {
   "cell_type": "markdown",
   "metadata": {},
   "source": [
    "### Шаг 3\n",
    "\n",
    "Как видно из данных, в некоторых столбцах много повторений. Пожалуйста, реализуйте функцию ```count_values(data, column)```, которая будет подсчитывать количество повторений для определенного столбца во входном аргументе ```data```.\n",
    "\n",
    "Эта функция должна обрабатывать следующие случаи:\n",
    "* если входной аргумент ```data``` пуст, выведите ошибку и верните пустой ```DataFrame```.\n",
    "* если входной аргумент ```column``` имеет тип ```str```, верните ```DataFrame``` с результатами подсчета повторных значений для данного столбца во входном аргументе `` `data```.\n",
    "* если входной аргумент ```column``` имеет тип ```list```, верните ```DataFrame``` с количеством повторных значений результатов для указанных столбцов из входного аргумента ```data```.\n",
    "* если входной аргумент ```column``` пуст, верните ```DataFrame``` с количеством повторных значений результатов для всех столбцов из входного аргумента ```data```.\n",
    "\n",
    "\n",
    "```DataFrame```, возвращаемый функцией, должен быть отсортирован в порядке убывания.\n"
   ]
  },
  {
   "cell_type": "code",
   "execution_count": null,
   "metadata": {},
   "outputs": [],
   "source": [
    "#Начало вашего кода\n",
    "\n",
    "#Конец вашего кода"
   ]
  },
  {
   "cell_type": "code",
   "execution_count": null,
   "metadata": {},
   "outputs": [],
   "source": [
    "print(count_values(data=str_data))"
   ]
  },
  {
   "cell_type": "markdown",
   "metadata": {},
   "source": [
    "### Ожидаемый результат:\n",
    "\n",
    "```\n",
    "         frequency\n",
    "RL          1066.0\n",
    "RM           191.0\n",
    "FV            62.0\n",
    "RH            11.0\n",
    "C (all)        8.0\n",
    "...            ...\n",
    "Partial      120.0\n",
    "Abnorml       86.0\n",
    "Family        20.0\n",
    "Alloca         7.0\n",
    "AdjLand        1.0\n",
    "\n",
    "[229 rows x 1 columns]\n",
    "```"
   ]
  },
  {
   "cell_type": "code",
   "execution_count": null,
   "metadata": {},
   "outputs": [],
   "source": [
    "print(count_values(data=str_data,column=\"Condition1\"))"
   ]
  },
  {
   "cell_type": "markdown",
   "metadata": {},
   "source": [
    "### Ожидаемый результат:\n",
    "\n",
    "```\n",
    "        frequency\n",
    "Norm         1162\n",
    "Feedr          63\n",
    "Artery         43\n",
    "RRAn           26\n",
    "PosN           19\n",
    "RRAe           10\n",
    "PosA            8\n",
    "RRNn            5\n",
    "RRNe            2\n",
    "```"
   ]
  },
  {
   "cell_type": "code",
   "execution_count": null,
   "metadata": {},
   "outputs": [],
   "source": [
    "print(count_values(data=str_data,column=[\"Condition1\",\"Condition2\"]))"
   ]
  },
  {
   "cell_type": "markdown",
   "metadata": {},
   "source": [
    "### Ожидаемый результат:\n",
    "\n",
    "```\n",
    "        frequency\n",
    "Norm       1162.0\n",
    "Feedr        63.0\n",
    "Artery       43.0\n",
    "RRAn         26.0\n",
    "PosN         19.0\n",
    "RRAe         10.0\n",
    "PosA          8.0\n",
    "RRNn          5.0\n",
    "RRNe          2.0\n",
    "Norm       1324.0\n",
    "Feedr         5.0\n",
    "Artery        2.0\n",
    "PosN          2.0\n",
    "RRNn          2.0\n",
    "RRAn          1.0\n",
    "RRAe          1.0\n",
    "PosA          1.0\n",
    "```"
   ]
  },
  {
   "cell_type": "markdown",
   "metadata": {},
   "source": [
    "### Шаг 4\n",
    "\n",
    "Пожалуйста, реализуйте функцию ```save_to_csv(имя файла, данные)```, которая будет экспортировать **непустой** ```DataFrame``` в csv-файл ```filename```. Обратите внимание на обработку ошибок входных аргументов."
   ]
  },
  {
   "cell_type": "code",
   "execution_count": null,
   "metadata": {},
   "outputs": [],
   "source": [
    "#Начало вашего кода\n",
    "def save_to_csv(filename, data=pd.DataFrame()):\n",
    "\n",
    "#Конец вашего кода"
   ]
  },
  {
   "cell_type": "code",
   "execution_count": null,
   "metadata": {},
   "outputs": [],
   "source": [
    "save_to_csv(\"House_Prices\",str_data)"
   ]
  },
  {
   "cell_type": "markdown",
   "metadata": {},
   "source": [
    "### Ожидаемый результат:\n",
    "\n",
    "```\n",
    "'Error: House_Prices.csv already exists, please try another file name'\n",
    "```"
   ]
  },
  {
   "cell_type": "code",
   "execution_count": null,
   "metadata": {},
   "outputs": [],
   "source": [
    "save_to_csv(\"str_house_prices\",str_data)"
   ]
  },
  {
   "cell_type": "markdown",
   "metadata": {},
   "source": [
    "### Ожидаемый результат:\n",
    "\n",
    "```\n",
    "'str_house_prices.csv is created'\n",
    "```"
   ]
  },
  {
   "cell_type": "code",
   "execution_count": null,
   "metadata": {},
   "outputs": [],
   "source": [
    "save_to_csv(\"num_house_prices\",num_data)"
   ]
  },
  {
   "cell_type": "markdown",
   "metadata": {},
   "source": [
    "### Ожидаемый результат:\n",
    "\n",
    "```\n",
    "'num_house_prices.csv is created'\n",
    "```"
   ]
  },
  {
   "cell_type": "code",
   "execution_count": null,
   "metadata": {},
   "outputs": [],
   "source": [
    "os.path.exists(\"num_house_prices.csv\")"
   ]
  },
  {
   "cell_type": "markdown",
   "metadata": {},
   "source": [
    "### Ожидаемый результат:\n",
    "\n",
    "```\n",
    "True\n",
    "```"
   ]
  },
  {
   "cell_type": "markdown",
   "metadata": {},
   "source": [
    "# Прекрасная работа!"
   ]
  }
 ],
 "metadata": {
  "kernelspec": {
   "display_name": "Python 3",
   "language": "python",
   "name": "python3"
  },
  "language_info": {
   "codemirror_mode": {
    "name": "ipython",
    "version": 3
   },
   "file_extension": ".py",
   "mimetype": "text/x-python",
   "name": "python",
   "nbconvert_exporter": "python",
   "pygments_lexer": "ipython3",
   "version": "3.6.10"
  }
 },
 "nbformat": 4,
 "nbformat_minor": 2
}
