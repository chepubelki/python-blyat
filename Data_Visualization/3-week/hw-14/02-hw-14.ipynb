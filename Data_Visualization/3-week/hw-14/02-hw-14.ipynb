{
 "cells": [
  {
   "cell_type": "markdown",
   "metadata": {},
   "source": [
    "### pandas: Детали (Часть 1) [Домашнее задание]\n",
    "> **Вы должны импортировать все необходимые пакеты самостоятельно.**\n",
    "\n",
    "> **Пишите код только там, где это показано для записи. Не удаляйте комментарии!**\n",
    " "
   ]
  },
  {
   "cell_type": "markdown",
   "metadata": {},
   "source": [
    "### Шаг 1\n",
    "\n",
    "Пожалуйста, напишите функцию ```load_data(filename)```, которая будет загружать данные из csv-файла в список списков. Пожалуйста, напишите функцию ```load_data(filename)```, которая будет загружать данные из csv-файла в ```DataFrame```. Файл ```House_Prices.csv``` предоставлен вместе с этим jupyter notebook.\n",
    "\n",
    "\n",
    "**Примечание:**\n",
    "\n",
    "* В случае, если имя файла задано неверно, функция ```load_data``` должна вывести следующее сообщение об ошибке:\n",
    "\n",
    "```{имя файла} does not exist```"
   ]
  },
  {
   "cell_type": "code",
   "execution_count": null,
   "metadata": {},
   "outputs": [],
   "source": [
    "#Начало вашего кода\n",
    "\n",
    "#Конец вашего кода"
   ]
  },
  {
   "cell_type": "code",
   "execution_count": null,
   "metadata": {},
   "outputs": [],
   "source": [
    "filename = \"./SocialNetworkAds.csv\"\n",
    "data = load_data(filename=filename)"
   ]
  },
  {
   "cell_type": "markdown",
   "metadata": {},
   "source": [
    "### Ожидаемый результат:\n",
    "\n",
    "```\n",
    "./SocialNetworkAds.csv does not exist\n",
    "```"
   ]
  },
  {
   "cell_type": "code",
   "execution_count": null,
   "metadata": {},
   "outputs": [],
   "source": [
    "print(data)"
   ]
  },
  {
   "cell_type": "markdown",
   "metadata": {},
   "source": [
    "### Ожидаемый результат:\n",
    "\n",
    "```\n",
    "None\n",
    "```"
   ]
  },
  {
   "cell_type": "code",
   "execution_count": null,
   "metadata": {},
   "outputs": [],
   "source": [
    "filename = \"./House_Prices.csv\"\n",
    "data = load_data(filename=filename)"
   ]
  },
  {
   "cell_type": "code",
   "execution_count": null,
   "metadata": {},
   "outputs": [],
   "source": [
    "print(data.columns.values)"
   ]
  },
  {
   "cell_type": "markdown",
   "metadata": {},
   "source": [
    "### Ожидаемый результат:\n",
    "\n",
    "```\n",
    "['Id' 'MSSubClass' 'MSZoning' 'LotFrontage' 'LotArea' 'Street' 'Alley'\n",
    " 'LotShape' 'LandContour' 'Utilities' 'LotConfig' 'LandSlope'\n",
    " 'Neighborhood' 'Condition1' 'Condition2' 'BldgType' 'HouseStyle'\n",
    " 'OverallQual' 'OverallCond' 'YearBuilt' 'YearRemodAdd' 'RoofStyle'\n",
    " 'RoofMatl' 'Exterior1st' 'Exterior2nd' 'MasVnrType' 'MasVnrArea'\n",
    " 'ExterQual' 'ExterCond' 'Foundation' 'BsmtQual' 'BsmtCond' 'BsmtExposure'\n",
    " 'BsmtFinType1' 'BsmtFinSF1' 'BsmtFinType2' 'BsmtFinSF2' 'BsmtUnfSF'\n",
    " 'TotalBsmtSF' 'Heating' 'HeatingQC' 'CentralAir' 'Electrical' '1stFlrSF'\n",
    " '2ndFlrSF' 'LowQualFinSF' 'GrLivArea' 'BsmtFullBath' 'BsmtHalfBath'\n",
    " 'FullBath' 'HalfBath' 'BedroomAbvGr' 'KitchenAbvGr' 'KitchenQual'\n",
    " 'TotRmsAbvGrd' 'Functional' 'Fireplaces' 'FireplaceQu' 'GarageType'\n",
    " 'GarageYrBlt' 'GarageFinish' 'GarageCars' 'GarageArea' 'GarageQual'\n",
    " 'GarageCond' 'PavedDrive' 'WoodDeckSF' 'OpenPorchSF' 'EnclosedPorch'\n",
    " '3SsnPorch' 'ScreenPorch' 'PoolArea' 'PoolQC' 'Fence' 'MiscFeature'\n",
    " 'MiscVal' 'MoSold' 'YrSold' 'SaleType' 'SaleCondition' 'SalePrice']\n",
    "```"
   ]
  },
  {
   "cell_type": "code",
   "execution_count": null,
   "metadata": {},
   "outputs": [],
   "source": [
    "data.info()"
   ]
  },
  {
   "cell_type": "markdown",
   "metadata": {},
   "source": [
    "### Ожидаемый результат:\n",
    "\n",
    "```\n",
    "<class 'pandas.core.frame.DataFrame'>\n",
    "RangeIndex: 1460 entries, 0 to 1459\n",
    "Data columns (total 81 columns):\n",
    "Id               1460 non-null int64\n",
    "MSSubClass       1460 non-null int64\n",
    "MSZoning         1460 non-null object\n",
    "LotFrontage      1201 non-null float64\n",
    "LotArea          1460 non-null int64\n",
    "Street           1460 non-null object\n",
    "Alley            91 non-null object\n",
    "LotShape         1460 non-null object\n",
    "LandContour      1460 non-null object\n",
    "Utilities        1460 non-null object\n",
    "LotConfig        1460 non-null object\n",
    "LandSlope        1460 non-null object\n",
    "Neighborhood     1460 non-null object\n",
    "Condition1       1460 non-null object\n",
    "Condition2       1460 non-null object\n",
    "BldgType         1460 non-null object\n",
    "HouseStyle       1460 non-null object\n",
    "OverallQual      1460 non-null int64\n",
    "OverallCond      1460 non-null int64\n",
    "YearBuilt        1460 non-null int64\n",
    "YearRemodAdd     1460 non-null int64\n",
    "RoofStyle        1460 non-null object\n",
    "RoofMatl         1460 non-null object\n",
    "Exterior1st      1460 non-null object\n",
    "Exterior2nd      1460 non-null object\n",
    "MasVnrType       1452 non-null object\n",
    "MasVnrArea       1452 non-null float64\n",
    "ExterQual        1460 non-null object\n",
    "ExterCond        1460 non-null object\n",
    "Foundation       1460 non-null object\n",
    "BsmtQual         1423 non-null object\n",
    "BsmtCond         1423 non-null object\n",
    "BsmtExposure     1422 non-null object\n",
    "BsmtFinType1     1423 non-null object\n",
    "BsmtFinSF1       1460 non-null int64\n",
    "BsmtFinType2     1422 non-null object\n",
    "BsmtFinSF2       1460 non-null int64\n",
    "BsmtUnfSF        1460 non-null int64\n",
    "TotalBsmtSF      1460 non-null int64\n",
    "Heating          1460 non-null object\n",
    "HeatingQC        1460 non-null object\n",
    "CentralAir       1460 non-null object\n",
    "Electrical       1459 non-null object\n",
    "1stFlrSF         1460 non-null int64\n",
    "2ndFlrSF         1460 non-null int64\n",
    "LowQualFinSF     1460 non-null int64\n",
    "GrLivArea        1460 non-null int64\n",
    "BsmtFullBath     1460 non-null int64\n",
    "BsmtHalfBath     1460 non-null int64\n",
    "FullBath         1460 non-null int64\n",
    "HalfBath         1460 non-null int64\n",
    "BedroomAbvGr     1460 non-null int64\n",
    "KitchenAbvGr     1460 non-null int64\n",
    "KitchenQual      1460 non-null object\n",
    "TotRmsAbvGrd     1460 non-null int64\n",
    "Functional       1460 non-null object\n",
    "Fireplaces       1460 non-null int64\n",
    "FireplaceQu      770 non-null object\n",
    "GarageType       1379 non-null object\n",
    "GarageYrBlt      1379 non-null float64\n",
    "GarageFinish     1379 non-null object\n",
    "GarageCars       1460 non-null int64\n",
    "GarageArea       1460 non-null int64\n",
    "GarageQual       1379 non-null object\n",
    "GarageCond       1379 non-null object\n",
    "PavedDrive       1460 non-null object\n",
    "WoodDeckSF       1460 non-null int64\n",
    "OpenPorchSF      1460 non-null int64\n",
    "EnclosedPorch    1460 non-null int64\n",
    "3SsnPorch        1460 non-null int64\n",
    "ScreenPorch      1460 non-null int64\n",
    "PoolArea         1460 non-null int64\n",
    "PoolQC           7 non-null object\n",
    "Fence            281 non-null object\n",
    "MiscFeature      54 non-null object\n",
    "MiscVal          1460 non-null int64\n",
    "MoSold           1460 non-null int64\n",
    "YrSold           1460 non-null int64\n",
    "SaleType         1460 non-null object\n",
    "SaleCondition    1460 non-null object\n",
    "SalePrice        1460 non-null int64\n",
    "dtypes: float64(3), int64(35), object(43)\n",
    "memory usage: 924.0+ KB\n",
    "```"
   ]
  },
  {
   "cell_type": "code",
   "execution_count": null,
   "metadata": {},
   "outputs": [],
   "source": [
    "print(data.describe())"
   ]
  },
  {
   "cell_type": "markdown",
   "metadata": {},
   "source": [
    "### Ожидаемый результат:\n",
    "\n",
    "```\n",
    "                Id   MSSubClass  LotFrontage        LotArea  OverallQual  \\\n",
    "count  1460.000000  1460.000000  1201.000000    1460.000000  1460.000000   \n",
    "mean    730.500000    56.897260    70.049958   10516.828082     6.099315   \n",
    "std     421.610009    42.300571    24.284752    9981.264932     1.382997   \n",
    "min       1.000000    20.000000    21.000000    1300.000000     1.000000   \n",
    "25%     365.750000    20.000000    59.000000    7553.500000     5.000000   \n",
    "50%     730.500000    50.000000    69.000000    9478.500000     6.000000   \n",
    "75%    1095.250000    70.000000    80.000000   11601.500000     7.000000   \n",
    "max    1460.000000   190.000000   313.000000  215245.000000    10.000000   \n",
    "\n",
    "       OverallCond    YearBuilt  YearRemodAdd   MasVnrArea   BsmtFinSF1  ...  \\\n",
    "count  1460.000000  1460.000000   1460.000000  1452.000000  1460.000000  ...   \n",
    "mean      5.575342  1971.267808   1984.865753   103.685262   443.639726  ...   \n",
    "std       1.112799    30.202904     20.645407   181.066207   456.098091  ...   \n",
    "min       1.000000  1872.000000   1950.000000     0.000000     0.000000  ...   \n",
    "25%       5.000000  1954.000000   1967.000000     0.000000     0.000000  ...   \n",
    "50%       5.000000  1973.000000   1994.000000     0.000000   383.500000  ...   \n",
    "75%       6.000000  2000.000000   2004.000000   166.000000   712.250000  ...   \n",
    "max       9.000000  2010.000000   2010.000000  1600.000000  5644.000000  ...   \n",
    "\n",
    "        WoodDeckSF  OpenPorchSF  EnclosedPorch    3SsnPorch  ScreenPorch  \\\n",
    "count  1460.000000  1460.000000    1460.000000  1460.000000  1460.000000   \n",
    "mean     94.244521    46.660274      21.954110     3.409589    15.060959   \n",
    "std     125.338794    66.256028      61.119149    29.317331    55.757415   \n",
    "min       0.000000     0.000000       0.000000     0.000000     0.000000   \n",
    "25%       0.000000     0.000000       0.000000     0.000000     0.000000   \n",
    "50%       0.000000    25.000000       0.000000     0.000000     0.000000   \n",
    "75%     168.000000    68.000000       0.000000     0.000000     0.000000   \n",
    "max     857.000000   547.000000     552.000000   508.000000   480.000000   \n",
    "\n",
    "          PoolArea       MiscVal       MoSold       YrSold      SalePrice  \n",
    "count  1460.000000   1460.000000  1460.000000  1460.000000    1460.000000  \n",
    "mean      2.758904     43.489041     6.321918  2007.815753  180921.195890  \n",
    "std      40.177307    496.123024     2.703626     1.328095   79442.502883  \n",
    "min       0.000000      0.000000     1.000000  2006.000000   34900.000000  \n",
    "25%       0.000000      0.000000     5.000000  2007.000000  129975.000000  \n",
    "50%       0.000000      0.000000     6.000000  2008.000000  163000.000000  \n",
    "75%       0.000000      0.000000     8.000000  2009.000000  214000.000000  \n",
    "max     738.000000  15500.000000    12.000000  2010.000000  755000.000000\n",
    "```"
   ]
  },
  {
   "cell_type": "markdown",
   "metadata": {},
   "source": [
    "**Распечатайте первые и последние 5 строк pandas.DataFrame:**"
   ]
  },
  {
   "cell_type": "code",
   "execution_count": null,
   "metadata": {},
   "outputs": [],
   "source": [
    "#Начало вашего кода\n",
    "\n",
    "#Конец вашего кода"
   ]
  },
  {
   "cell_type": "markdown",
   "metadata": {},
   "source": [
    "### Ожидаемый результат:\n",
    "\n",
    "```\n",
    "   Id  MSSubClass MSZoning  LotFrontage  LotArea Street Alley LotShape  \\\n",
    "0   1          60       RL         65.0     8450   Pave   NaN      Reg   \n",
    "1   2          20       RL         80.0     9600   Pave   NaN      Reg   \n",
    "2   3          60       RL         68.0    11250   Pave   NaN      IR1   \n",
    "3   4          70       RL         60.0     9550   Pave   NaN      IR1   \n",
    "4   5          60       RL         84.0    14260   Pave   NaN      IR1   \n",
    "\n",
    "  LandContour Utilities  ... PoolArea PoolQC Fence MiscFeature MiscVal MoSold  \\\n",
    "0         Lvl    AllPub  ...        0    NaN   NaN         NaN       0      2   \n",
    "1         Lvl    AllPub  ...        0    NaN   NaN         NaN       0      5   \n",
    "2         Lvl    AllPub  ...        0    NaN   NaN         NaN       0      9   \n",
    "3         Lvl    AllPub  ...        0    NaN   NaN         NaN       0      2   \n",
    "4         Lvl    AllPub  ...        0    NaN   NaN         NaN       0     12   \n",
    "\n",
    "  YrSold  SaleType  SaleCondition  SalePrice  \n",
    "0   2008        WD         Normal     208500  \n",
    "1   2007        WD         Normal     181500  \n",
    "2   2008        WD         Normal     223500  \n",
    "3   2006        WD        Abnorml     140000  \n",
    "4   2008        WD         Normal     250000  \n",
    "\n",
    "[5 rows x 81 columns]\n",
    "        Id  MSSubClass MSZoning  LotFrontage  LotArea Street Alley LotShape  \\\n",
    "1455  1456          60       RL         62.0     7917   Pave   NaN      Reg   \n",
    "1456  1457          20       RL         85.0    13175   Pave   NaN      Reg   \n",
    "1457  1458          70       RL         66.0     9042   Pave   NaN      Reg   \n",
    "1458  1459          20       RL         68.0     9717   Pave   NaN      Reg   \n",
    "1459  1460          20       RL         75.0     9937   Pave   NaN      Reg   \n",
    "\n",
    "     LandContour Utilities  ... PoolArea PoolQC  Fence MiscFeature MiscVal  \\\n",
    "1455         Lvl    AllPub  ...        0    NaN    NaN         NaN       0   \n",
    "1456         Lvl    AllPub  ...        0    NaN  MnPrv         NaN       0   \n",
    "1457         Lvl    AllPub  ...        0    NaN  GdPrv        Shed    2500   \n",
    "1458         Lvl    AllPub  ...        0    NaN    NaN         NaN       0   \n",
    "1459         Lvl    AllPub  ...        0    NaN    NaN         NaN       0   \n",
    "\n",
    "     MoSold YrSold  SaleType  SaleCondition  SalePrice  \n",
    "1455      8   2007        WD         Normal     175000  \n",
    "1456      2   2010        WD         Normal     210000  \n",
    "1457      5   2010        WD         Normal     266500  \n",
    "1458      4   2010        WD         Normal     142125  \n",
    "1459      6   2008        WD         Normal     147500 \n",
    "```"
   ]
  },
  {
   "cell_type": "markdown",
   "metadata": {},
   "source": [
    "### Шаг 2\n",
    "\n",
    "Запустите приведенный ниже блок кода и попытайтесь получить представление о данных, которые вы просматриваете.\n"
   ]
  },
  {
   "cell_type": "code",
   "execution_count": null,
   "metadata": {},
   "outputs": [],
   "source": [
    "pd_data=data.copy()\n",
    "pd_data.set_index(\"Id\",inplace=True)\n",
    "pd_data"
   ]
  },
  {
   "cell_type": "markdown",
   "metadata": {},
   "source": [
    "Пожалуйста, реализуйте функцию ```null_summary(data, threshold=0.15)```, которая будет вычислять количество ```NaN``` элементов для каждого столбца в ```data```. Эта функция должна возвращать:\n",
    "* ```DataFrame``` с двумя столбцами. Первый столбец ```\"count\"``` представляет количество ```NaN``` значений, а второй столбец ```\"percentage\"``` представляет процент ```NaN``` элементов по отношению к непустым элементам для каждого столбца входного аргумент ```data```.\n",
    "* ```list``` список имен столбцов с процентным содержанием элементов ```NaN```, превышающим значение входного аргумента ```threshold```. По умолчанию значение входного аргумента ```threshold``` составляет ```15%``` (или ```0.15```, как указано выше).\n",
    "\n",
    "**Подсказка: используйте ```pandas.concat([data1, data2], axis = 1)``` для объединения ```DataFrames``` или ```Serieses```.**"
   ]
  },
  {
   "cell_type": "code",
   "execution_count": null,
   "metadata": {},
   "outputs": [],
   "source": [
    "#Начало вашего кода\n",
    "#Конец вашего кода"
   ]
  },
  {
   "cell_type": "code",
   "execution_count": null,
   "metadata": {},
   "outputs": [],
   "source": [
    "summary,null_columns=null_summary()\n",
    "print(summary)\n",
    "print(null_columns)"
   ]
  },
  {
   "cell_type": "markdown",
   "metadata": {},
   "source": [
    "### Ожидаемый результат:\n",
    "\n",
    "```\n",
    "Error: DataFrame is empty\n",
    "None\n",
    "[]\n",
    "```"
   ]
  },
  {
   "cell_type": "code",
   "execution_count": null,
   "metadata": {},
   "outputs": [],
   "source": [
    "summary,null_columns=null_summary(data=pd_data, threshold=0.10) # 10%\n",
    "print(summary)"
   ]
  },
  {
   "cell_type": "markdown",
   "metadata": {},
   "source": [
    "### Ожидаемый результат:\n",
    "\n",
    "```\n",
    "               counts  percentage\n",
    "MSSubClass          0    0.000000\n",
    "MSZoning            0    0.000000\n",
    "LotFrontage       259   17.739726\n",
    "LotArea             0    0.000000\n",
    "Street              0    0.000000\n",
    "...               ...         ...\n",
    "MoSold              0    0.000000\n",
    "YrSold              0    0.000000\n",
    "SaleType            0    0.000000\n",
    "SaleCondition       0    0.000000\n",
    "SalePrice           0    0.000000\n",
    "\n",
    "[80 rows x 2 columns]\n",
    "```"
   ]
  },
  {
   "cell_type": "code",
   "execution_count": null,
   "metadata": {},
   "outputs": [],
   "source": [
    "null_columns"
   ]
  },
  {
   "cell_type": "markdown",
   "metadata": {},
   "source": [
    "### Ожидаемый результат:\n",
    "\n",
    "```\n",
    "['LotFrontage', 'Alley', 'FireplaceQu', 'PoolQC', 'Fence', 'MiscFeature']\n",
    "```"
   ]
  },
  {
   "cell_type": "markdown",
   "metadata": {},
   "source": [
    "### Шаг 3\n",
    "\n",
    "Пожалуйста, реализуйте функцию ```drop_null_columns(data, drop_cols)```, которая удалит столбцы, указанные в списке ```drop_cols``` из входного аргумента ```data```. Функция должна возвращать то же, что и входной ```DataFrame```, но без столбцов, перечисленных во входном аргументе ```drop_cols```."
   ]
  },
  {
   "cell_type": "code",
   "execution_count": null,
   "metadata": {},
   "outputs": [],
   "source": [
    "#Начало вашего кода\n",
    "\n",
    "#Конец вашего кода\n",
    "pd_data_drop=drop_null_columns(pd_data, null_columns)"
   ]
  },
  {
   "cell_type": "markdown",
   "metadata": {},
   "source": [
    "Выполните следующие два блока кода и визуально сравните ```pd_data``` и ```pd_data_drop```."
   ]
  },
  {
   "cell_type": "code",
   "execution_count": null,
   "metadata": {},
   "outputs": [],
   "source": [
    "pd_data"
   ]
  },
  {
   "cell_type": "code",
   "execution_count": null,
   "metadata": {},
   "outputs": [],
   "source": [
    "pd_data_drop"
   ]
  },
  {
   "cell_type": "code",
   "execution_count": null,
   "metadata": {},
   "outputs": [],
   "source": [
    "summary,_=null_summary(data=pd_data_drop)"
   ]
  },
  {
   "cell_type": "code",
   "execution_count": null,
   "metadata": {},
   "outputs": [],
   "source": [
    "summary"
   ]
  },
  {
   "cell_type": "markdown",
   "metadata": {},
   "source": [
    "### Шаг 4\n",
    "\n",
    "Пожалуйста, реализуйте функцию ```drop_null_rows(data)```, которая удалит все строки со значениями ```NaN```. Функция должна возвращать то же, что и входной ```DataFrame```, но без элементов ```NaN```."
   ]
  },
  {
   "cell_type": "code",
   "execution_count": null,
   "metadata": {},
   "outputs": [],
   "source": [
    "#Начало вашего кода\n",
    "\n",
    "#Конец вашего кода\n",
    "pd_data_clean=drop_null_rows(pd_data_drop)"
   ]
  },
  {
   "cell_type": "markdown",
   "metadata": {},
   "source": [
    "Выполните следующие два блока кода и визуально сравните ```pd_data_drop``` и ```pd_data_clean```."
   ]
  },
  {
   "cell_type": "code",
   "execution_count": null,
   "metadata": {},
   "outputs": [],
   "source": [
    "pd_data_drop"
   ]
  },
  {
   "cell_type": "code",
   "execution_count": null,
   "metadata": {},
   "outputs": [],
   "source": [
    "pd_data_clean"
   ]
  },
  {
   "cell_type": "code",
   "execution_count": null,
   "metadata": {},
   "outputs": [],
   "source": [
    "summary,null_columns=null_summary(data=pd_data_clean)"
   ]
  },
  {
   "cell_type": "code",
   "execution_count": null,
   "metadata": {},
   "outputs": [],
   "source": [
    "summary"
   ]
  },
  {
   "cell_type": "markdown",
   "metadata": {},
   "source": [
    "### Шаг 5\n",
    "\n",
    "Пожалуйста, реализуйте функцию ```save_to_csv(имя файла, данные)```, которая будет экспортировать **непустой** ```DataFrame``` в csv-файл ```filename```. Обратите внимание на обработку ошибок входных аргументов."
   ]
  },
  {
   "cell_type": "code",
   "execution_count": null,
   "metadata": {},
   "outputs": [],
   "source": [
    "#Начало вашего кода\n",
    "\n",
    "#Конец вашего кода"
   ]
  },
  {
   "cell_type": "code",
   "execution_count": null,
   "metadata": {},
   "outputs": [],
   "source": [
    "save_to_csv(\"House_Prices\",pd_data_clean)"
   ]
  },
  {
   "cell_type": "markdown",
   "metadata": {},
   "source": [
    "### Ожидаемый результат:\n",
    "\n",
    "```\n",
    "'Error: House_Prices.csv already exists, please try another file name'\n",
    "```"
   ]
  },
  {
   "cell_type": "code",
   "execution_count": null,
   "metadata": {},
   "outputs": [],
   "source": [
    "save_to_csv(\"clean_house_prices\",pd_data_clean)"
   ]
  },
  {
   "cell_type": "markdown",
   "metadata": {},
   "source": [
    "### Ожидаемый результат:\n",
    "\n",
    "```\n",
    "'clean_house_prices.csv is created'\n",
    "```"
   ]
  },
  {
   "cell_type": "code",
   "execution_count": null,
   "metadata": {},
   "outputs": [],
   "source": [
    "os.path.exists(\"clean_house_prices.csv\")"
   ]
  },
  {
   "cell_type": "markdown",
   "metadata": {},
   "source": [
    "### Ожидаемый результат:\n",
    "\n",
    "```\n",
    "True\n",
    "```"
   ]
  },
  {
   "cell_type": "markdown",
   "metadata": {},
   "source": [
    "# Прекрасная работа!"
   ]
  }
 ],
 "metadata": {
  "kernelspec": {
   "display_name": "Python 3",
   "language": "python",
   "name": "python3"
  },
  "language_info": {
   "codemirror_mode": {
    "name": "ipython",
    "version": 3
   },
   "file_extension": ".py",
   "mimetype": "text/x-python",
   "name": "python",
   "nbconvert_exporter": "python",
   "pygments_lexer": "ipython3",
   "version": "3.6.10"
  }
 },
 "nbformat": 4,
 "nbformat_minor": 2
}
