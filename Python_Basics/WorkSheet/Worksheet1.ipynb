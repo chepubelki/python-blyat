{
 "cells": [
  {
   "cell_type": "markdown",
   "metadata": {},
   "source": [
    "**1) Для заданного целого числа n выполнить следующие условные действия:**\n",
    "\n",
    "Если n нечетно, выведите Astana\n",
    "\n",
    "Если n чётно и находится в диапазоне от 2 до 5, выведите Алматы\n",
    "\n",
    "Если n чётно и находится в диапазоне от 6 до 20 включительно, выведите Astana\n",
    "\n",
    "Если n чётно и больше 20, выведите Алматы"
   ]
  },
  {
   "cell_type": "code",
   "execution_count": 43,
   "metadata": {},
   "outputs": [
    {
     "name": "stdout",
     "output_type": "stream",
     "text": [
      "Astana\n"
     ]
    }
   ],
   "source": [
    "num = int(input(\"Enter number: \"))\n",
    "\n",
    "if num % 2 == 1:\n",
    "    print(\"Astana\")\n",
    "elif num % 2 == 0:\n",
    "    if num >= 2 and num <= 5:\n",
    "        print(\"Almaty\")\n",
    "    elif num >= 6 and num <= 20:\n",
    "        print(\"Astana\")\n",
    "    elif num > 20:\n",
    "        print(\"Almaty\")"
   ]
  },
  {
   "cell_type": "markdown",
   "metadata": {},
   "source": [
    "**2) Дано целое число n. Для всех неотрицательных целых чисел i <n, выведите квадрат числа i.**"
   ]
  },
  {
   "cell_type": "code",
   "execution_count": 44,
   "metadata": {},
   "outputs": [
    {
     "name": "stdout",
     "output_type": "stream",
     "text": [
      "0 1 4 9 16 25 36 49 64 81 100 121 144 169 196 225 256 289 324 361 400 441 484 "
     ]
    }
   ],
   "source": [
    "n = int(input('Enter number: '))\n",
    "\n",
    "if n >= 0:\n",
    "    for i in range(0, n, 1):\n",
    "        print(i**2, end=' ')"
   ]
  },
  {
   "cell_type": "markdown",
   "metadata": {},
   "source": [
    "**3) Дано целое число n.**\n",
    "\n",
    "Не используя строковые методы, попробуйте напечатать следующее:\n",
    "\n",
    "<code>123.....n</code>\n",
    "\n",
    "Обратите внимание, что <code> ... </code> представляет значения между ними."
   ]
  },
  {
   "cell_type": "code",
   "execution_count": 45,
   "metadata": {},
   "outputs": [
    {
     "name": "stdout",
     "output_type": "stream",
     "text": [
      "1234567891011121314151617181920212223"
     ]
    }
   ],
   "source": [
    "#Код\n",
    "n = int(input(\"Enter number: \"))\n",
    "\n",
    "for i in range(1, n+1, 1):\n",
    "    print(i, end='')"
   ]
  },
  {
   "cell_type": "markdown",
   "metadata": {},
   "source": [
    "**4) Какова сумма первых 10 натуральных чисел?**"
   ]
  },
  {
   "cell_type": "code",
   "execution_count": 48,
   "metadata": {},
   "outputs": [
    {
     "name": "stdout",
     "output_type": "stream",
     "text": [
      "55\n"
     ]
    }
   ],
   "source": [
    "#Код\n",
    "i = 1\n",
    "res = 0\n",
    "\n",
    "while i <= 10:\n",
    "    res+=i    \n",
    "    i+=1\n",
    "    \n",
    "print(res)"
   ]
  },
  {
   "cell_type": "markdown",
   "metadata": {},
   "source": [
    "**5) Напишите программу на Python, которая принимает радиус круга от пользователя и вычисляет площадь.**\n",
    "\n",
    "**Tip**: <code>from math import pi</code>"
   ]
  },
  {
   "cell_type": "code",
   "execution_count": 16,
   "metadata": {},
   "outputs": [
    {
     "name": "stdout",
     "output_type": "stream",
     "text": [
      "78.53981633974483\n"
     ]
    }
   ],
   "source": [
    "#Код\n",
    "from math import pi\n",
    "\n",
    "rc = float(input('Enter number: '))\n",
    "\n",
    "S = pi * rc**2\n",
    "\n",
    "print(S)\n",
    "\n"
   ]
  },
  {
   "cell_type": "markdown",
   "metadata": {},
   "source": [
    "**6)  Напишите программу на Python, чтобы получить объем сферы с радиусом 7.**"
   ]
  },
  {
   "cell_type": "code",
   "execution_count": 19,
   "metadata": {},
   "outputs": [
    {
     "name": "stdout",
     "output_type": "stream",
     "text": [
      "1436.7550402417319\n"
     ]
    }
   ],
   "source": [
    "#Код\n",
    "rs = 7\n",
    "\n",
    "V = (4/3) * pi * rs**3\n",
    "\n",
    "print(V)"
   ]
  },
  {
   "cell_type": "markdown",
   "metadata": {},
   "source": [
    "**7) Напишите программу на Python, которая принимает целое число n и вычисляет значение n + nn + nnn. (nn-двузначное число)**"
   ]
  },
  {
   "cell_type": "code",
   "execution_count": 39,
   "metadata": {},
   "outputs": [
    {
     "name": "stdout",
     "output_type": "stream",
     "text": [
      "615\n"
     ]
    }
   ],
   "source": [
    "#Код\n",
    "num1 = input('Enter number: ')\n",
    "num2 = int(num1+num1)\n",
    "num3 = int(num1+num1+num1)\n",
    "\n",
    "res = int(num1) + num2 + num3\n",
    " \n",
    "print(res)"
   ]
  },
  {
   "cell_type": "markdown",
   "metadata": {},
   "source": [
    "**8) Напишите программу на Python, которая примет основание и высоту треугольника и вычислит площадь.**"
   ]
  },
  {
   "cell_type": "code",
   "execution_count": null,
   "metadata": {},
   "outputs": [],
   "source": [
    "#Код\n",
    "h = float(input(\"Enter height of triangle: \"))\n",
    "a = float(input(\"Enter base of triangle: \"))\n",
    "\n",
    "St = (1/2) * h * a\n",
    "\n",
    "print(St)"
   ]
  },
  {
   "cell_type": "markdown",
   "metadata": {},
   "source": [
    "**9) Напишите программу на Python для преобразования высоты (в футах и дюймах) в сантиметры.**"
   ]
  },
  {
   "cell_type": "code",
   "execution_count": 26,
   "metadata": {},
   "outputs": [
    {
     "name": "stdout",
     "output_type": "stream",
     "text": [
      "foot to centimeters: 701.04\n"
     ]
    }
   ],
   "source": [
    "#Код\n",
    "height = float(input('Enter height: '))\n",
    "unit = input('Enter your unit of measurement(foot/inch): ')\n",
    "convert = None\n",
    "\n",
    "if unit == 'foot':\n",
    "    convert = height * 30.48\n",
    "    print(\"foot to centimeters:\", convert)\n",
    "elif unit == 'inch':\n",
    "    convert = height * 2.54\n",
    "    print(\"inch to centimeters:\", convert)\n",
    "else: \n",
    "    print('unit of measurement is invalid')"
   ]
  },
  {
   "cell_type": "markdown",
   "metadata": {},
   "source": [
    "**10) Напишите программу на Python для вычисления расстояния между точками (x1, y1) и (x2, y2).**"
   ]
  },
  {
   "cell_type": "code",
   "execution_count": 31,
   "metadata": {},
   "outputs": [
    {
     "name": "stdout",
     "output_type": "stream",
     "text": [
      "Enter first coordinates: \n",
      "1.0 1.0\n",
      "Enter second coordinates: \n",
      "1.0 1.0\n",
      "0.0\n"
     ]
    }
   ],
   "source": [
    "#Код\n",
    "from math import sqrt\n",
    "print(\"Enter first coordinates: \")\n",
    "x1 = float(input(\"\"))\n",
    "y1 = float(input(\"\"))\n",
    "print(x1, y1)\n",
    "\n",
    "print(\"Enter second coordinates: \")\n",
    "x2 = float(input(\"\"))\n",
    "y2 = float(input(\"\"))\n",
    "print(x2, y2)\n",
    "\n",
    "AB = sqrt((x2-x1)**2+(y2-y1)**2)\n",
    "\n",
    "print(AB)"
   ]
  },
  {
   "cell_type": "markdown",
   "metadata": {},
   "source": [
    "**11) Напишите программу на Python для вычисления гипотенузы прямоугольного треугольника.**"
   ]
  },
  {
   "cell_type": "code",
   "execution_count": 42,
   "metadata": {},
   "outputs": [
    {
     "name": "stdout",
     "output_type": "stream",
     "text": [
      "987.361129475938\n"
     ]
    }
   ],
   "source": [
    "#Код\n",
    "a = int(input(\"Enter first number: \"))\n",
    "b = int(input(\"Enter second number: \"))\n",
    "\n",
    "c = (a**2 + b**2)**0.5\n",
    "\n",
    "print(c)"
   ]
  },
  {
   "cell_type": "markdown",
   "metadata": {},
   "source": [
    "**12) Сколько натуральных чисел не больше 100 делиться на 7 и на 2?**"
   ]
  },
  {
   "cell_type": "code",
   "execution_count": 37,
   "metadata": {},
   "outputs": [
    {
     "name": "stdout",
     "output_type": "stream",
     "text": [
      "14 28 42 56 70 84 98 \n",
      "\n",
      "count: 7\n"
     ]
    }
   ],
   "source": [
    "#Код\n",
    "count = 0\n",
    "for i in range(1, 100, 1):\n",
    "    if i % 7 == 0 and i % 2 == 0:\n",
    "        count+=1\n",
    "        print(i, end=' ')\n",
    "print('\\n')\n",
    "print('count:', count)"
   ]
  },
  {
   "cell_type": "markdown",
   "metadata": {},
   "source": [
    "# Прекрасная работа!"
   ]
  }
 ],
 "metadata": {
  "kernelspec": {
   "display_name": "Python 3",
   "language": "python",
   "name": "python3"
  },
  "language_info": {
   "codemirror_mode": {
    "name": "ipython",
    "version": 3
   },
   "file_extension": ".py",
   "mimetype": "text/x-python",
   "name": "python",
   "nbconvert_exporter": "python",
   "pygments_lexer": "ipython3",
   "version": "3.6.10"
  }
 },
 "nbformat": 4,
 "nbformat_minor": 2
}
