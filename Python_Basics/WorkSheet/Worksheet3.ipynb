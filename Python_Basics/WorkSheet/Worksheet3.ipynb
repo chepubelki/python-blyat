{
 "cells": [
  {
   "cell_type": "markdown",
   "metadata": {},
   "source": [
    "1) Используйте for, .split() и if для создания оператора, который будет печатать слова, начинающиеся с 't':"
   ]
  },
  {
   "cell_type": "code",
   "execution_count": 19,
   "metadata": {},
   "outputs": [
    {
     "name": "stdout",
     "output_type": "stream",
     "text": [
      "the\n",
      "that\n",
      "t\n",
      "this\n"
     ]
    }
   ],
   "source": [
    "st = 'Print only the words that start with t in this sentence'\n",
    "# Код\n",
    "def findLetter(text, letter):\n",
    "    split_text = text.split(' ')\n",
    "    for i in range(len(split_text)):         \n",
    "        if split_text[i][0] == letter: \n",
    "            print(split_text[i])\n",
    "        \n",
    "findLetter(st, 't')\n"
   ]
  },
  {
   "cell_type": "markdown",
   "metadata": {},
   "source": [
    "2) Используйте range() для печати всех четных чисел от 0 до 10.(не использовать операторы for, while,if)"
   ]
  },
  {
   "cell_type": "code",
   "execution_count": 1,
   "metadata": {},
   "outputs": [
    {
     "name": "stdout",
     "output_type": "stream",
     "text": [
      "[0, 2, 4, 6, 8, 10]\n"
     ]
    }
   ],
   "source": [
    "# Код\n",
    "nums = list(range(0, 11, 2))\n",
    "print(nums)"
   ]
  },
  {
   "cell_type": "markdown",
   "metadata": {},
   "source": [
    "3) Cоздайте **список** всех чисел от 1 до 50, которые делятся на 3.(именно список)"
   ]
  },
  {
   "cell_type": "code",
   "execution_count": 3,
   "metadata": {},
   "outputs": [
    {
     "name": "stdout",
     "output_type": "stream",
     "text": [
      "[0, 3, 6, 9, 12, 15, 18, 21, 24, 27, 30, 33, 36, 39, 42, 45, 48]\n"
     ]
    }
   ],
   "source": [
    "# Код\n",
    "arr = []\n",
    "for i in range(50):\n",
    "    if i % 3 == 0:\n",
    "        arr.append(i)\n",
    "        \n",
    "print(arr)"
   ]
  },
  {
   "cell_type": "markdown",
   "metadata": {},
   "source": [
    "4) Просмотрите строку ниже и, если длина слова четная, выведите «четное!»"
   ]
  },
  {
   "cell_type": "code",
   "execution_count": 4,
   "metadata": {},
   "outputs": [
    {
     "name": "stdout",
     "output_type": "stream",
     "text": [
      "Chetnaya\n",
      "Chetnaya\n",
      "Chetnaya\n",
      "Chetnaya\n",
      "Chetnaya\n",
      "Chetnaya\n",
      "Chetnaya\n",
      "Chetnaya\n",
      "Chetnaya\n"
     ]
    }
   ],
   "source": [
    "st = 'Print every word in this sentence that has an even number of letters'\n",
    "# Код\n",
    "new_st = st.split()\n",
    "\n",
    "for i in range(len(new_st)):\n",
    "    if len(new_st[i]) % 2 == 0:\n",
    "        print(\"Chetnaya\")"
   ]
  },
  {
   "cell_type": "markdown",
   "metadata": {},
   "source": [
    "5) Создайте список первых букв каждого слова в строке ниже:"
   ]
  },
  {
   "cell_type": "code",
   "execution_count": 7,
   "metadata": {},
   "outputs": [
    {
     "name": "stdout",
     "output_type": "stream",
     "text": [
      "['C', 'a', 'l', 'o', 't', 'f', 'l', 'o', 'e', 'w', 'i', 't', 's']\n"
     ]
    }
   ],
   "source": [
    "st = 'Create a list of the first letters of every word in this string'\n",
    "# Код\n",
    "new_st = st.split()\n",
    "first_letters = []\n",
    "\n",
    "for i in range(len(new_st)):\n",
    "    first_letters.append(new_st[i][0])\n",
    "    \n",
    "print(first_letters)"
   ]
  },
  {
   "cell_type": "markdown",
   "metadata": {},
   "source": [
    "6) Найдите сумму чисел в списке ниже: (с двумя способами)"
   ]
  },
  {
   "cell_type": "code",
   "execution_count": 8,
   "metadata": {},
   "outputs": [
    {
     "name": "stdout",
     "output_type": "stream",
     "text": [
      "55\n"
     ]
    }
   ],
   "source": [
    "l = [1,2,3,4,5,6,7,8,9,10]\n",
    "# Код 1\n",
    "print(sum(l))"
   ]
  },
  {
   "cell_type": "code",
   "execution_count": 10,
   "metadata": {},
   "outputs": [
    {
     "name": "stdout",
     "output_type": "stream",
     "text": [
      "55\n"
     ]
    }
   ],
   "source": [
    "l = [1,2,3,4,5,6,7,8,9,10]\n",
    "j = 0\n",
    "# Код 2\n",
    "for i in l:\n",
    "    j += i\n",
    "    \n",
    "print(j)"
   ]
  },
  {
   "cell_type": "markdown",
   "metadata": {},
   "source": [
    "7) Напишите программу на Python, чтобы умножить все элементы в списке."
   ]
  },
  {
   "cell_type": "code",
   "execution_count": 11,
   "metadata": {},
   "outputs": [
    {
     "data": {
      "text/plain": [
       "1890"
      ]
     },
     "execution_count": 11,
     "metadata": {},
     "output_type": "execute_result"
    }
   ],
   "source": [
    "l = [2,5,7,3,9]\n",
    "# Код\n",
    "def multiNum(arr):\n",
    "    res = 1\n",
    "    for i in arr:\n",
    "        res*=i\n",
    "    return res\n",
    "\n",
    "multiNum(l) "
   ]
  },
  {
   "cell_type": "markdown",
   "metadata": {},
   "source": [
    "8) Напишите программу на Python, чтобы получить наибольшее число из списка."
   ]
  },
  {
   "cell_type": "code",
   "execution_count": 13,
   "metadata": {},
   "outputs": [
    {
     "data": {
      "text/plain": [
       "101"
      ]
     },
     "execution_count": 13,
     "metadata": {},
     "output_type": "execute_result"
    }
   ],
   "source": [
    "l = [2,5,7,3,9,11,50,101]\n",
    "# Код\n",
    "def maxNum(arr):\n",
    "    return max(arr)\n",
    "\n",
    "maxNum(l)"
   ]
  },
  {
   "cell_type": "markdown",
   "metadata": {},
   "source": [
    "9) Напишите программу на Python, чтобы найти общие элементы из двух списков."
   ]
  },
  {
   "cell_type": "code",
   "execution_count": 14,
   "metadata": {},
   "outputs": [
    {
     "name": "stdout",
     "output_type": "stream",
     "text": [
      "['Darkhan', 'Azamat']\n"
     ]
    }
   ],
   "source": [
    "team_1 = [\"Darkhan\", \"Abilay\", \"Azamat\", \"Zhasulan\"]\n",
    "team_2 = [\"Azamat\", \"Darkhan\", \"Aset\", \"Bolat\",\"Saken\"]\n",
    "# Код\n",
    "pairs = []\n",
    "\n",
    "for i in team_1:\n",
    "    if i in team_2:\n",
    "        pairs.append(i)\n",
    "\n",
    "print(pairs)"
   ]
  },
  {
   "cell_type": "markdown",
   "metadata": {},
   "source": [
    "10) Напишите программу на Python для расширения списка без .append()."
   ]
  },
  {
   "cell_type": "code",
   "execution_count": 71,
   "metadata": {},
   "outputs": [
    {
     "name": "stdout",
     "output_type": "stream",
     "text": [
      "[10, 20, 30, 1, 2, 3, 4, 5, 6]\n"
     ]
    }
   ],
   "source": [
    "l_1 = [10,20,30]\n",
    "l_2 = [1,2,3,4,5,6]\n",
    "# Вывод должен быть: [10,20,30,1,2,3,4,5,6]\n",
    "# Код\n",
    "l_1.extend(l_2)\n",
    "\n",
    "print(l_1)"
   ]
  },
  {
   "cell_type": "markdown",
   "metadata": {},
   "source": [
    "11) Напишите программу на Python для суммирования всех элементов в словаре."
   ]
  },
  {
   "cell_type": "code",
   "execution_count": 22,
   "metadata": {},
   "outputs": [
    {
     "name": "stdout",
     "output_type": "stream",
     "text": [
      "293\n"
     ]
    }
   ],
   "source": [
    "my_dict = {'data1':100,'data2':-54,'data3':247}\n",
    "# Код\n",
    "sum = 0\n",
    "\n",
    "for i in range(1, len(my_dict)+1):\n",
    "    sum += my_dict[f'data{i}']\n",
    "    \n",
    "print(sum)"
   ]
  },
  {
   "cell_type": "markdown",
   "metadata": {},
   "source": [
    "12) Напишите программу на Python, чтобы получить максимальное и минимальное значение в словаре."
   ]
  },
  {
   "cell_type": "code",
   "execution_count": 33,
   "metadata": {},
   "outputs": [
    {
     "name": "stdout",
     "output_type": "stream",
     "text": [
      "-54\n",
      "247\n"
     ]
    },
    {
     "data": {
      "text/plain": [
       "'data3'"
      ]
     },
     "execution_count": 33,
     "metadata": {},
     "output_type": "execute_result"
    }
   ],
   "source": [
    "my_dict = {'data1':100,'data2':-54,'data3':247}\n",
    "# Код\n",
    "for i in range(1, len(my_dict) - 1):\n",
    "    if my_dict[f'data{i}'] > my_dict[f'data{i + 1}']:\n",
    "        my_dict[f'data{i}'], my_dict[f'data{i + 1}'] = my_dict[f'data{i + 1}'], my_dict[f'data{i}']\n",
    "\n",
    "print(my_dict['data1'])\n",
    "print(my_dict[f'data{len(my_dict)}'])\n",
    "\n",
    "max(my_dict)\n",
    "        \n",
    "        "
   ]
  },
  {
   "cell_type": "markdown",
   "metadata": {},
   "source": [
    "13) Напишите программу на Python, чтобы найти те числа, которые делятся на 7 и кратны 5, между 1500 и 2700 (оба включены)."
   ]
  },
  {
   "cell_type": "code",
   "execution_count": 35,
   "metadata": {},
   "outputs": [
    {
     "name": "stdout",
     "output_type": "stream",
     "text": [
      "[1505, 1540, 1575, 1610, 1645, 1680]\n"
     ]
    }
   ],
   "source": [
    "nums = []\n",
    "\n",
    "for i in range(1500, 1701, 1):\n",
    "    if i % 7 == 0 and i % 5 == 0:\n",
    "        nums.append(i)\n",
    "print(nums)        "
   ]
  },
  {
   "cell_type": "markdown",
   "metadata": {},
   "source": [
    "14) Напишите программу на Python для подсчета количества четных и нечетных чисел из серии чисел."
   ]
  },
  {
   "cell_type": "code",
   "execution_count": 36,
   "metadata": {},
   "outputs": [
    {
     "name": "stdout",
     "output_type": "stream",
     "text": [
      "четные: 6\n",
      "нечетные: 5\n"
     ]
    }
   ],
   "source": [
    "numbers = (10,11,12,13,14,15,16,17,18,19,20)\n",
    "# Код\n",
    "even = 0\n",
    "odd = 0\n",
    "for i in numbers:\n",
    "    if i % 2 == 0:\n",
    "       even += 1 \n",
    "    elif i % 2 != 0:\n",
    "        odd += 1\n",
    "        \n",
    "print(f'четные: {even}\\nнечетные: {odd}')"
   ]
  },
  {
   "cell_type": "markdown",
   "metadata": {},
   "source": [
    "15) Напишите программу на Python, чтобы получить ряд Фибоначчи от 0 до 50."
   ]
  },
  {
   "cell_type": "code",
   "execution_count": 74,
   "metadata": {},
   "outputs": [
    {
     "name": "stdout",
     "output_type": "stream",
     "text": [
      "[0, 1, 1, 2, 3, 5, 8, 13, 21, 34, 55, 89, 144, 233, 377, 610, 987, 1597, 2584, 4181, 6765, 10946, 17711, 28657, 46368, 75025, 121393, 196418, 317811, 514229, 832040, 1346269, 2178309, 3524578, 5702887, 9227465, 14930352, 24157817, 39088169, 63245986, 102334155, 165580141, 267914296, 433494437, 701408733, 1134903170, 1836311903, 2971215073, 4807526976, 7778742049, 12586269025, 20365011074, 32951280099, 53316291173, 86267571272, 139583862445, 225851433717, 365435296162, 591286729879, 956722026041, 1548008755920, 2504730781961, 4052739537881, 6557470319842, 10610209857723, 17167680177565, 27777890035288, 44945570212853, 72723460248141, 117669030460994, 190392490709135, 308061521170129, 498454011879264, 806515533049393, 1304969544928657, 2111485077978050, 3416454622906707, 5527939700884757, 8944394323791464, 14472334024676221, 23416728348467685, 37889062373143906, 61305790721611591, 99194853094755497, 160500643816367088, 259695496911122585, 420196140727489673, 679891637638612258, 1100087778366101931, 1779979416004714189, 2880067194370816120, 4660046610375530309, 7540113804746346429, 12200160415121876738, 19740274219868223167, 31940434634990099905, 51680708854858323072, 83621143489848422977, 135301852344706746049, 218922995834555169026]\n"
     ]
    }
   ],
   "source": [
    "def fibonacci(series):\n",
    "    fib = [0, 1]\n",
    "        \n",
    "    for i in range(1, series - 1):\n",
    "        fib.append(fib[i-1] + fib[i])\n",
    "    return fib\n",
    "print(fibonacci(100))"
   ]
  },
  {
   "cell_type": "markdown",
   "metadata": {},
   "source": [
    "16) Напишите программу на Python для расчета возраста собаки по собачьим годам.(Для заданного числа 12, вывод должен быть 61 = 2x10.5+10x4)\n",
    "\n",
    "**Примечание: в течение первых двух лет год собаки равен 10,5 человеческим годам. После этого каждый год собаки равен 4 человеческим годам.**"
   ]
  },
  {
   "cell_type": "code",
   "execution_count": 50,
   "metadata": {},
   "outputs": [
    {
     "name": "stdout",
     "output_type": "stream",
     "text": [
      "61.0\n"
     ]
    }
   ],
   "source": [
    "def convert_to_dog_age(human_age):\n",
    "    converted_age = 0\n",
    "    for i in range(human_age):\n",
    "        if i == 0 or i == 1:\n",
    "            converted_age += 10.5\n",
    "        else:\n",
    "            converted_age += 4\n",
    "    \n",
    "    print(converted_age)\n",
    "    \n",
    "convert_to_dog_age(12)\n",
    "    \n",
    "    "
   ]
  },
  {
   "cell_type": "markdown",
   "metadata": {},
   "source": [
    "17) Напишите программу на Python для преобразования названия месяца в количество дней."
   ]
  },
  {
   "cell_type": "code",
   "execution_count": 53,
   "metadata": {},
   "outputs": [
    {
     "name": "stdout",
     "output_type": "stream",
     "text": [
      "[31, 31, 31, 30, 31]\n"
     ]
    }
   ],
   "source": [
    "months = ['March', 'December', 'July', 'September', 'January']\n",
    "\n",
    "def convert_to_num(month):\n",
    "    converted = []\n",
    "    for i in month:\n",
    "        if i == 'January' or i == 'March' or i == 'May' or i == 'July' or i == 'August' or i == 'October' or i == 'December':\n",
    "            converted.append(31)\n",
    "        elif i == 'April' or i == 'June' or i == 'September' or i == 'November':\n",
    "            converted.append(30)\n",
    "        elif i == 'February':\n",
    "            converted.append(28)\n",
    "    print(converted)\n",
    "    \n",
    "convert_to_num(months)"
   ]
  },
  {
   "cell_type": "markdown",
   "metadata": {},
   "source": [
    "18) Проверьте является ли слово палиндромом или нет. \n",
    "\n",
    "**Примечание: Строка считается палиндромом, если она читается одинаково в обоих направлениях.**"
   ]
  },
  {
   "cell_type": "code",
   "execution_count": 78,
   "metadata": {},
   "outputs": [
    {
     "name": "stdout",
     "output_type": "stream",
     "text": [
      "True\n",
      "True\n",
      "False\n",
      "False\n"
     ]
    }
   ],
   "source": [
    "word = \"aibohphobia\"\n",
    "word1 = \"qwerttrewq\"\n",
    "word2 = 'qwertyrewq'\n",
    "word3 = 'hjnbvgtyhnb'\n",
    "\n",
    "# Код \n",
    "def palindrome(text):\n",
    "    # bools = []\n",
    "    # for i in range(len(text) // 2):\n",
    "    #     if text[i] == text[len(text)-i-1]:\n",
    "    #         bools.append('True')\n",
    "    #     else:\n",
    "    #         bools.append('False')\n",
    "            \n",
    "    # if 'False' in bools:\n",
    "    #     print(\"it is not palindrom\")\n",
    "    # else:\n",
    "    #     print(\"it is palindrom\")\n",
    "    \n",
    "    left, right = 0, len(text) - 1  \n",
    "\n",
    "    while left < right:\n",
    "        if text[left] != text[right]:\n",
    "            return False\n",
    "        left += 1         \n",
    "        right -= 1\n",
    "    return True\n",
    "print(palindrome(word))\n",
    "print(palindrome(word1))\n",
    "print(palindrome(word2))\n",
    "print(palindrome(word3))"
   ]
  },
  {
   "cell_type": "markdown",
   "metadata": {},
   "source": [
    "19) Рядом стоят несколько студентов, у каждого из которых написано какое-то число на спине. Учащиеся собираются разделиться на две команды, отсчитав их по две: те, кто стоит на четных позициях (на основе 0), перейдут в команду А, а те, кто стоит на нечетной позиции, присоединятся к команде В.\n",
    "\n",
    "Ваша задача - вычислить разницу между суммами чисел, написанными на спинах студентов, которые присоединятся к команде А, и теми, которые написаны на спинах студентов, которые присоединятся к команде Б."
   ]
  },
  {
   "cell_type": "code",
   "execution_count": 58,
   "metadata": {},
   "outputs": [
    {
     "name": "stdout",
     "output_type": "stream",
     "text": [
      "comand A: [1, 13, 14, 23, 16, 30]\n",
      "comand B: [11, 6, 10, 25, 23, 9]\n"
     ]
    }
   ],
   "source": [
    "students = [1, 11, 13, 6, 14, 10, 23, 25, 16, 23, 30, 9]\n",
    "# Код\n",
    "A=[]\n",
    "B=[]\n",
    "\n",
    "for i in range(len(students)):\n",
    "    if i % 2 == 0:\n",
    "        A.append(students[i])\n",
    "    else: \n",
    "        B.append(students[i])\n",
    "        \n",
    "print(f'comand A: {A}')\n",
    "print(f'comand B: {B}')"
   ]
  },
  {
   "cell_type": "markdown",
   "metadata": {},
   "source": [
    "20) Напишите программу на Python, чтобы найти числа от 100 до 400 (оба включены), где каждая цифра числа является четным числом. Полученные числа должны быть напечатаны в последовательности через запятую."
   ]
  },
  {
   "cell_type": "code",
   "execution_count": 6,
   "metadata": {},
   "outputs": [
    {
     "name": "stdout",
     "output_type": "stream",
     "text": [
      "[200, 202, 204, 206, 208, 220, 222, 224, 226, 228, 240, 242, 244, 246, 248, 260, 262, 264, 266, 268, 280, 282, 284, 286, 288, 400]\n"
     ]
    }
   ],
   "source": [
    "even_num_figures = []\n",
    "\n",
    "for i in range(100, 400 + 1):\n",
    "    if i // 100 % 2 != 0:\n",
    "        continue\n",
    "\n",
    "    if ((i - (i // 100) * 100) // 10) % 2 != 0:\n",
    "        continue\n",
    "\n",
    "    if (i % 10) % 2 != 0:\n",
    "        continue\n",
    "\n",
    "    even_num_figures.append(i)\n",
    "\n",
    "print(even_num_figures)"
   ]
  },
  {
   "cell_type": "markdown",
   "metadata": {},
   "source": [
    "# Прекрасная работа!"
   ]
  }
 ],
 "metadata": {
  "kernelspec": {
   "display_name": "Python 3",
   "language": "python",
   "name": "python3"
  },
  "language_info": {
   "codemirror_mode": {
    "name": "ipython",
    "version": 3
   },
   "file_extension": ".py",
   "mimetype": "text/x-python",
   "name": "python",
   "nbconvert_exporter": "python",
   "pygments_lexer": "ipython3",
   "version": "3.10.12"
  }
 },
 "nbformat": 4,
 "nbformat_minor": 2
}
