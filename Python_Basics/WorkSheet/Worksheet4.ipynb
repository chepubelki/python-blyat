{
 "cells": [
  {
   "cell_type": "markdown",
   "metadata": {},
   "source": [
    "1) Напишите функцию, которая возвращает сумму двух чисел.\n",
    "\n",
    "Например: для param1 = 1 и param2 = 2 результат должен быть\n",
    "add(param1, param2) = 3."
   ]
  },
  {
   "cell_type": "code",
   "execution_count": 22,
   "metadata": {},
   "outputs": [
    {
     "data": {
      "text/plain": [
       "46"
      ]
     },
     "execution_count": 22,
     "metadata": {},
     "output_type": "execute_result"
    }
   ],
   "source": [
    "def add(param1,param2):\n",
    "    # Code here\n",
    "    return param1 + param2\n",
    "\n",
    "add(23,23)"
   ]
  },
  {
   "cell_type": "markdown",
   "metadata": {},
   "source": [
    "2) Дано год, верните тот век, в котором он находится. Первый век охватывает период с 1 года до 100 года включительно, второй - с 101 года до 200 года включительно и т. д.\n",
    "\n",
    "Например: Для year = 1905 результат должен быть centuryFromYear(year) = 20;\n",
    "Для year = 1700, результат должен быть centuryFromYear(year) = 17."
   ]
  },
  {
   "cell_type": "code",
   "execution_count": 23,
   "metadata": {},
   "outputs": [
    {
     "data": {
      "text/plain": [
       "19"
      ]
     },
     "execution_count": 23,
     "metadata": {},
     "output_type": "execute_result"
    }
   ],
   "source": [
    "def centuryFromYear(year):\n",
    "    # Code here\n",
    "    century = year // 100\n",
    "    decades = ((year - (year // 100) * 100) // 10) % 2\n",
    "    years = (year % 10)\n",
    "    \n",
    "    if years == 00 and decades == 0:\n",
    "        return century\n",
    "    elif year % 100 != 0:\n",
    "         century += 1\n",
    "    return century\n",
    "centuryFromYear(1900)"
   ]
  },
  {
   "cell_type": "markdown",
   "metadata": {},
   "source": [
    "3) Напишите функцию,которая проверяет строку является ли та палиндромом (палиндром - это строка, которая читается одинаково слева направо и справа налево).\n",
    "\n",
    "Например: Для inputString = \"aabaa\" вывод должен быть checkPalindrome(inputString) = true;\n",
    "\n",
    "Для inputString = \"abac\" вывод должен быть checkPalindrome(inputString) = false; \n",
    "\n",
    "Для inputString = \"a\" вывод должен быть checkPalindrome(inputString) = true."
   ]
  },
  {
   "cell_type": "code",
   "execution_count": 24,
   "metadata": {},
   "outputs": [
    {
     "name": "stdout",
     "output_type": "stream",
     "text": [
      "True\n",
      "False\n"
     ]
    }
   ],
   "source": [
    "def checkPalindrome(inputString):\n",
    "    # Code here    \n",
    "    left, right = 0, len(inputString) - 1  \n",
    "\n",
    "    while left < right:\n",
    "        if inputString[left] != inputString[right]:\n",
    "            return False\n",
    "        left += 1         \n",
    "        right -= 1\n",
    "    return True\n",
    "    \n",
    "first_word = 'qwertyytrewq'\n",
    "second_word = 'ryghmhjffvnd'\n",
    "print(checkPalindrome(first_word))\n",
    "print(checkPalindrome(second_word))"
   ]
  },
  {
   "cell_type": "markdown",
   "metadata": {},
   "source": [
    "4) Вам дается двузначное целое число n. Вернуть сумму своих цифр.\n",
    "\n",
    "Например: для n = 29 вывод должен быть addTwoDigits(n) = 11."
   ]
  },
  {
   "cell_type": "code",
   "execution_count": 25,
   "metadata": {},
   "outputs": [
    {
     "name": "stdout",
     "output_type": "stream",
     "text": [
      "45\n"
     ]
    }
   ],
   "source": [
    "def addTwoDigits(n):\n",
    "    # Code here\n",
    "    return sum(int(i) for i in str(n))\n",
    "\n",
    "print(addTwoDigits(123456789))"
   ]
  },
  {
   "cell_type": "markdown",
   "metadata": {},
   "source": [
    "5) Получив целое число n, верните наибольшее число, которое содержит ровно n цифр.\n",
    "\n",
    "Например: Для n = 2 результат должен быть largestNumber(n) = 99."
   ]
  },
  {
   "cell_type": "code",
   "execution_count": 26,
   "metadata": {},
   "outputs": [
    {
     "name": "stdout",
     "output_type": "stream",
     "text": [
      "9\n"
     ]
    }
   ],
   "source": [
    "def largestNumber(n):\n",
    "    # Code here\n",
    "    return int(''.join('9'*n))\n",
    "\n",
    "print(largestNumber(1))"
   ]
  },
  {
   "cell_type": "markdown",
   "metadata": {},
   "source": [
    "6) Вам дано три целых числа, a, b и c. Гарантируется, что два из этих целых равны друг другу. Каково значение третьего целого числа?\n",
    "\n",
    "Например: Для a = 2, b = 7 и c = 2 вывод должен быть extraNumber (a, b, c) = 7. Два равных числа - это a и c. Третье число b равно 7, что является ответом."
   ]
  },
  {
   "cell_type": "code",
   "execution_count": 27,
   "metadata": {},
   "outputs": [
    {
     "data": {
      "text/plain": [
       "3"
      ]
     },
     "execution_count": 27,
     "metadata": {},
     "output_type": "execute_result"
    }
   ],
   "source": [
    "def extraNumber(a, b, c):\n",
    "    # Code here\n",
    "    result = a if b == c else b if a == c else c\n",
    "    return result\n",
    "\n",
    "extraNumber(10,10,3)"
   ]
  },
  {
   "cell_type": "markdown",
   "metadata": {},
   "source": [
    "7) Напишите функцию Python, которая принимает последовательность чисел и определяет, все ли числа отличаются друг от друга.\n",
    "\n",
    "Например: Для [1,5,7,9] вывод должен быть print(test_distinct([1,5,7,9])) = True, для [2,4,5,5,7,9] вывод должен быть print(test_distinct([2,4,5,5,7,9])) = False. "
   ]
  },
  {
   "cell_type": "code",
   "execution_count": 28,
   "metadata": {},
   "outputs": [
    {
     "data": {
      "text/plain": [
       "True"
      ]
     },
     "execution_count": 28,
     "metadata": {},
     "output_type": "execute_result"
    }
   ],
   "source": [
    "def test_distinct(data):\n",
    "    # Code here\n",
    "    return len(data) == len(set(data))\n",
    "\n",
    "test_distinct([1, 2, 3, 4, 6, 7, 8, 8])\n",
    "test_distinct([1, 2, 3, 4, 6, 7, 8])"
   ]
  },
  {
   "cell_type": "markdown",
   "metadata": {},
   "source": [
    "8) Напишите функцию Python для суммирования всех чисел в списке.\n",
    "\n",
    "Например: Для [8,2,3,0,7] вывод должен быть sum([8,2,3,0,7]) = 20."
   ]
  },
  {
   "cell_type": "code",
   "execution_count": 29,
   "metadata": {},
   "outputs": [
    {
     "name": "stdout",
     "output_type": "stream",
     "text": [
      "139\n"
     ]
    }
   ],
   "source": [
    "def sum(numbers):\n",
    "    # Code here\n",
    "    res = 0\n",
    "    for i in numbers:\n",
    "        res += i\n",
    "    return res\n",
    "\n",
    "print(sum([11,2,4,6,87,8,9,7,5]))"
   ]
  },
  {
   "cell_type": "markdown",
   "metadata": {},
   "source": [
    "9) Напишите функцию Python, которая принимает число в качестве параметра и проверяет, является ли число простым или нет.\n",
    "\n",
    "Примечание. Простое число - это натуральное число, больше 1, которое не имеет положительных делителей, кроме 1 и самого себя.\n",
    "\n",
    "Например: Для числа 9 вывод должен быть test_prime(9) = False, a для числа 9 вывод должен быть test_prime(19) = True. "
   ]
  },
  {
   "cell_type": "code",
   "execution_count": 35,
   "metadata": {},
   "outputs": [
    {
     "data": {
      "text/plain": [
       "True"
      ]
     },
     "execution_count": 35,
     "metadata": {},
     "output_type": "execute_result"
    }
   ],
   "source": [
    "def test_prime(n):\n",
    "    # Code here\n",
    "    if n > 1:\n",
    "        for i in range(2, int(n**0.5) + 1): # гуглбекке рахмет\n",
    "            if n % i == 0:\n",
    "                return False\n",
    "        else:\n",
    "            return True \n",
    "    else:\n",
    "        return False \n",
    "    \n",
    "test_prime(271)   \n",
    "\n",
    "# n = 10 \n",
    "# 2 * 5 = 10\n",
    "# 3 * 3.3 = 10\n",
    "# 4 * 2.5 = 10\n",
    "        "
   ]
  },
  {
   "cell_type": "code",
   "execution_count": 1,
   "metadata": {},
   "outputs": [
    {
     "data": {
      "text/plain": [
       "3.1622776601683795"
      ]
     },
     "execution_count": 1,
     "metadata": {},
     "output_type": "execute_result"
    }
   ],
   "source": [
    "10 ** 0.5"
   ]
  },
  {
   "cell_type": "markdown",
   "metadata": {},
   "source": [
    "10) Некоторые люди стоят в ряд в парке. Между ними есть деревья, которые не могут быть перемещены. Ваша задача состоит в том, чтобы переставить людей по их высоте в не убывающем порядке, не перемещая деревья. Люди могут быть очень высокими!\n",
    "\n",
    "Например: Для a = [-1, 150, 190, 170, -1, -1, 160, 180] вывод должен быть sortByHeight(a) = [-1, 150, 160, 170, -1, -1, 180, 190].\n",
    "\n"
   ]
  },
  {
   "cell_type": "code",
   "execution_count": 31,
   "metadata": {},
   "outputs": [
    {
     "data": {
      "text/plain": [
       "[-1, 150, 160, 170, -1, -1, 180, 190]"
      ]
     },
     "execution_count": 31,
     "metadata": {},
     "output_type": "execute_result"
    }
   ],
   "source": [
    "def sortByHeight(a):\n",
    "    # Code here\n",
    "    height = [i for i in a if i != -1]\n",
    "    height.sort()\n",
    "    index = 0\n",
    "    for i in range(len(a)):\n",
    "        if a[i] != -1:\n",
    "            a[i] = height[index]\n",
    "            index += 1\n",
    "    return a\n",
    "\n",
    "sortByHeight([-1, 150, 190, 170, -1, -1, 160, 180])"
   ]
  },
  {
   "cell_type": "markdown",
   "metadata": {},
   "source": [
    "# Прекрасная Работа!!!"
   ]
  },
  {
   "cell_type": "code",
   "execution_count": null,
   "metadata": {},
   "outputs": [],
   "source": []
  }
 ],
 "metadata": {
  "kernelspec": {
   "display_name": "Python 3",
   "language": "python",
   "name": "python3"
  },
  "language_info": {
   "codemirror_mode": {
    "name": "ipython",
    "version": 3
   },
   "file_extension": ".py",
   "mimetype": "text/x-python",
   "name": "python",
   "nbconvert_exporter": "python",
   "pygments_lexer": "ipython3",
   "version": "3.12.1"
  }
 },
 "nbformat": 4,
 "nbformat_minor": 2
}
