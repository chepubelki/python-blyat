{
 "cells": [
  {
   "cell_type": "markdown",
   "metadata": {},
   "source": [
    "### Функции: Рекурсия [Домашнее задание]"
   ]
  },
  {
   "cell_type": "markdown",
   "metadata": {},
   "source": [
    "1. Пожалуйста, используя рекурсию напишите функцию **fibonacci_num(n)**, которая будет возвращать n-нное число Фибоначчи.\n",
    "\n",
    "Примеры :\n",
    "\n",
    "```\n",
    "fibonacci_num(5) # 1 1 2 3 5\n",
    "5\n",
    "\n",
    "fibonacci_num(8) # 1 1 2 3 5 8 13 21\n",
    "21\n",
    "```"
   ]
  },
  {
   "cell_type": "code",
   "execution_count": 5,
   "metadata": {},
   "outputs": [],
   "source": [
    "def fibonacci_num(n):\n",
    "    # Начало вашего кода\n",
    "    if n == 0: \n",
    "        return \"Error\"\n",
    "    elif n == 1: \n",
    "        return 1\n",
    "    elif n == 2: \n",
    "        return 1\n",
    "    \n",
    "    return fibonacci_num(n-1) + fibonacci_num(n-2)\n",
    "    # Конец вашего кода"
   ]
  },
  {
   "cell_type": "code",
   "execution_count": 6,
   "metadata": {},
   "outputs": [
    {
     "name": "stdout",
     "output_type": "stream",
     "text": [
      "5\n",
      "21\n"
     ]
    }
   ],
   "source": [
    "print(fibonacci_num(5))\n",
    "print(fibonacci_num(8))"
   ]
  },
  {
   "cell_type": "markdown",
   "metadata": {},
   "source": [
    "### Ожидаемый результат:\n",
    "```\n",
    "5\n",
    "21\n",
    "```"
   ]
  },
  {
   "cell_type": "markdown",
   "metadata": {},
   "source": [
    "2. Используя функцию **fibonacci_num(n)** написанную ранее, создайте новую функцию **fibonnaci_seq(n)**,\n",
    " которая будет возвращать список из n чисел Фибоначчи\n",
    "\n",
    "Примеры :\n",
    "\n",
    "```\n",
    "fibonacci_seq(5)\n",
    "[1, 1, 2, 3, 5]\n",
    "\n",
    "fibonacci_seq(8)\n",
    "[1, 1, 2, 3, 5, 8, 13, 21]\n",
    "```"
   ]
  },
  {
   "cell_type": "code",
   "execution_count": 9,
   "metadata": {},
   "outputs": [],
   "source": [
    "def fibonacci_seq(n):\n",
    "    # Начало вашего кода \n",
    "    if n <= 0:\n",
    "        return \"Error\"\n",
    "    else:\n",
    "        seq = [fibonacci_num(i) for i in range(1, n+1)]\n",
    "        return seq\n",
    "    # Конец вашего кода"
   ]
  },
  {
   "cell_type": "code",
   "execution_count": 10,
   "metadata": {},
   "outputs": [
    {
     "name": "stdout",
     "output_type": "stream",
     "text": [
      "[1, 1, 2, 3, 5]\n",
      "[1, 1, 2, 3, 5, 8, 13, 21]\n"
     ]
    }
   ],
   "source": [
    "print(fibonacci_seq(5))\n",
    "print(fibonacci_seq(8))"
   ]
  },
  {
   "cell_type": "markdown",
   "metadata": {},
   "source": [
    "### Ожидаемый результат:\n",
    "```\n",
    "[1, 1, 2, 3, 5]\n",
    "[1, 1, 2, 3, 5, 8, 13, 21]\n",
    "```\n",
    "\n",
    "----"
   ]
  },
  {
   "cell_type": "markdown",
   "metadata": {},
   "source": [
    "3. Пожалуйста, напишите функцию **sequence(n)**, которая будет распечатывать последовательность чисел без использования цикла for / while. Если задано число n, выведите следующий последовательность чисел без использования цикла. Мы уменьшаем число n на 5, пока не достигнем отрицательного числа или 0.\n",
    "\n",
    "Примеры :\n",
    "\n",
    "```\n",
    "sequence(16)\n",
    "[16, 11, 6, 1, -4]\n",
    "\n",
    "sequence(10)\n",
    "[10, 5, 0]\n",
    "```"
   ]
  },
  {
   "cell_type": "code",
   "execution_count": 82,
   "metadata": {},
   "outputs": [],
   "source": [
    "def sequence(n):\n",
    "    # Начало вашего кода\n",
    "    if n <= 0:\n",
    "        return [n]\n",
    "    else:\n",
    "        result = sequence(n - 5)\n",
    "        result.append(n)\n",
    "        return result\n",
    "    # Конец вашего кода"
   ]
  },
  {
   "cell_type": "code",
   "execution_count": 83,
   "metadata": {},
   "outputs": [
    {
     "name": "stdout",
     "output_type": "stream",
     "text": [
      "[-4, 1, 6, 11, 16]\n",
      "[0, 5, 10, 15, 20, 25, 30, 35, 40]\n"
     ]
    }
   ],
   "source": [
    "print(sequence(16))\n",
    "print(sequence(40))"
   ]
  },
  {
   "cell_type": "markdown",
   "metadata": {},
   "source": [
    "### Ожидаемый результат:\n",
    "```\n",
    "[16, 11, 6, 1, -4]\n",
    "[40, 35, 30, 25, 20, 15, 10, 5, 0]\n",
    "```\n",
    "\n",
    "----"
   ]
  }
 ],
 "metadata": {
  "kernelspec": {
   "display_name": "Python 3",
   "language": "python",
   "name": "python3"
  },
  "language_info": {
   "codemirror_mode": {
    "name": "ipython",
    "version": 3
   },
   "file_extension": ".py",
   "mimetype": "text/x-python",
   "name": "python",
   "nbconvert_exporter": "python",
   "pygments_lexer": "ipython3",
   "version": "3.10.12"
  }
 },
 "nbformat": 4,
 "nbformat_minor": 2
}
