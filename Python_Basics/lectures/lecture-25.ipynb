{
 "cells": [
  {
   "cell_type": "code",
   "execution_count": 3,
   "metadata": {},
   "outputs": [],
   "source": [
    "import json"
   ]
  },
  {
   "cell_type": "code",
   "execution_count": 4,
   "metadata": {},
   "outputs": [],
   "source": [
    "f = open('actor_info.json', 'r')\n",
    "data = json.load(f)\n",
    "f.close()"
   ]
  },
  {
   "cell_type": "code",
   "execution_count": 5,
   "metadata": {},
   "outputs": [
    {
     "data": {
      "text/plain": [
       "{'name': 'Brad', 'age': 50, 'accupation': 'actor'}"
      ]
     },
     "execution_count": 5,
     "metadata": {},
     "output_type": "execute_result"
    }
   ],
   "source": [
    "data"
   ]
  },
  {
   "cell_type": "code",
   "execution_count": 6,
   "metadata": {},
   "outputs": [
    {
     "data": {
      "text/plain": [
       "dict"
      ]
     },
     "execution_count": 6,
     "metadata": {},
     "output_type": "execute_result"
    }
   ],
   "source": [
    "type(data)"
   ]
  },
  {
   "cell_type": "code",
   "execution_count": 7,
   "metadata": {},
   "outputs": [
    {
     "data": {
      "text/plain": [
       "int"
      ]
     },
     "execution_count": 7,
     "metadata": {},
     "output_type": "execute_result"
    }
   ],
   "source": [
    "type(data[\"age\"])"
   ]
  },
  {
   "cell_type": "code",
   "execution_count": 8,
   "metadata": {},
   "outputs": [],
   "source": [
    "flights = {\n",
    "    \"dep\":\"seoul\",\n",
    "    \"arr\":\"ast\",\n",
    "    \"dur\":3,\n",
    "    \"price\":[350000, 400000, 230230]\n",
    "}\n",
    "f = open('flight.json', 'w')\n",
    "json.dump(flights, f)\n",
    "f.close()"
   ]
  },
  {
   "cell_type": "code",
   "execution_count": 16,
   "metadata": {},
   "outputs": [
    {
     "data": {
      "text/plain": [
       "[{'dep': 'seoul', 'arr': 'ast', 'dur': 4.5, 'price': 230230},\n",
       " {'dep': 'ast', 'arr': 'seoul', 'dur': 2.3, 'price': 233000},\n",
       " {'dep': 'sco', 'arr': 'chn', 'dur': 1.3, 'price': 567533},\n",
       " {'dep': 'msc', 'arr': 'ast', 'dur': 3.1, 'price': 879683},\n",
       " {'dep': 'ptr', 'arr': 'msc', 'dur': 5.5, 'price': 332434},\n",
       " {'dep': 'chn', 'arr': 'ast', 'dur': 0.3, 'price': 985634}]"
      ]
     },
     "execution_count": 16,
     "metadata": {},
     "output_type": "execute_result"
    }
   ],
   "source": [
    "data = [\n",
    "    {\"dep\":\"seoul\",\"arr\":\"ast\",\"dur\":4.5,\"price\":230230},\n",
    "    {\"dep\":\"ast\",\"arr\":\"seoul\",\"dur\":2.3,\"price\":233000},\n",
    "    {\"dep\":\"sco\",\"arr\":\"chn\",\"dur\":1.3,\"price\":567533},\n",
    "    {\"dep\":\"msc\",\"arr\":\"ast\",\"dur\":3.1,\"price\":879683},\n",
    "    {\"dep\":\"ptr\",\"arr\":\"msc\",\"dur\":5.5,\"price\":332434},\n",
    "    {\"dep\":\"chn\",\"arr\":\"ast\",\"dur\":0.3,\"price\":985634}\n",
    "    ]\n",
    "# f = open('data_flights.json', 'w')\n",
    "# json.dump(data, f)\n",
    "# f.close()\n",
    "\n",
    "with open('data_flights.json', 'w') as file:\n",
    "    json.dump(data, file)\n",
    "\n",
    "with open('data_flights.json', 'r') as file:\n",
    "    load_file = json.load(file)\n",
    "\n",
    "load_file\n"
   ]
  },
  {
   "cell_type": "code",
   "execution_count": null,
   "metadata": {},
   "outputs": [],
   "source": []
  }
 ],
 "metadata": {
  "kernelspec": {
   "display_name": "Python 3",
   "language": "python",
   "name": "python3"
  },
  "language_info": {
   "codemirror_mode": {
    "name": "ipython",
    "version": 3
   },
   "file_extension": ".py",
   "mimetype": "text/x-python",
   "name": "python",
   "nbconvert_exporter": "python",
   "pygments_lexer": "ipython3",
   "version": "3.10.12"
  }
 },
 "nbformat": 4,
 "nbformat_minor": 2
}
