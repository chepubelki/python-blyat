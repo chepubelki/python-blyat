{
 "cells": [
  {
   "cell_type": "markdown",
   "metadata": {},
   "source": [
    "**Работа с файлами в формате CSV**"
   ]
  },
  {
   "cell_type": "code",
   "execution_count": 7,
   "metadata": {},
   "outputs": [],
   "source": [
    "import csv"
   ]
  },
  {
   "cell_type": "markdown",
   "metadata": {},
   "source": [
    "**ЧТЕНИЕ**"
   ]
  },
  {
   "cell_type": "markdown",
   "metadata": {},
   "source": [
    "Пример чтения файла в формате CSV (файл csv_read.py):"
   ]
  },
  {
   "cell_type": "code",
   "execution_count": 5,
   "metadata": {},
   "outputs": [
    {
     "name": "stdout",
     "output_type": "stream",
     "text": [
      "[['hostname', 'vendor', 'model', 'location'], ['sw1', 'Cisco', '3750', 'London'], ['sw2', 'Cisco', '3850', 'Liverpool'], ['sw3', 'Cisco', '3650', 'Liverpool'], ['sw4', 'Cisco', '3650', 'London']]\n"
     ]
    }
   ],
   "source": [
    "with open('sw_data.csv') as f:\n",
    "    reader = csv.reader(f)\n",
    "    # for row in reader:\n",
    "    #     print(row)\n",
    "    print(list(reader))"
   ]
  },
  {
   "cell_type": "markdown",
   "metadata": {},
   "source": [
    "Чаще всего заголовки столбцов удобней получить отдельным объектом. Это можно сделать таким образом (файл csv_read_headers.py):"
   ]
  },
  {
   "cell_type": "code",
   "execution_count": 6,
   "metadata": {},
   "outputs": [
    {
     "name": "stdout",
     "output_type": "stream",
     "text": [
      "['hostname', 'vendor', 'model', 'location']\n"
     ]
    }
   ],
   "source": [
    "with open('sw_data.csv') as file:\n",
    "    reader = csv.reader(file)\n",
    "    header = next(reader)\n",
    "    print(header)\n",
    "    "
   ]
  },
  {
   "cell_type": "markdown",
   "metadata": {},
   "source": [
    "Иногда в результате обработки гораздо удобней получить словари, в которых ключи - это названия столбцов, а значения - значения столбцов."
   ]
  },
  {
   "cell_type": "code",
   "execution_count": 9,
   "metadata": {},
   "outputs": [
    {
     "name": "stdout",
     "output_type": "stream",
     "text": [
      "{'hostname': 'sw1', 'vendor': 'Cisco', 'model': '3750', 'location': 'London'}\n",
      "sw1 3750\n",
      "{'hostname': 'sw2', 'vendor': 'Cisco', 'model': '3850', 'location': 'Liverpool'}\n",
      "sw2 3850\n",
      "{'hostname': 'sw3', 'vendor': 'Cisco', 'model': '3650', 'location': 'Liverpool'}\n",
      "sw3 3650\n",
      "{'hostname': 'sw4', 'vendor': 'Cisco', 'model': '3650', 'location': 'London'}\n",
      "sw4 3650\n"
     ]
    }
   ],
   "source": [
    "with open('sw_data.csv') as file:\n",
    "    reader = csv.DictReader(file)\n",
    "    for row in reader:\n",
    "        print(row)\n",
    "        print(row['hostname'], row['model'])"
   ]
  },
  {
   "cell_type": "markdown",
   "metadata": {},
   "source": [
    "**ЗАПИСЬ**"
   ]
  },
  {
   "cell_type": "code",
   "execution_count": null,
   "metadata": {},
   "outputs": [],
   "source": [
    "import csv"
   ]
  },
  {
   "cell_type": "markdown",
   "metadata": {},
   "source": [
    "Аналогичным образом с помощью модуля csv можно и записать файл в формате CSV (файл csv_write.py):"
   ]
  },
  {
   "cell_type": "code",
   "execution_count": 14,
   "metadata": {},
   "outputs": [
    {
     "name": "stdout",
     "output_type": "stream",
     "text": [
      "hostname,vendor,model,location\n",
      "sw1,Cisco,3750,\"London, Best str\"\n",
      "sw2,Cisco,3850,\"Liverpool, Better str\"\n",
      "sw3,Cisco,3650,\"Liverpool, Better str\"\n",
      "sw4,Cisco,3650,\"London, Best str\"\n",
      "\n"
     ]
    }
   ],
   "source": [
    "data = [['hostname', 'vendor', 'model', 'location'],\n",
    "        ['sw1', 'Cisco', '3750', 'London, Best str'],\n",
    "        ['sw2', 'Cisco', '3850', 'Liverpool, Better str'],\n",
    "        ['sw3', 'Cisco', '3650', 'Liverpool, Better str'],\n",
    "        ['sw4', 'Cisco', '3650', 'London, Best str']]\n",
    "\n",
    "with open('sw_data_new.csv', 'w') as file:\n",
    "    writer = csv.writer(file)\n",
    "    for row in data:\n",
    "        writer.writerow(row)\n",
    "        \n",
    "with open('sw_data_new.csv') as file:\n",
    "    print(file.read())"
   ]
  },
  {
   "cell_type": "markdown",
   "metadata": {},
   "source": [
    "Иногда лучше, чтобы все строки были в кавычках. Конечно, в данном случае достаточно простой пример, но когда в строках больше значений, то кавычки позволяют указать, где начинается и заканчивается значение.\n",
    "\n",
    "Модуль csv позволяет управлять этим. Для того, чтобы все строки записывались в CSV-файл с кавычками, надо изменить скрипт таким образом (файл csv_write_quoting.py):"
   ]
  },
  {
   "cell_type": "code",
   "execution_count": 17,
   "metadata": {},
   "outputs": [
    {
     "name": "stdout",
     "output_type": "stream",
     "text": [
      "\"hostname\",\"vendor\",\"model\",\"location\"\n",
      "\"sw1\",\"Cisco\",\"3750\",\"London, Best str\"\n",
      "\"sw2\",\"Cisco\",\"3850\",\"Liverpool, Better str\"\n",
      "\"sw3\",\"Cisco\",\"3650\",\"Liverpool, Better str\"\n",
      "\"sw4\",\"Cisco\",\"3650\",\"London, Best str\"\n",
      "\n"
     ]
    }
   ],
   "source": [
    "data = [['hostname', 'vendor', 'model', 'location'],\n",
    "        ['sw1', 'Cisco', '3750', 'London, Best str'],\n",
    "        ['sw2', 'Cisco', '3850', 'Liverpool, Better str'],\n",
    "        ['sw3', 'Cisco', '3650', 'Liverpool, Better str'],\n",
    "        ['sw4', 'Cisco', '3650', 'London, Best str']]\n",
    "\n",
    "#также можно использовать вместо цыкла\n",
    "with open('sw_data_new.csv', 'w') as file:\n",
    "    writer = csv.writer(file, quoting=csv.QUOTE_NONNUMERIC)\n",
    "    for row in data:\n",
    "            writer.writerow(row)\n",
    "            \n",
    "with open('sw_data_new.csv') as file:\n",
    "        print(file.read())"
   ]
  },
  {
   "cell_type": "code",
   "execution_count": 18,
   "metadata": {},
   "outputs": [
    {
     "name": "stdout",
     "output_type": "stream",
     "text": [
      "\"hostname\";\"vendor\";\"model\";\"location\"\n",
      "\"sw1\";\"Cisco\";\"3750\";\"London, Best str\"\n",
      "\"sw2\";\"Cisco\";\"3850\";\"Liverpool, Better str\"\n",
      "\"sw3\";\"Cisco\";\"3650\";\"Liverpool, Better str\"\n",
      "\"sw4\";\"Cisco\";\"3650\";\"London, Best str\"\n",
      "\n"
     ]
    }
   ],
   "source": [
    "data = [['hostname', 'vendor', 'model', 'location'],\n",
    "        ['sw1', 'Cisco', '3750', 'London, Best str'],\n",
    "        ['sw2', 'Cisco', '3850', 'Liverpool, Better str'],\n",
    "        ['sw3', 'Cisco', '3650', 'Liverpool, Better str'],\n",
    "        ['sw4', 'Cisco', '3650', 'London, Best str']]\n",
    "\n",
    "#также можно использовать вместо цыкла\n",
    "with open('sw_data_new.csv', 'w') as file:\n",
    "    writer = csv.writer(file, quoting=csv.QUOTE_NONNUMERIC, delimiter=';')\n",
    "    for row in data:\n",
    "            writer.writerow(row)\n",
    "            \n",
    "with open('sw_data_new.csv') as file:\n",
    "        print(file.read())"
   ]
  },
  {
   "cell_type": "code",
   "execution_count": null,
   "metadata": {},
   "outputs": [],
   "source": []
  }
 ],
 "metadata": {
  "kernelspec": {
   "display_name": "Python 3",
   "language": "python",
   "name": "python3"
  },
  "language_info": {
   "name": "python",
   "version": "3.10.12"
  }
 },
 "nbformat": 4,
 "nbformat_minor": 2
}
