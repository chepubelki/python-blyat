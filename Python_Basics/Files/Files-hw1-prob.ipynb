{
 "cells": [
  {
   "cell_type": "markdown",
   "metadata": {},
   "source": [
    "### Файлы: Введение [Домашнее задание]"
   ]
  },
  {
   "cell_type": "markdown",
   "metadata": {},
   "source": [
    "Пожалуйста, создайте новый файл и напишите в нем текст (с несколькими строками более 5).\n",
    "Закройте файл. \n",
    "\n",
    "Откройте файл в разных режимах и поиграйте с ним. Проверьте все возможные ограничения."
   ]
  },
  {
   "cell_type": "code",
   "execution_count": 5,
   "metadata": {},
   "outputs": [],
   "source": [
    "file = open(\"new_file.txt\",\"w\")\n",
    "# Напишите свой код здесь:\n",
    "text = ['Lorem ipsum Lorem ipsum Lorem ipsum Lorem ipsum Lorem ipsum\\n',\n",
    "        'Loreg ipsug Loreg ipsug Loreg ipsug Loreg ipsug Loreg ipsug\\n',\n",
    "        'Lorem ipsum Lorem ipsum Lorem ipsum Lorem ipsum Lorem ipsum\\n',\n",
    "        'Loreg ipsug Loreg ipsug Loreg ipsug Loreg ipsug Loreg ipsug\\n',\n",
    "        'Lorem ipsum Lorem ipsum Lorem ipsum Lorem ipsum Lorem ipsum\\n',\n",
    "        'Loreg ipsug Loreg ipsug Loreg ipsug Loreg ipsug Loreg ipsug\\n']\n",
    "\n",
    "for i in range(len(text)):\n",
    "    file.write(text[i])\n",
    "# конец вашего кода\n",
    "file.close()"
   ]
  },
  {
   "cell_type": "code",
   "execution_count": 6,
   "metadata": {
    "scrolled": true
   },
   "outputs": [
    {
     "name": "stdout",
     "output_type": "stream",
     "text": [
      "Lorem ipsum Lorem ipsum Lorem ipsum Lorem ipsum Lorem ipsum\n",
      "Loreg ipsug Loreg ipsug Loreg ipsug Loreg ipsug Loreg ipsug\n",
      "Lorem ipsum Lorem ipsum Lorem ipsum Lorem ipsum Lorem ipsum\n",
      "Loreg ipsug Loreg ipsug Loreg ipsug Loreg ipsug Loreg ipsug\n",
      "Lorem ipsum Lorem ipsum Lorem ipsum Lorem ipsum Lorem ipsum\n",
      "Loreg ipsug Loreg ipsug Loreg ipsug Loreg ipsug Loreg ipsug\n",
      "\n"
     ]
    }
   ],
   "source": [
    "file = open(\"new_file.txt\",\"r\")\n",
    "# Напишите свой код здесь:\n",
    "\n",
    "data = file.read()\n",
    "\n",
    "print(data)\n",
    "\n",
    "# конец вашего кода\n",
    "file.close()"
   ]
  },
  {
   "cell_type": "code",
   "execution_count": 9,
   "metadata": {},
   "outputs": [],
   "source": [
    "file = open(\"new_file.txt\",\"a\")\n",
    "# Напишите свой код здесь:\n",
    "text_data = 'Is Not Lorem Ipsam\\nIs Not Lorem Ipsam\\nIs Not Lorem Ipsam\\nIs Not Lorem Ipsam\\nIs Not Lorem Ipsam\\nIs Not Lorem Ipsam'\n",
    "file.write(text_data)\n",
    "# конец вашего кода\n",
    "file.close()"
   ]
  },
  {
   "cell_type": "code",
   "execution_count": 10,
   "metadata": {},
   "outputs": [
    {
     "name": "stdout",
     "output_type": "stream",
     "text": [
      "Lorem ipsum Lorem ipsum Lorem ipsum Lorem ipsum Lorem ipsum\n",
      "Loreg ipsug Loreg ipsug Loreg ipsug Loreg ipsug Loreg ipsug\n",
      "Lorem ipsum Lorem ipsum Lorem ipsum Lorem ipsum Lorem ipsum\n",
      "Loreg ipsug Loreg ipsug Loreg ipsug Loreg ipsug Loreg ipsug\n",
      "Lorem ipsum Lorem ipsum Lorem ipsum Lorem ipsum Lorem ipsum\n",
      "Loreg ipsug Loreg ipsug Loreg ipsug Loreg ipsug Loreg ipsug\n",
      "Is Not Lorem Ipsam\n",
      "Is Not Lorem Ipsam\n",
      "Is Not Lorem Ipsam\n",
      "Is Not Lorem Ipsam\n",
      "Is Not Lorem Ipsam\n",
      "Is Not Lorem Ipsam\n"
     ]
    }
   ],
   "source": [
    "file = open(\"new_file.txt\",\"r\")\n",
    "# Напишите свой код здесь:\n",
    "data = file.read()\n",
    "print(data)\n",
    "# конец вашего кода\n",
    "file.close()"
   ]
  },
  {
   "cell_type": "code",
   "execution_count": null,
   "metadata": {},
   "outputs": [],
   "source": []
  }
 ],
 "metadata": {
  "kernelspec": {
   "display_name": "Python 3",
   "language": "python",
   "name": "python3"
  },
  "language_info": {
   "codemirror_mode": {
    "name": "ipython",
    "version": 3
   },
   "file_extension": ".py",
   "mimetype": "text/x-python",
   "name": "python",
   "nbconvert_exporter": "python",
   "pygments_lexer": "ipython3",
   "version": "3.10.12"
  }
 },
 "nbformat": 4,
 "nbformat_minor": 2
}
