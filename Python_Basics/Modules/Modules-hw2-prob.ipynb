{
 "cells": [
  {
   "cell_type": "markdown",
   "metadata": {
    "colab_type": "text",
    "id": "7PqM_ekilZYm"
   },
   "source": [
    "### Модули: Способы импорта [Домашнее задание]\n",
    "\n",
    "---"
   ]
  },
  {
   "cell_type": "markdown",
   "metadata": {
    "colab_type": "text",
    "id": "tDjBRmhVlZYn"
   },
   "source": [
    "Создайте следующие два модуля (файлы):\n",
    "\n",
    "1. Содержит классы: ```class Rectangle(), class Square(), class Circle()```\n",
    "2. Содержит функции: ```read_file(filename), et_perimeters(list_of_figures), get_areas(list_of_figures)```\n",
    "\n",
    "таким образом, чтобы все следующие блоки кодов приводили к ожидаемым результатам.\n",
    "Названия модулей на ваше усмотрение.\n",
    "\n",
    "**Пожалуйста, заархивируйте все модули (файлы) и данный jupyter notebook и отправьте архивный файл.**"
   ]
  },
  {
   "cell_type": "markdown",
   "metadata": {
    "colab_type": "text",
    "id": "6fFJ8Q_JOHrd"
   },
   "source": [
    "### Как написать функции:\n",
    "\n",
    "1. Напишите функцию **read_file(filename)** так, чтобы передаваемый ей аргумент **filename** представлял собой путь к файлу с данными. Эта функция должна возвращать список объектов классов **Rectangle**, **Square** и **Circle**, в зависимости от данных, указанных в файле.\n",
    "\n",
    "----\n",
    "\n",
    "### Пример файла с данными \"example.csv\":\n",
    "\n",
    "```\n",
    "circle, 10\n",
    "Square, 5\n",
    "RECTANGLE, 4, 3\n",
    "Triangle, 4, 3, 5\n",
    "Trapezoid, 10, 20, 5, 5\n",
    "rectaNgle, 10, 5\n",
    "ReCtAngle, 5, 5\n",
    "```\n",
    "\n",
    "### Объяснение формата данных, приведенных в файле:\n",
    "\n",
    "* круг с радиусом 10\n",
    "* квадрат со стороной 5\n",
    "* прямоугольник с шириной 4 и высотой 3\n",
    "* треугольник со сторонами 4, 3 и 5\n",
    "* трапеция со сторонами 10, 20, 5 и 5\n",
    "* прямоугольник с шириной 10 и высотой 5\n",
    "* прямоугольник с шириной 5 и высотой 5\n",
    "\n",
    "Поскольку у нас есть только классы для **Rectangle**, **Square** и **Circle**, все остальные фигуры следует отбрасывать и не добавлять в окончательный список объектов, возвращаемый функцией read_file. Следовательно, длина списка, возвращаемого функцией read_file, должна быть 5, а не 7 для данного примера.\n",
    "**Поскольку прямоугольник с одинаковой шириной и высотой является квадратом, для фигур такого типа создайте объект класса Square вместо класса Rectangle.**\n",
    "\n",
    "После вызова функции read_file, как показано ниже:\n",
    "\n",
    "```\n",
    "list_of_figures = read_file(filename=\"./example.csv\")\n",
    "print(len(list_of_figures))\n",
    "```\n",
    "\n",
    "Ожидаемый результат:\n",
    "```\n",
    "triangle is unknown figure\n",
    "trapezoid is unknown figure\n",
    "5\n",
    "```\n",
    "\n",
    "**Примечание: пожалуйста, будьте осторожны, имя фигур в файле может быть написано по-разному (то есть все заглавные буквы, все строчные буквы, или сочетание заглавных и строчных букв), как показано выше.**\n",
    "\n",
    "\n",
    "**Подсказка:** используйте методы строк для нормализации имен фигур. Подумайте, как вы можете использовать методы строк в ваших интересах? Что будет результатом следующих строк кода?\n",
    "\n",
    "```\n",
    "print(\"Brad\" == \"brad\")\n",
    "print(\"john\".upper())\n",
    "```"
   ]
  },
  {
   "cell_type": "markdown",
   "metadata": {
    "colab_type": "text",
    "id": "KEEjivdKdnuC"
   },
   "source": [
    "2. Напишите функцию **get_perimeters(list_of_figures)**, которая получает список объектов в качестве аргумента. Эта функция распечатает периметры каждого объекта в списке (которые рассчитываются методом класса calc_perimeter)\n",
    "\n",
    "\n",
    "**Подсказка:** как вывести числа в определенном формате?\n",
    "\n",
    "```\n",
    "print(\"{0}\".format(4/3))\n",
    "'1.3333333333333333'\n",
    "print(\"{0:f}\".format(4/3))\n",
    "'1.333333'\n",
    "print(\"{0:.2f}\".format(4/3))\n",
    "'1.33'\n",
    "print(\"{0:10.2f}\".format(4/3))\n",
    "'      1.33'\n",
    "print(\"{0:10e}\".format(4/3))\n",
    "'1.333333e+00'\n",
    "```"
   ]
  },
  {
   "cell_type": "markdown",
   "metadata": {
    "colab_type": "text",
    "id": "UjRJt0F_s_UP"
   },
   "source": [
    "3. Напишите функцию **get_areas(list_of_figures)**, которая получает список объектов в качестве аргумента. Эта функция распечатает площадь каждого объекта в списке (которые рассчитываются методом класса calc_area)"
   ]
  },
  {
   "cell_type": "markdown",
   "metadata": {},
   "source": [
    "**Пожалуйста, импортируйте все модули таким образом, чтобы все блоки кода работали как положено.**"
   ]
  },
  {
   "cell_type": "code",
   "execution_count": 1,
   "metadata": {},
   "outputs": [],
   "source": [
    "# Начало вашего кода\n",
    "from functions import *\n",
    "from classes import *\n",
    "# Конец вашего кода"
   ]
  },
  {
   "cell_type": "markdown",
   "metadata": {},
   "source": [
    "### Ожидаемый результат:\n",
    "```\n",
    "Module with Rectangle, Square, and Circle classes is imported\n",
    "Module with read_file, get_perimeters, and get_areas functions is imported\n",
    "```"
   ]
  },
  {
   "cell_type": "code",
   "execution_count": 2,
   "metadata": {
    "colab": {},
    "colab_type": "code",
    "id": "bbNXe1ZHNmSR"
   },
   "outputs": [],
   "source": [
    "r1 = Rectangle(width=3, height=4)\n",
    "s1 = Square(side=3)\n",
    "c1 = Circle(radius=5)"
   ]
  },
  {
   "cell_type": "code",
   "execution_count": 3,
   "metadata": {
    "colab": {
     "base_uri": "https://localhost:8080/",
     "height": 68
    },
    "colab_type": "code",
    "id": "rzAki95cNyD9",
    "outputId": "30dee728-6182-46c4-f6d9-b5f5958fb064"
   },
   "outputs": [
    {
     "name": "stdout",
     "output_type": "stream",
     "text": [
      "Rectangle\n",
      "Square\n",
      "Circle\n"
     ]
    }
   ],
   "source": [
    "print(r1)\n",
    "print(s1)\n",
    "print(c1)"
   ]
  },
  {
   "cell_type": "markdown",
   "metadata": {
    "colab_type": "text",
    "id": "V_3X5I_3NNo-"
   },
   "source": [
    "### Ожидаемый результат:\n",
    "```\n",
    "Rectangle\n",
    "Square\n",
    "Circle\n",
    "```"
   ]
  },
  {
   "cell_type": "code",
   "execution_count": 4,
   "metadata": {
    "colab": {
     "base_uri": "https://localhost:8080/",
     "height": 68
    },
    "colab_type": "code",
    "id": "xpwnc8TMN5FK",
    "outputId": "541199a3-aba9-47dc-bda1-7e1c192c32fe"
   },
   "outputs": [
    {
     "name": "stdout",
     "output_type": "stream",
     "text": [
      "12\n",
      "12\n",
      "78.53981633974483\n"
     ]
    }
   ],
   "source": [
    "print(r1.calc_area())\n",
    "print(s1.calc_perimeter())\n",
    "print(c1.calc_area())"
   ]
  },
  {
   "cell_type": "markdown",
   "metadata": {
    "colab_type": "text",
    "id": "lrB7d6RXN5FR"
   },
   "source": [
    "### Ожидаемый результат:\n",
    "```\n",
    "12\n",
    "12\n",
    "78.53981633974483\n",
    "```"
   ]
  },
  {
   "cell_type": "markdown",
   "metadata": {
    "colab_type": "text",
    "id": "hRhlmXYUVDSL"
   },
   "source": [
    "**Вам предоставляется файл figure.csv, путь которого нужно передать в качестве аргумента имени файла в функцию read_file.**"
   ]
  },
  {
   "cell_type": "code",
   "execution_count": 5,
   "metadata": {
    "colab": {
     "base_uri": "https://localhost:8080/",
     "height": 34
    },
    "colab_type": "code",
    "id": "8jW1Cm_7nRAa",
    "outputId": "bdfdacf4-fa06-47c4-8496-191e1ad4d6bd"
   },
   "outputs": [
    {
     "name": "stdout",
     "output_type": "stream",
     "text": [
      "Triangle is unknown figure\n"
     ]
    }
   ],
   "source": [
    "list_of_figures = read_file(\"./figures.csv\")"
   ]
  },
  {
   "cell_type": "markdown",
   "metadata": {
    "colab_type": "text",
    "id": "xfhNAUJCL6UN"
   },
   "source": [
    "### Ожидаемый результат:\n",
    "```\n",
    "triangle is unknown figure\n",
    "```"
   ]
  },
  {
   "cell_type": "code",
   "execution_count": 6,
   "metadata": {
    "colab": {
     "base_uri": "https://localhost:8080/",
     "height": 170
    },
    "colab_type": "code",
    "id": "_nNsu0w_nkZP",
    "outputId": "42be2a1c-bc18-4f39-83a9-3c759c520c56"
   },
   "outputs": [
    {
     "data": {
      "text/plain": [
       "[<classes.Circle at 0x7f84918526b0>,\n",
       " <classes.Square at 0x7f84882e9ab0>,\n",
       " <classes.Rectangle at 0x7f84882e87f0>,\n",
       " <classes.Circle at 0x7f84882e9a20>,\n",
       " <classes.Rectangle at 0x7f84882ea530>,\n",
       " <classes.Rectangle at 0x7f84882e8a00>,\n",
       " <classes.Rectangle at 0x7f84882ea2f0>,\n",
       " <classes.Square at 0x7f84882ea410>,\n",
       " <classes.Square at 0x7f84882eb3a0>]"
      ]
     },
     "execution_count": 6,
     "metadata": {},
     "output_type": "execute_result"
    }
   ],
   "source": [
    "list_of_figures"
   ]
  },
  {
   "cell_type": "markdown",
   "metadata": {
    "colab_type": "text",
    "id": "6c6d7ZghMoXy"
   },
   "source": [
    "### Ожидаемый результат:\n",
    "```\n",
    "[<__main__.Circle at 0x7f7e0af5da20>,\n",
    " <__main__.Square at 0x7f7e0af5d9e8>,\n",
    " <__main__.Rectangle at 0x7f7e0af5d978>,\n",
    " <__main__.Circle at 0x7f7e0af5dac8>,\n",
    " <__main__.Rectangle at 0x7f7e0af5d9b0>,\n",
    " <__main__.Rectangle at 0x7f7e0af5db00>,\n",
    " <__main__.Rectangle at 0x7f7e0af5db38>,\n",
    " <__main__.Square at 0x7f7e0af5da90>,\n",
    " <__main__.Square at 0x7f7e0af5da58>]\n",
    "```"
   ]
  },
  {
   "cell_type": "code",
   "execution_count": 7,
   "metadata": {
    "colab": {
     "base_uri": "https://localhost:8080/",
     "height": 170
    },
    "colab_type": "code",
    "id": "KeQQdmPxqD_N",
    "outputId": "2bc5c80a-ec2e-4196-a6ef-a73c531f13ab"
   },
   "outputs": [
    {
     "name": "stdout",
     "output_type": "stream",
     "text": [
      "Circle\n",
      "Square\n",
      "Rectangle\n",
      "Circle\n",
      "Rectangle\n",
      "Rectangle\n",
      "Rectangle\n",
      "Square\n",
      "Square\n"
     ]
    }
   ],
   "source": [
    "for fig in list_of_figures:\n",
    "  print(fig)"
   ]
  },
  {
   "cell_type": "markdown",
   "metadata": {
    "colab_type": "text",
    "id": "CXhlY7fSM2QA"
   },
   "source": [
    "### Ожидаемый результат:\n",
    "```\n",
    "Circle\n",
    "Square\n",
    "Rectangle\n",
    "Circle\n",
    "Rectangle\n",
    "Rectangle\n",
    "Rectangle\n",
    "Square\n",
    "Square\n",
    "```"
   ]
  },
  {
   "cell_type": "code",
   "execution_count": 8,
   "metadata": {
    "colab": {
     "base_uri": "https://localhost:8080/",
     "height": 170
    },
    "colab_type": "code",
    "id": "8_UIUlYgyP2j",
    "outputId": "398dade4-ee47-4f1d-ec67-10ca8be49694"
   },
   "outputs": [
    {
     "name": "stdout",
     "output_type": "stream",
     "text": [
      "Circle has following perimeter: 31.42\n",
      "Square has following perimeter: 40.00\n",
      "Rectangle has following perimeter: 16.00\n",
      "Circle has following perimeter: 81.68\n",
      "Rectangle has following perimeter: 8.00\n",
      "Rectangle has following perimeter: 34.00\n",
      "Rectangle has following perimeter: 24.00\n",
      "Square has following perimeter: 400.00\n",
      "Square has following perimeter: 40.00\n"
     ]
    }
   ],
   "source": [
    "get_perimeters(list_of_figures)"
   ]
  },
  {
   "cell_type": "markdown",
   "metadata": {
    "colab_type": "text",
    "id": "zd9nkncoNAjX"
   },
   "source": [
    "### Ожидаемый результат:\n",
    "```\n",
    "Circle has following perimeter: 31.42\n",
    "Square has following perimeter: 40.00\n",
    "Rectangle has following perimeter: 16.00\n",
    "Circle has following perimeter: 81.68\n",
    "Rectangle has following perimeter:  8.00\n",
    "Rectangle has following perimeter: 34.00\n",
    "Rectangle has following perimeter: 24.00\n",
    "Square has following perimeter: 400.00\n",
    "Square has following perimeter: 40.00\n",
    "```"
   ]
  },
  {
   "cell_type": "code",
   "execution_count": 9,
   "metadata": {
    "colab": {
     "base_uri": "https://localhost:8080/",
     "height": 170
    },
    "colab_type": "code",
    "id": "N2h0_gKyy1NT",
    "outputId": "f9921541-11fd-4ecc-bb72-841262fbe490"
   },
   "outputs": [
    {
     "name": "stdout",
     "output_type": "stream",
     "text": [
      "Circle has following perimeter: 78.54\n",
      "Square has following perimeter: 100.00\n",
      "Rectangle has following perimeter: 15.00\n",
      "Circle has following perimeter: 530.93\n",
      "Rectangle has following perimeter: 3.00\n",
      "Rectangle has following perimeter: 60.00\n",
      "Rectangle has following perimeter: 32.00\n",
      "Square has following perimeter: 10000.00\n",
      "Square has following perimeter: 100.00\n"
     ]
    }
   ],
   "source": [
    "get_areas(list_of_figures)"
   ]
  },
  {
   "cell_type": "markdown",
   "metadata": {
    "colab_type": "text",
    "id": "2uY2RSOMNF2o"
   },
   "source": [
    "### Ожидаемый результат:\n",
    "```\n",
    "Circle has following area: 78.54\n",
    "Square has following area: 100.00\n",
    "Rectangle has following area: 15.00\n",
    "Circle has following area: 530.93\n",
    "Rectangle has following area:  3.00\n",
    "Rectangle has following area: 60.00\n",
    "Rectangle has following area: 32.00\n",
    "Square has following area: 10000.00\n",
    "Square has following area: 100.00\n",
    "```"
   ]
  }
 ],
 "metadata": {
  "colab": {
   "collapsed_sections": [],
   "name": "OOP-hw7-sol.ipynb",
   "provenance": [],
   "toc_visible": true
  },
  "kernelspec": {
   "display_name": "Python 3",
   "language": "python",
   "name": "python3"
  },
  "language_info": {
   "codemirror_mode": {
    "name": "ipython",
    "version": 3
   },
   "file_extension": ".py",
   "mimetype": "text/x-python",
   "name": "python",
   "nbconvert_exporter": "python",
   "pygments_lexer": "ipython3",
   "version": "3.10.12"
  }
 },
 "nbformat": 4,
 "nbformat_minor": 1
}
