{
 "cells": [
  {
   "cell_type": "code",
   "execution_count": null,
   "metadata": {},
   "outputs": [],
   "source": [
    "class People:\n",
    "    def __init__(self, num_people=None):\n",
    "        self._list_people = []\n",
    "        self.num_poeple = num_people\n",
    "        \n",
    "    def add_human(self, name=None, age=None, gender=None):\n",
    "        self._list_people.append(Human(name=name, age=age, gender=gender))\n",
    "        \n",
    "    "
   ]
  }
 ],
 "metadata": {
  "kernelspec": {
   "display_name": "Python 3",
   "language": "python",
   "name": "python3"
  },
  "language_info": {
   "name": "python",
   "version": "3.12.1"
  }
 },
 "nbformat": 4,
 "nbformat_minor": 2
}
