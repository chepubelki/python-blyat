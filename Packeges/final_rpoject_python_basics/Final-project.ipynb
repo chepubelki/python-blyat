{
 "cells": [
  {
   "cell_type": "markdown",
   "metadata": {},
   "source": [
    "Финальный Проект\n",
    "---"
   ]
  },
  {
   "cell_type": "markdown",
   "metadata": {},
   "source": [
    "Пожалуйста, создайте пакет **education**, который содержит следующие модули:\n",
    "\n",
    "1. users\n",
    "2. organizations\n",
    "\n",
    "Когда вы запускаете пакет напрямую, он должен показывать все модули, указанные в пакете."
   ]
  },
  {
   "cell_type": "markdown",
   "metadata": {},
   "source": [
    "## Описание модулей приведено ниже:"
   ]
  },
  {
   "cell_type": "markdown",
   "metadata": {},
   "source": [
    "### Модуль **users** должен содержать классы **Human, Student(Human), Teacher(Human)**.\n",
    "\n",
    "1. Класс **Human** должен содержать следующую информацию: имя, фамилию, возраст, пол, национальность, а также способы задания этой информации.\n",
    " \n",
    ">``` \n",
    "> h1 = Human(name=\"John\", familyname=\"Wick\", age=35, gender=\"male\", nationality=\"USA\")\n",
    "> ``` \n",
    "\n",
    "Список методов:\n",
    "\n",
    "> ```\n",
    "set_name()\n",
    "set_family()\n",
    "set_age()\n",
    "set_gender()\n",
    "set_nationality()\n",
    "get_info() # возвращает словарь с личной информацией об объекте\n",
    "> ```\n",
    "\n",
    "2. Класс **Student** - это детский класс класса Human. Он должен содержать следующую информацию о каждом студенте: имя, фамилия, возраст, пол, национальность, название школы или университета, список предметов и соответствующие методы для установки этой информации.\n",
    "\n",
    "\n",
    "Список методов в дополнение к списку методов из родительского класса Human:\n",
    "> ```\n",
    "set_school()\n",
    "add_subject() # добавить предмет в список предметов\n",
    "> ```\n",
    "\n",
    "\n",
    "3. Класс **Teacher** - это детский класс класса Human. Он должен содержать следующую информацию о каждом преподавателе: имя, фамилия, возраст, пол, национальность, название школы или университета, предмет преподавания и соответствующие методы для установки этой информации.\n",
    "\n",
    "Список методов в дополнение к списку методов из родительского класса Human:\n",
    "> ```\n",
    "set_school()\n",
    "add_subject() # добавить предмет преподаваемый учителем\n",
    "> ```\n",
    "\n",
    "* При непосредственном запуске модуля **users** напрямую должен отображаться список классов, а также списки методов соответствующих классов, приведенных в модуле.\n",
    "\n",
    "* Когда вы импортируете модуль, он должен показать, что модуль был успешно импортирован.\n",
    "\n",
    "---"
   ]
  },
  {
   "cell_type": "markdown",
   "metadata": {},
   "source": [
    "### Модуль **organizations** должен содержать класс **School**.\n",
    "\n",
    "Класс **School** должен содержать следующую информацию: название или номер школы, адрес школы, номер телефона школы, электронный адрес учебного заведения, количество учеников, количество учителей, а также способы задания этой информации.\n",
    " \n",
    " \n",
    ">``` \n",
    "> s1 = School(name=\"NIS\", address=\"Astana, Kazakhstan\", phone=\"999999\", num_stud=1000, num_teachers=50)\n",
    "> ``` \n",
    "Список методов:\n",
    "> ```\n",
    "set_name()\n",
    "set_address()\n",
    "set_phone()\n",
    "set_email()\n",
    "set_num_stud()\n",
    "set_num_teachers()\n",
    "add_student()\n",
    "add_teacher()\n",
    "get_info() # возвращает словарь с информацией про школу без личной информации студентов / преподавателей\n",
    "get_report() # создает отчет (файл \"csv\") с информацией о школе и о каждом ученике, а также о преподавателе в этой школе. \n",
    "> ```\n",
    "\n",
    "**Пожалуйста, сделайте правильный формат файла CSV (который вы считаете наиболее понятным)**\n",
    "\n",
    "* При непосредственном запуске модуля **organizations** напрямую должен отображаться список классов, а также списки методов соответствующих классов, приведенных в модуле.\n",
    "\n",
    "* Когда вы импортируете модуль, он должен показать, что модуль был успешно импортирован.\n",
    "\n",
    "---"
   ]
  },
  {
   "cell_type": "markdown",
   "metadata": {},
   "source": [
    "### Что делать в jupyter notebook?\n",
    "\n",
    "В этом jupyter notebook, пожалуйста, проверьте все функциональные возможности вашего пакета. Как минимум создайте 2-3 школы, в каждой школе должно быть не менее 10 учеников (с разной информацией), а также как минимум 2 учителя разных предметов и личной информации. **Личная информация этих учеников, учителей и школ не должна быть правдивой (просто выдумайте).**\n",
    "\n",
    "**Пожалуйста, заархивируйте пакет и данный jupyter notebook вместе и отправьте архивный файл.**"
   ]
  },
  {
   "cell_type": "code",
   "execution_count": 8,
   "metadata": {},
   "outputs": [
    {
     "name": "stdout",
     "output_type": "stream",
     "text": [
      "<education.organizations.School object at 0x7f324ffda4a0>\n",
      "Report saved to: AUPET.csv\n"
     ]
    }
   ],
   "source": [
    "from education.organizations import School\n",
    "from education.users import Teacher\n",
    "from education.users import Student\n",
    "\n",
    "\n",
    "school1 = School(name=\"AUPET\", address=\"Almaty, Kazakhstan\",\n",
    "                 phone=\"999999\", num_stud=1000, num_teachers=50)\n",
    "\n",
    "student1 = Student(name=\"Aldik\", familyname=\"Aidarov\", age=20, gender=\"male\",\n",
    "                   nationality=\"Kazakh\", school=\"AUPET\", subjects=['Math', 'Programming'])\n",
    "student2 = Student(name=\"Berik\", familyname=\"Yespaev\", age=21, gender=\"male\",\n",
    "                   nationality=\"Kazakh\", school=\"AUPET\", subjects=['Math', 'Programming'])\n",
    "student3 = Student(name=\"Erbik\", familyname=\"Redjep\", age=21, gender=\"male\",\n",
    "                   nationality=\"Kazakh\", school=\"AUPET\", subjects=['Math', 'Programming'])\n",
    "student4 = Student(name=\"Timik\", familyname=\"Begzhanov\", age=21, gender=\"male\",\n",
    "                   nationality=\"Kazakh\", school=\"AUPET\", subjects=['Math', 'Programming'])\n",
    "student5 = Student(name=\"Madik\", familyname=\"Abdizhamal\", age=20, gender=\"male\",\n",
    "                   nationality=\"Kazakh\", school=\"AUPET\", subjects=['Math', 'Programming'])\n",
    "\n",
    "\n",
    "teacher1 = Teacher(name=\"Jhon\", familyname=\"Smith\", age=44, gender=\"male\",\n",
    "                   nationality=\"Kazakh\", school=\"AUPET\", subjects=['Chemistry', 'Math'])\n",
    "teacher2 = Teacher(name=\"Jane\", familyname=\"Jhons\", age=33, gender=\"female\",\n",
    "                   nationality=\"Russian\", school=\"AUPET\", subjects=['Chemistry', 'Math'])\n",
    "teacher3 = Teacher(name=\"Flick\", familyname=\"Flak\", age=19, gender=\"male\",\n",
    "                   nationality=\"Russian\", school=\"AUPET\", subjects=['Chemistry', 'Math'])\n",
    "teacher4 = Teacher(name=\"Gibi\", familyname=\"Gaba\", age=77, gender=\"female\",\n",
    "                   nationality=\"Kazakh\", school=\"AUPET\", subjects=['Chemistry', 'Math'])\n",
    "teacher5 = Teacher(name=\"Huba\", familyname=\"Buba\", age=55, gender=\"male\",\n",
    "                   nationality=\"Chinese\", school=\"AUPET\", subjects=['Chemistry', 'Math'])\n",
    "\n",
    "\n",
    "school1.add_student(student1)\n",
    "school1.add_student(student2)\n",
    "school1.add_student(student3)\n",
    "school1.add_student(student4)\n",
    "school1.add_student(student5)\n",
    "school1.add_teacher(teacher1)\n",
    "school1.add_teacher(teacher2)\n",
    "school1.add_teacher(teacher3)\n",
    "school1.add_teacher(teacher4)\n",
    "school1.add_teacher(teacher5)\n",
    "\n",
    "print(school1)\n",
    "\n",
    "report_filename = school1.get_report()\n",
    "print(f\"Report saved to: {report_filename}\")\n"
   ]
  },
  {
   "cell_type": "code",
   "execution_count": null,
   "metadata": {},
   "outputs": [],
   "source": []
  },
  {
   "cell_type": "code",
   "execution_count": null,
   "metadata": {},
   "outputs": [],
   "source": []
  }
 ],
 "metadata": {
  "kernelspec": {
   "display_name": "Python 3",
   "language": "python",
   "name": "python3"
  },
  "language_info": {
   "codemirror_mode": {
    "name": "ipython",
    "version": 3
   },
   "file_extension": ".py",
   "mimetype": "text/x-python",
   "name": "python",
   "nbconvert_exporter": "python",
   "pygments_lexer": "ipython3",
   "version": "3.10.12"
  }
 },
 "nbformat": 4,
 "nbformat_minor": 2
}
