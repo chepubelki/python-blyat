{
 "cells": [
  {
   "cell_type": "markdown",
   "metadata": {},
   "source": [
    "### Модули: Введение [Домашнее задание]"
   ]
  },
  {
   "cell_type": "markdown",
   "metadata": {},
   "source": [
    "### Шаг 1:\n",
    "\n",
    "Пожалуйста, создайте модуль **arithmetics**, который содержит следующие функции:\n",
    "\n",
    "1. **add(a, b)** - возвращает сумму двух чисел\n",
    "2. **subtract(a, b)** - возвращает **абсолютную** разницу двух чисел\n",
    "3. **divide(a, b)** - возвращает целочисленное деление большего числа на меньшее число\n",
    "4. **multiply(a, b)** - возвращает произведение двух чисел\n",
    "\n",
    "Затем попробуйте импортировать его и запустить блоки кода ниже. Пожалуйста, приложите **архивный файл** (\".zip\"), который будет содержать **файл модуля и jupyter notebook**.\n",
    "\n",
    "\n",
    "***Примечание: имя файла модуля должно совпадать с импортируемым модулем, а расширение файла должно быть «.py»***\n",
    "\n",
    "---"
   ]
  },
  {
   "cell_type": "code",
   "execution_count": null,
   "metadata": {},
   "outputs": [],
   "source": [
    "import arithmetics"
   ]
  },
  {
   "cell_type": "markdown",
   "metadata": {},
   "source": [
    "### Ожидаемые результаты:\n",
    "```\n",
    "Arithmetics module is imported\n",
    "```"
   ]
  },
  {
   "cell_type": "markdown",
   "metadata": {},
   "source": [
    "Используя **ТОЛЬКО** импортированные функции из модуля arithmetics, пожалуйста, решите следующие задачи."
   ]
  },
  {
   "cell_type": "code",
   "execution_count": null,
   "metadata": {},
   "outputs": [],
   "source": [
    "arr1 = [1,23,3,40,5]\n",
    "arr2 = [10,11,12,5,18]"
   ]
  },
  {
   "cell_type": "code",
   "execution_count": null,
   "metadata": {},
   "outputs": [],
   "source": [
    "sum2nums = []\n",
    "for num1, num2 in zip(arr1, arr2):\n",
    "    sum2nums.append(arithmetics.add(num1,num2))\n",
    "print(sum2nums)"
   ]
  },
  {
   "cell_type": "markdown",
   "metadata": {},
   "source": [
    "### Ожидаемые результаты:\n",
    "```\n",
    "[11, 34, 15, 45, 23]\n",
    "```"
   ]
  },
  {
   "cell_type": "code",
   "execution_count": null,
   "metadata": {},
   "outputs": [],
   "source": [
    "dif2nums = []\n",
    "for num1, num2 in zip(arr1, arr2):\n",
    "    dif2nums.append(arithmetics.subtract(num1,num2))\n",
    "print(dif2nums)"
   ]
  },
  {
   "cell_type": "markdown",
   "metadata": {},
   "source": [
    "### Ожидаемые результаты:\n",
    "```\n",
    "[9, 12, 9, 35, 13]\n",
    "```"
   ]
  },
  {
   "cell_type": "code",
   "execution_count": null,
   "metadata": {},
   "outputs": [],
   "source": [
    "div2nums = []\n",
    "for num1, num2 in zip(arr1, arr2):\n",
    "    div2nums.append(arithmetics.divide(num1,num2))\n",
    "print(div2nums)"
   ]
  },
  {
   "cell_type": "markdown",
   "metadata": {},
   "source": [
    "### Ожидаемые результаты:\n",
    "```\n",
    "[10, 2, 4, 8, 3]\n",
    "```"
   ]
  },
  {
   "cell_type": "code",
   "execution_count": null,
   "metadata": {},
   "outputs": [],
   "source": [
    "mul2nums = []\n",
    "for num1, num2 in zip(arr1, arr2):\n",
    "    mul2nums.append(arithmetics.multiply(num1,num2))\n",
    "print(mul2nums)"
   ]
  },
  {
   "cell_type": "markdown",
   "metadata": {},
   "source": [
    "### Ожидаемые результаты:\n",
    "```\n",
    "[10, 253, 36, 200, 90]\n",
    "```"
   ]
  },
  {
   "cell_type": "markdown",
   "metadata": {},
   "source": [
    "### Шаг 2:\n",
    "\n",
    "Пожалуйста, напишите функцию: test(pred, ref) - возвращает логическое значение True / False, если pred и ref точно совпадают."
   ]
  },
  {
   "cell_type": "code",
   "execution_count": null,
   "metadata": {},
   "outputs": [],
   "source": [
    "# Начало вашего кода\n",
    "\n",
    "# Конец вашего кода\n",
    "\n",
    "print(test(10,11))\n",
    "print(test([1,2,3],[1,2,3]))\n",
    "print(test(\"Hello\",\"hello\"))"
   ]
  },
  {
   "cell_type": "markdown",
   "metadata": {},
   "source": [
    "### Ожидаемые результаты:\n",
    "```\n",
    "False\n",
    "True\n",
    "False\n",
    "```"
   ]
  },
  {
   "cell_type": "markdown",
   "metadata": {},
   "source": [
    "### Шаг 3:\n",
    "\n",
    "Используя ТОЛЬКО импортированные функции из модуля arithmetics, пожалуйста, напишите следующие функции:\n",
    "\n",
    "1. sumList (arr) - возвращает сумму элементов списка arr\n",
    "2. mulList (arr) - возвращает произведение элементов списка arr\n",
    "3. remList (arr1, arr2) - возвращает список остатков после деления большего числа на меньшее среди элементов из списков arr1 и arr2.\n",
    "\n",
    "**Примечание:**\n",
    "\n",
    "- Вы не можете использовать арифметические операции \"+\",\"-\",\"/\",\"*\",\"%\",\"//\", а также встроенную функцию \"sum()\",  для решения этих задач. \n",
    "- Для того, чтобы написать функцию remList(arr1, arr2) вы можете использовать встроенные функции \"max()\" и \"min()\"\n"
   ]
  },
  {
   "cell_type": "code",
   "execution_count": null,
   "metadata": {},
   "outputs": [],
   "source": [
    "def sumList(arr):\n",
    "    # Начало вашего кода\n",
    "\n",
    "    # Конец вашего кода\n",
    "    \n",
    "print(test(sumList(arr1),sum(arr1)))\n",
    "print(test(sumList(arr2),sum(arr2)))"
   ]
  },
  {
   "cell_type": "markdown",
   "metadata": {},
   "source": [
    "### Ожидаемые результаты:\n",
    "```\n",
    "True\n",
    "True\n",
    "```"
   ]
  },
  {
   "cell_type": "code",
   "execution_count": null,
   "metadata": {},
   "outputs": [],
   "source": [
    "def mulList(arr):\n",
    "    # Начало вашего кода\n",
    "\n",
    "    # Конец вашего кода\n",
    "    \n",
    "print(test(mulList(arr1),13800))\n",
    "print(test(mulList(arr2),118800))"
   ]
  },
  {
   "cell_type": "markdown",
   "metadata": {},
   "source": [
    "### Ожидаемые результаты:\n",
    "```\n",
    "True\n",
    "```"
   ]
  },
  {
   "cell_type": "code",
   "execution_count": null,
   "metadata": {},
   "outputs": [],
   "source": [
    "def remList(arr1,arr2):\n",
    "    # Начало вашего кода\n",
    "\n",
    "    # Конец вашего кода\n",
    "    \n",
    "print(test(remList(arr1,arr2),[0, 1, 0, 0, 3]))"
   ]
  },
  {
   "cell_type": "markdown",
   "metadata": {},
   "source": [
    "### Ожидаемые результаты:\n",
    "```\n",
    "True\n",
    "```"
   ]
  }
 ],
 "metadata": {
  "kernelspec": {
   "display_name": "Python 3",
   "language": "python",
   "name": "python3"
  },
  "language_info": {
   "codemirror_mode": {
    "name": "ipython",
    "version": 3
   },
   "file_extension": ".py",
   "mimetype": "text/x-python",
   "name": "python",
   "nbconvert_exporter": "python",
   "pygments_lexer": "ipython3",
   "version": "3.6.5"
  }
 },
 "nbformat": 4,
 "nbformat_minor": 2
}
