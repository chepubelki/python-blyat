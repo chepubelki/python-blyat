{
 "cells": [
  {
   "cell_type": "markdown",
   "metadata": {},
   "source": [
    "### Операторы сравнения [Домашнее задание]\n",
    "\n",
    "Практика использования операторов сравнения & логических операторов."
   ]
  },
  {
   "cell_type": "code",
   "execution_count": 2,
   "metadata": {},
   "outputs": [],
   "source": [
    "num1 = 15\n",
    "num2 = 15.0\n",
    "num3 = 13\n",
    "str1 = \"brad\"\n",
    "str2 = \"BRAD\"\n",
    "str3 = \"Hello World\""
   ]
  },
  {
   "cell_type": "markdown",
   "metadata": {},
   "source": [
    "### Каковы результаты следующих строк кода?\n",
    "```\n",
    "print(num1 > num2)\n",
    "print(num2 >= num3)\n",
    "print(num1 == num3)\n",
    "\n",
    "print(str1 == str2)\n",
    "print(str1 > str2)\n",
    "print(str3 < str2)\n",
    "```"
   ]
  },
  {
   "cell_type": "markdown",
   "metadata": {},
   "source": [
    "Теперь скопируйте код и выведите результаты этих операций.\n",
    "Результаты совпадают с вашими прогнозами?"
   ]
  },
  {
   "cell_type": "code",
   "execution_count": 3,
   "metadata": {},
   "outputs": [
    {
     "name": "stdout",
     "output_type": "stream",
     "text": [
      "False\n",
      "True\n",
      "False\n",
      "False\n",
      "True\n",
      "False\n"
     ]
    }
   ],
   "source": [
    "# Начало вашего кода \n",
    "print(num1 > num2)\n",
    "print(num2 >= num3)\n",
    "print(num1 == num3)\n",
    "\n",
    "# а домашка заключалась в том чтобы просто скопировать и посмотреть на результат?\n",
    "\n",
    "print(str1 == str2)\n",
    "print(str1 > str2)\n",
    "print(str3 < str2)\n",
    "# Конец вашего кода"
   ]
  },
  {
   "cell_type": "markdown",
   "metadata": {},
   "source": [
    "### Ожидаемые результаты:\n",
    "```\n",
    "False\n",
    "True\n",
    "False\n",
    "False\n",
    "True\n",
    "False\n",
    "```"
   ]
  }
 ],
 "metadata": {
  "kernelspec": {
   "display_name": "Python 3 (ipykernel)",
   "language": "python",
   "name": "python3"
  },
  "language_info": {
   "codemirror_mode": {
    "name": "ipython",
    "version": 3
   },
   "file_extension": ".py",
   "mimetype": "text/x-python",
   "name": "python",
   "nbconvert_exporter": "python",
   "pygments_lexer": "ipython3",
   "version": "3.11.5"
  }
 },
 "nbformat": 4,
 "nbformat_minor": 2
}
