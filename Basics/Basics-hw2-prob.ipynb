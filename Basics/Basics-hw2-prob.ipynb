{
 "cells": [
  {
   "cell_type": "markdown",
   "metadata": {},
   "source": [
    "### Арифметические операторы [Домашнее задание]\n",
    "\n",
    "Практика использования арифметических операций.\n",
    "\n",
    "Каковы результаты следующих операций?"
   ]
  },
  {
   "cell_type": "markdown",
   "metadata": {},
   "source": [
    "```\n",
    "1. 5 + 3\n",
    "\n",
    "2. 5 // 3\n",
    "\n",
    "3. 7**2.5\n",
    "\n",
    "4. 2-100\n",
    "\n",
    "5. 3+42.5\n",
    "\n",
    "6. 32.5%6\n",
    "\n",
    "7. 1 / 3\n",
    "```"
   ]
  },
  {
   "cell_type": "markdown",
   "metadata": {},
   "source": [
    "Теперь напишите код на Python и выведите результаты этих операций с помощью print().\n",
    "Результаты совпадают с вашими прогнозами?"
   ]
  },
  {
   "cell_type": "code",
   "execution_count": 2,
   "metadata": {},
   "outputs": [
    {
     "name": "stdout",
     "output_type": "stream",
     "text": [
      "8\n",
      "1\n",
      "129.64181424216494\n",
      "-98\n",
      "45.5\n",
      "2.5\n",
      "0.3333333333333333\n"
     ]
    }
   ],
   "source": [
    "# Начало вашего кода \n",
    "firstNum = 5\n",
    "secondNum = 3\n",
    "thirdNum = 7\n",
    "fourthNum = 2.5\n",
    "fifthNum = 2\n",
    "sixthNum, seventhNum, eighthNum, ninthNum, tenthNum = 100, 42.5, 32.5, 6, 1 \n",
    "# но как я понимаю таким никто не пользуется?(присваиванием нескольких переменных)\n",
    "\n",
    "print(firstNum + secondNum)\n",
    "print(firstNum // secondNum)\n",
    "print(thirdNum ** fourthNum)\n",
    "print(fifthNum - sixthNum)\n",
    "print(secondNum + seventhNum)\n",
    "print(eighthNum % ninthNum)\n",
    "print(tenthNum / secondNum)\n",
    "\n",
    "# Конец вашего кода"
   ]
  },
  {
   "cell_type": "markdown",
   "metadata": {},
   "source": [
    "### Ожидаемый результат:\n",
    "```\n",
    "8\n",
    "1\n",
    "129.64181424216494\n",
    "-98\n",
    "45.5\n",
    "2.5\n",
    "0.3333333333333333\n",
    "```"
   ]
  },
  {
   "cell_type": "code",
   "execution_count": null,
   "metadata": {},
   "outputs": [],
   "source": []
  }
 ],
 "metadata": {
  "kernelspec": {
   "display_name": "Python 3 (ipykernel)",
   "language": "python",
   "name": "python3"
  },
  "language_info": {
   "codemirror_mode": {
    "name": "ipython",
    "version": 3
   },
   "file_extension": ".py",
   "mimetype": "text/x-python",
   "name": "python",
   "nbconvert_exporter": "python",
   "pygments_lexer": "ipython3",
   "version": "3.11.5"
  }
 },
 "nbformat": 4,
 "nbformat_minor": 2
}
