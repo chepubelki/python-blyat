{
 "cells": [
  {
   "cell_type": "code",
   "execution_count": 2,
   "id": "1ca93e69",
   "metadata": {},
   "outputs": [
    {
     "name": "stdout",
     "output_type": "stream",
     "text": [
      "Aldiyar20\n"
     ]
    }
   ],
   "source": [
    "print(\"Aldiyar\" + \" \" + \"20\")"
   ]
  },
  {
   "cell_type": "code",
   "execution_count": 3,
   "id": "da98a991",
   "metadata": {},
   "outputs": [
    {
     "name": "stdout",
     "output_type": "stream",
     "text": [
      "Aldiyar 20\n"
     ]
    }
   ],
   "source": [
    "print(\"Aldiyar\", \"20\")"
   ]
  },
  {
   "cell_type": "code",
   "execution_count": 4,
   "id": "fd2da577",
   "metadata": {},
   "outputs": [
    {
     "name": "stdout",
     "output_type": "stream",
     "text": [
      "Aldiyar 20\n"
     ]
    }
   ],
   "source": [
    "print(\"Aldiyar\", end = \" \")\n",
    "print(20)"
   ]
  },
  {
   "cell_type": "code",
   "execution_count": 6,
   "id": "edcaf6f2",
   "metadata": {},
   "outputs": [
    {
     "name": "stdout",
     "output_type": "stream",
     "text": [
      "Aldiyar _ 20\n"
     ]
    }
   ],
   "source": [
    "print(\"Aldiyar\", 20, sep = \" _ \")"
   ]
  },
  {
   "cell_type": "code",
   "execution_count": 12,
   "id": "d8772979",
   "metadata": {},
   "outputs": [
    {
     "name": "stdout",
     "output_type": "stream",
     "text": [
      "Enter your name:wrfw\n",
      "wrfw\n",
      "Enter your age:32\n",
      "32\n"
     ]
    }
   ],
   "source": [
    "print(input(\"Enter your name:\")) # Print name\n",
    "print(input(\"Enter your age:\")) # Print age\n"
   ]
  },
  {
   "cell_type": "code",
   "execution_count": null,
   "id": "c9f8b20f",
   "metadata": {},
   "outputs": [],
   "source": []
  },
  {
   "cell_type": "code",
   "execution_count": null,
   "id": "d794c14b",
   "metadata": {},
   "outputs": [],
   "source": []
  }
 ],
 "metadata": {
  "kernelspec": {
   "display_name": "Python 3 (ipykernel)",
   "language": "python",
   "name": "python3"
  },
  "language_info": {
   "codemirror_mode": {
    "name": "ipython",
    "version": 3
   },
   "file_extension": ".py",
   "mimetype": "text/x-python",
   "name": "python",
   "nbconvert_exporter": "python",
   "pygments_lexer": "ipython3",
   "version": "3.11.5"
  }
 },
 "nbformat": 4,
 "nbformat_minor": 5
}
